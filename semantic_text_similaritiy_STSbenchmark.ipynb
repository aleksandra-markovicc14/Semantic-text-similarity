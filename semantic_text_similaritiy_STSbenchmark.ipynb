{
  "cells": [
    {
      "cell_type": "markdown",
      "id": "55d6bd02",
      "metadata": {
        "id": "55d6bd02"
      },
      "source": [
        "# Semantic Text Similarity"
      ]
    },
    {
      "cell_type": "markdown",
      "id": "54e86e9e",
      "metadata": {
        "id": "54e86e9e"
      },
      "source": [
        "## Introduction\n",
        "The aim of the assignment is to predict the semantic similarity between pairs of sentences. In order to perform the task **stsbencmark** dataset was provided to perform the task.\n",
        "The stsbenchamrk is composed and organised by pairs of English sentences, to which a score that ranges between 0 and 5 was assigned by humans.\n",
        "The selection of dataset include text from image captions, news headlines and user forums.\n",
        "In order to provide a standard benchmark to compare among meaning representation systems the dataset has been divided into:\n",
        "- **Train set**: dataset used to train the models and see their performance.  \n",
        "- **Development set**: dataset used to tune the hyperparameters of the models.\n",
        "- **Test set**: dataset used to make predictions."
      ]
    },
    {
      "cell_type": "markdown",
      "id": "b3c02b2a",
      "metadata": {
        "id": "b3c02b2a"
      },
      "source": [
        "## Preliminary Analysis\n",
        "In this section a preliminary analysis on the dataset was performed, this allowed to have a better understanding on the dataset available to perform the task.\n",
        "Different methods were applied and in particular some basic statistic methods were used to define some characetristics of it.\n"
      ]
    },
    {
      "cell_type": "markdown",
      "id": "a765ac6f",
      "metadata": {
        "id": "a765ac6f"
      },
      "source": [
        "As a first step, all the necessary **libraries** to perform the task were imported and/or installed."
      ]
    },
    {
      "cell_type": "code",
      "execution_count": null,
      "id": "002ea8a2",
      "metadata": {
        "collapsed": true,
        "id": "002ea8a2",
        "outputId": "1f9ad13c-b0a8-4db5-c570-5e194d69e9ed",
        "colab": {
          "base_uri": "https://localhost:8080/"
        }
      },
      "outputs": [
        {
          "output_type": "stream",
          "name": "stdout",
          "text": [
            "Looking in indexes: https://pypi.org/simple, https://us-python.pkg.dev/colab-wheels/public/simple/\n",
            "Requirement already satisfied: gensim in /usr/local/lib/python3.10/dist-packages (4.3.1)\n",
            "Requirement already satisfied: numpy>=1.18.5 in /usr/local/lib/python3.10/dist-packages (from gensim) (1.22.4)\n",
            "Requirement already satisfied: scipy>=1.7.0 in /usr/local/lib/python3.10/dist-packages (from gensim) (1.10.1)\n",
            "Requirement already satisfied: smart-open>=1.8.1 in /usr/local/lib/python3.10/dist-packages (from gensim) (6.3.0)\n",
            "Looking in indexes: https://pypi.org/simple, https://us-python.pkg.dev/colab-wheels/public/simple/\n",
            "Requirement already satisfied: POT in /usr/local/lib/python3.10/dist-packages (0.9.0)\n",
            "Requirement already satisfied: numpy>=1.16 in /usr/local/lib/python3.10/dist-packages (from POT) (1.22.4)\n",
            "Requirement already satisfied: scipy>=1.0 in /usr/local/lib/python3.10/dist-packages (from POT) (1.10.1)\n",
            "Looking in indexes: https://pypi.org/simple, https://us-python.pkg.dev/colab-wheels/public/simple/\n",
            "Requirement already satisfied: contractions in /usr/local/lib/python3.10/dist-packages (0.1.73)\n",
            "Requirement already satisfied: textsearch>=0.0.21 in /usr/local/lib/python3.10/dist-packages (from contractions) (0.0.24)\n",
            "Requirement already satisfied: anyascii in /usr/local/lib/python3.10/dist-packages (from textsearch>=0.0.21->contractions) (0.3.2)\n",
            "Requirement already satisfied: pyahocorasick in /usr/local/lib/python3.10/dist-packages (from textsearch>=0.0.21->contractions) (2.0.0)\n",
            "Looking in indexes: https://pypi.org/simple, https://us-python.pkg.dev/colab-wheels/public/simple/\n",
            "Requirement already satisfied: iteration-utilities in /usr/local/lib/python3.10/dist-packages (0.11.0)\n",
            "Looking in indexes: https://pypi.org/simple, https://us-python.pkg.dev/colab-wheels/public/simple/\n",
            "Requirement already satisfied: transformers in /usr/local/lib/python3.10/dist-packages (4.29.2)\n",
            "Requirement already satisfied: filelock in /usr/local/lib/python3.10/dist-packages (from transformers) (3.12.0)\n",
            "Requirement already satisfied: huggingface-hub<1.0,>=0.14.1 in /usr/local/lib/python3.10/dist-packages (from transformers) (0.14.1)\n",
            "Requirement already satisfied: numpy>=1.17 in /usr/local/lib/python3.10/dist-packages (from transformers) (1.22.4)\n",
            "Requirement already satisfied: packaging>=20.0 in /usr/local/lib/python3.10/dist-packages (from transformers) (23.1)\n",
            "Requirement already satisfied: pyyaml>=5.1 in /usr/local/lib/python3.10/dist-packages (from transformers) (6.0)\n",
            "Requirement already satisfied: regex!=2019.12.17 in /usr/local/lib/python3.10/dist-packages (from transformers) (2022.10.31)\n",
            "Requirement already satisfied: requests in /usr/local/lib/python3.10/dist-packages (from transformers) (2.27.1)\n",
            "Requirement already satisfied: tokenizers!=0.11.3,<0.14,>=0.11.1 in /usr/local/lib/python3.10/dist-packages (from transformers) (0.13.3)\n",
            "Requirement already satisfied: tqdm>=4.27 in /usr/local/lib/python3.10/dist-packages (from transformers) (4.65.0)\n",
            "Requirement already satisfied: fsspec in /usr/local/lib/python3.10/dist-packages (from huggingface-hub<1.0,>=0.14.1->transformers) (2023.4.0)\n",
            "Requirement already satisfied: typing-extensions>=3.7.4.3 in /usr/local/lib/python3.10/dist-packages (from huggingface-hub<1.0,>=0.14.1->transformers) (4.5.0)\n",
            "Requirement already satisfied: urllib3<1.27,>=1.21.1 in /usr/local/lib/python3.10/dist-packages (from requests->transformers) (1.26.15)\n",
            "Requirement already satisfied: certifi>=2017.4.17 in /usr/local/lib/python3.10/dist-packages (from requests->transformers) (2022.12.7)\n",
            "Requirement already satisfied: charset-normalizer~=2.0.0 in /usr/local/lib/python3.10/dist-packages (from requests->transformers) (2.0.12)\n",
            "Requirement already satisfied: idna<4,>=2.5 in /usr/local/lib/python3.10/dist-packages (from requests->transformers) (3.4)\n",
            "Looking in indexes: https://pypi.org/simple, https://us-python.pkg.dev/colab-wheels/public/simple/\n",
            "Requirement already satisfied: sentence-transformers in /usr/local/lib/python3.10/dist-packages (2.2.2)\n",
            "Requirement already satisfied: transformers<5.0.0,>=4.6.0 in /usr/local/lib/python3.10/dist-packages (from sentence-transformers) (4.29.2)\n",
            "Requirement already satisfied: tqdm in /usr/local/lib/python3.10/dist-packages (from sentence-transformers) (4.65.0)\n",
            "Requirement already satisfied: torch>=1.6.0 in /usr/local/lib/python3.10/dist-packages (from sentence-transformers) (2.0.1+cu118)\n",
            "Requirement already satisfied: torchvision in /usr/local/lib/python3.10/dist-packages (from sentence-transformers) (0.15.2+cu118)\n",
            "Requirement already satisfied: numpy in /usr/local/lib/python3.10/dist-packages (from sentence-transformers) (1.22.4)\n",
            "Requirement already satisfied: scikit-learn in /usr/local/lib/python3.10/dist-packages (from sentence-transformers) (1.2.2)\n",
            "Requirement already satisfied: scipy in /usr/local/lib/python3.10/dist-packages (from sentence-transformers) (1.10.1)\n",
            "Requirement already satisfied: nltk in /usr/local/lib/python3.10/dist-packages (from sentence-transformers) (3.8.1)\n",
            "Requirement already satisfied: sentencepiece in /usr/local/lib/python3.10/dist-packages (from sentence-transformers) (0.1.99)\n",
            "Requirement already satisfied: huggingface-hub>=0.4.0 in /usr/local/lib/python3.10/dist-packages (from sentence-transformers) (0.14.1)\n",
            "Requirement already satisfied: filelock in /usr/local/lib/python3.10/dist-packages (from huggingface-hub>=0.4.0->sentence-transformers) (3.12.0)\n",
            "Requirement already satisfied: fsspec in /usr/local/lib/python3.10/dist-packages (from huggingface-hub>=0.4.0->sentence-transformers) (2023.4.0)\n",
            "Requirement already satisfied: requests in /usr/local/lib/python3.10/dist-packages (from huggingface-hub>=0.4.0->sentence-transformers) (2.27.1)\n",
            "Requirement already satisfied: pyyaml>=5.1 in /usr/local/lib/python3.10/dist-packages (from huggingface-hub>=0.4.0->sentence-transformers) (6.0)\n",
            "Requirement already satisfied: typing-extensions>=3.7.4.3 in /usr/local/lib/python3.10/dist-packages (from huggingface-hub>=0.4.0->sentence-transformers) (4.5.0)\n",
            "Requirement already satisfied: packaging>=20.9 in /usr/local/lib/python3.10/dist-packages (from huggingface-hub>=0.4.0->sentence-transformers) (23.1)\n",
            "Requirement already satisfied: sympy in /usr/local/lib/python3.10/dist-packages (from torch>=1.6.0->sentence-transformers) (1.11.1)\n",
            "Requirement already satisfied: networkx in /usr/local/lib/python3.10/dist-packages (from torch>=1.6.0->sentence-transformers) (3.1)\n",
            "Requirement already satisfied: jinja2 in /usr/local/lib/python3.10/dist-packages (from torch>=1.6.0->sentence-transformers) (3.1.2)\n",
            "Requirement already satisfied: triton==2.0.0 in /usr/local/lib/python3.10/dist-packages (from torch>=1.6.0->sentence-transformers) (2.0.0)\n",
            "Requirement already satisfied: cmake in /usr/local/lib/python3.10/dist-packages (from triton==2.0.0->torch>=1.6.0->sentence-transformers) (3.25.2)\n",
            "Requirement already satisfied: lit in /usr/local/lib/python3.10/dist-packages (from triton==2.0.0->torch>=1.6.0->sentence-transformers) (16.0.5)\n",
            "Requirement already satisfied: regex!=2019.12.17 in /usr/local/lib/python3.10/dist-packages (from transformers<5.0.0,>=4.6.0->sentence-transformers) (2022.10.31)\n",
            "Requirement already satisfied: tokenizers!=0.11.3,<0.14,>=0.11.1 in /usr/local/lib/python3.10/dist-packages (from transformers<5.0.0,>=4.6.0->sentence-transformers) (0.13.3)\n",
            "Requirement already satisfied: click in /usr/local/lib/python3.10/dist-packages (from nltk->sentence-transformers) (8.1.3)\n",
            "Requirement already satisfied: joblib in /usr/local/lib/python3.10/dist-packages (from nltk->sentence-transformers) (1.2.0)\n",
            "Requirement already satisfied: threadpoolctl>=2.0.0 in /usr/local/lib/python3.10/dist-packages (from scikit-learn->sentence-transformers) (3.1.0)\n",
            "Requirement already satisfied: pillow!=8.3.*,>=5.3.0 in /usr/local/lib/python3.10/dist-packages (from torchvision->sentence-transformers) (8.4.0)\n",
            "Requirement already satisfied: MarkupSafe>=2.0 in /usr/local/lib/python3.10/dist-packages (from jinja2->torch>=1.6.0->sentence-transformers) (2.1.2)\n",
            "Requirement already satisfied: urllib3<1.27,>=1.21.1 in /usr/local/lib/python3.10/dist-packages (from requests->huggingface-hub>=0.4.0->sentence-transformers) (1.26.15)\n",
            "Requirement already satisfied: certifi>=2017.4.17 in /usr/local/lib/python3.10/dist-packages (from requests->huggingface-hub>=0.4.0->sentence-transformers) (2022.12.7)\n",
            "Requirement already satisfied: charset-normalizer~=2.0.0 in /usr/local/lib/python3.10/dist-packages (from requests->huggingface-hub>=0.4.0->sentence-transformers) (2.0.12)\n",
            "Requirement already satisfied: idna<4,>=2.5 in /usr/local/lib/python3.10/dist-packages (from requests->huggingface-hub>=0.4.0->sentence-transformers) (3.4)\n",
            "Requirement already satisfied: mpmath>=0.19 in /usr/local/lib/python3.10/dist-packages (from sympy->torch>=1.6.0->sentence-transformers) (1.3.0)\n"
          ]
        }
      ],
      "source": [
        "!pip install --upgrade gensim\n",
        "!pip install POT\n",
        "!pip install contractions\n",
        "!pip install iteration-utilities\n",
        "!pip install transformers\n",
        "!pip install sentence-transformers\n"
      ]
    },
    {
      "cell_type": "code",
      "execution_count": null,
      "id": "7cfbcdfc",
      "metadata": {
        "id": "7cfbcdfc",
        "outputId": "2e2e82c2-e262-4b00-a5d0-ec7fa676d1ee",
        "colab": {
          "base_uri": "https://localhost:8080/"
        }
      },
      "outputs": [
        {
          "output_type": "stream",
          "name": "stderr",
          "text": [
            "[nltk_data] Downloading package stopwords to /root/nltk_data...\n",
            "[nltk_data]   Unzipping corpora/stopwords.zip.\n"
          ]
        }
      ],
      "source": [
        "from pandas import read_csv\n",
        "from csv import QUOTE_NONE\n",
        "from numpy import diag\n",
        "from scipy.stats import pearsonr\n",
        "from sklearn.metrics.pairwise import cosine_similarity\n",
        "import nltk\n",
        "import gensim\n",
        "import numpy as np\n",
        "import pandas as pd\n",
        "\n",
        "import contractions\n",
        "import spacy\n",
        "import en_core_web_sm\n",
        "nlp_model = en_core_web_sm.load()\n",
        "\n",
        "from nltk.corpus import stopwords\n",
        "nltk.download('stopwords')\n",
        "from nltk.tokenize import word_tokenize\n",
        "nlp_model = en_core_web_sm.load()\n",
        "\n",
        "\n",
        "import gensim.downloader as api\n",
        "from scipy.spatial import distance\n",
        "\n",
        "from gensim.test.utils import common_texts\n",
        "from gensim.models import Word2Vec\n",
        "\n",
        "from gensim.models import FastText\n",
        "from gensim.test.utils import datapath\n",
        "\n",
        "#Importing the necessary libraries for TF-IDF\n",
        "import pandas as pd\n",
        "from sklearn.feature_extraction.text import TfidfVectorizer\n",
        "from sklearn.metrics.pairwise import cosine_similarity\n",
        "\n",
        "from scipy.spatial import distance\n",
        "\n",
        "from collections import Counter\n",
        "\n",
        "from iteration_utilities import duplicates\n",
        "\n",
        "import gensim.downloader\n",
        "import matplotlib.pyplot as plt\n",
        "\n",
        "from sklearn.svm import SVR\n",
        "import torch\n",
        "from transformers import BertTokenizer, BertModel\n",
        "from sklearn.svm import SVR\n",
        "\n",
        "from sklearn.metrics import accuracy_score\n",
        "from sklearn.metrics import confusion_matrix\n",
        "from sklearn.model_selection import GridSearchCV\n"
      ]
    },
    {
      "cell_type": "code",
      "source": [
        "from sentence_transformers import SentenceTransformer, util, InputExample, losses, evaluation\n",
        "import math\n",
        "import csv\n",
        "import gzip\n",
        "import os\n",
        "import torch\n",
        "from torch.utils.data import DataLoader\n",
        "from matplotlib import pyplot as plt"
      ],
      "metadata": {
        "id": "NiWCcRcho6NR"
      },
      "id": "NiWCcRcho6NR",
      "execution_count": null,
      "outputs": []
    },
    {
      "cell_type": "markdown",
      "id": "1d00ca7d",
      "metadata": {
        "id": "1d00ca7d"
      },
      "source": [
        "The perlimaniary analysis was mainly performed on the train dataset. Therefore, the train set was imported using the  read_csv function. What has been noticed was that the dataset is composed of the following informations:\n",
        "1. **Genre**: represents the category from which the pair of sentences were extracted. The categories corresponds to three different genres which are: news, captions and forum.\n",
        "2. **Year**\n",
        "3. **Score**: that has been assigned by humans, which decsribes the similarity between the two sentences. The range of the score goes from 0 to 5.\n",
        "4. **Sentence one**\n",
        "5. **Sentence two**"
      ]
    },
    {
      "cell_type": "code",
      "source": [
        "from google.colab import drive\n",
        "drive.mount('/content/drive/')"
      ],
      "metadata": {
        "colab": {
          "base_uri": "https://localhost:8080/"
        },
        "id": "41wfc-Zp7xyO",
        "outputId": "aaf3528a-cdaf-4ea7-a0d2-c59d93276a96"
      },
      "id": "41wfc-Zp7xyO",
      "execution_count": null,
      "outputs": [
        {
          "output_type": "stream",
          "name": "stdout",
          "text": [
            "Mounted at /content/drive/\n"
          ]
        }
      ]
    },
    {
      "cell_type": "code",
      "source": [
        "path_train=\"/content/drive/MyDrive/Colab Notebooks/Assigment NLP/stsbenchmark/sts-train.csv\"\n",
        "path_test=\"/content/drive/MyDrive/Colab Notebooks/Assigment NLP/stsbenchmark/sts-test.csv\"\n",
        "path_dev=\"/content/drive/MyDrive/Colab Notebooks/Assigment NLP/stsbenchmark/sts-dev.csv\"\n",
        "header = ['Genre','Year','Score','Sentence 1','Sentence2']\n",
        "data_train = pd.read_csv(path_train, sep='\\t', usecols=[1,2,4, 5, 6], header=None, quoting=QUOTE_NONE, names=header)\n",
        "data_train"
      ],
      "metadata": {
        "colab": {
          "base_uri": "https://localhost:8080/",
          "height": 423
        },
        "id": "F6B7ZSUn6KMi",
        "outputId": "362bd674-c360-47ed-9953-e2eb67b1392b"
      },
      "id": "F6B7ZSUn6KMi",
      "execution_count": null,
      "outputs": [
        {
          "output_type": "execute_result",
          "data": {
            "text/plain": [
              "          Genre      Year  Score  \\\n",
              "0        MSRvid  2012test   5.00   \n",
              "1        MSRvid  2012test   3.80   \n",
              "2        MSRvid  2012test   3.80   \n",
              "3        MSRvid  2012test   2.60   \n",
              "4        MSRvid  2012test   4.25   \n",
              "...         ...       ...    ...   \n",
              "5744  headlines      2016   0.00   \n",
              "5745  headlines      2016   0.00   \n",
              "5746  headlines      2016   0.00   \n",
              "5747  headlines      2016   0.00   \n",
              "5748  headlines      2016   0.00   \n",
              "\n",
              "                                             Sentence 1  \\\n",
              "0                                A plane is taking off.   \n",
              "1                       A man is playing a large flute.   \n",
              "2         A man is spreading shreded cheese on a pizza.   \n",
              "3                          Three men are playing chess.   \n",
              "4                           A man is playing the cello.   \n",
              "...                                                 ...   \n",
              "5744         Severe Gales As Storm Clodagh Hits Britain   \n",
              "5745  Dozens of Egyptians hostages taken by Libyan t...   \n",
              "5746                       President heading to Bahrain   \n",
              "5747         China, India vow to further bilateral ties   \n",
              "5748   Putin spokesman: Doping charges appear unfounded   \n",
              "\n",
              "                                              Sentence2  \n",
              "0                           An air plane is taking off.  \n",
              "1                             A man is playing a flute.  \n",
              "2     A man is spreading shredded cheese on an uncoo...  \n",
              "3                            Two men are playing chess.  \n",
              "4                    A man seated is playing the cello.  \n",
              "...                                                 ...  \n",
              "5744         Merkel pledges NATO solidarity with Latvia  \n",
              "5745  Egyptian boat crash death toll rises as more b...  \n",
              "5746  President Xi: China to continue help to fight ...  \n",
              "5747  China Scrambles to Reassure Jittery Stock Traders  \n",
              "5748  The Latest on Severe Weather: 1 Dead in Texas ...  \n",
              "\n",
              "[5749 rows x 5 columns]"
            ],
            "text/html": [
              "\n",
              "  <div id=\"df-470976d5-4079-4839-8885-3d5cddd3b8f9\">\n",
              "    <div class=\"colab-df-container\">\n",
              "      <div>\n",
              "<style scoped>\n",
              "    .dataframe tbody tr th:only-of-type {\n",
              "        vertical-align: middle;\n",
              "    }\n",
              "\n",
              "    .dataframe tbody tr th {\n",
              "        vertical-align: top;\n",
              "    }\n",
              "\n",
              "    .dataframe thead th {\n",
              "        text-align: right;\n",
              "    }\n",
              "</style>\n",
              "<table border=\"1\" class=\"dataframe\">\n",
              "  <thead>\n",
              "    <tr style=\"text-align: right;\">\n",
              "      <th></th>\n",
              "      <th>Genre</th>\n",
              "      <th>Year</th>\n",
              "      <th>Score</th>\n",
              "      <th>Sentence 1</th>\n",
              "      <th>Sentence2</th>\n",
              "    </tr>\n",
              "  </thead>\n",
              "  <tbody>\n",
              "    <tr>\n",
              "      <th>0</th>\n",
              "      <td>MSRvid</td>\n",
              "      <td>2012test</td>\n",
              "      <td>5.00</td>\n",
              "      <td>A plane is taking off.</td>\n",
              "      <td>An air plane is taking off.</td>\n",
              "    </tr>\n",
              "    <tr>\n",
              "      <th>1</th>\n",
              "      <td>MSRvid</td>\n",
              "      <td>2012test</td>\n",
              "      <td>3.80</td>\n",
              "      <td>A man is playing a large flute.</td>\n",
              "      <td>A man is playing a flute.</td>\n",
              "    </tr>\n",
              "    <tr>\n",
              "      <th>2</th>\n",
              "      <td>MSRvid</td>\n",
              "      <td>2012test</td>\n",
              "      <td>3.80</td>\n",
              "      <td>A man is spreading shreded cheese on a pizza.</td>\n",
              "      <td>A man is spreading shredded cheese on an uncoo...</td>\n",
              "    </tr>\n",
              "    <tr>\n",
              "      <th>3</th>\n",
              "      <td>MSRvid</td>\n",
              "      <td>2012test</td>\n",
              "      <td>2.60</td>\n",
              "      <td>Three men are playing chess.</td>\n",
              "      <td>Two men are playing chess.</td>\n",
              "    </tr>\n",
              "    <tr>\n",
              "      <th>4</th>\n",
              "      <td>MSRvid</td>\n",
              "      <td>2012test</td>\n",
              "      <td>4.25</td>\n",
              "      <td>A man is playing the cello.</td>\n",
              "      <td>A man seated is playing the cello.</td>\n",
              "    </tr>\n",
              "    <tr>\n",
              "      <th>...</th>\n",
              "      <td>...</td>\n",
              "      <td>...</td>\n",
              "      <td>...</td>\n",
              "      <td>...</td>\n",
              "      <td>...</td>\n",
              "    </tr>\n",
              "    <tr>\n",
              "      <th>5744</th>\n",
              "      <td>headlines</td>\n",
              "      <td>2016</td>\n",
              "      <td>0.00</td>\n",
              "      <td>Severe Gales As Storm Clodagh Hits Britain</td>\n",
              "      <td>Merkel pledges NATO solidarity with Latvia</td>\n",
              "    </tr>\n",
              "    <tr>\n",
              "      <th>5745</th>\n",
              "      <td>headlines</td>\n",
              "      <td>2016</td>\n",
              "      <td>0.00</td>\n",
              "      <td>Dozens of Egyptians hostages taken by Libyan t...</td>\n",
              "      <td>Egyptian boat crash death toll rises as more b...</td>\n",
              "    </tr>\n",
              "    <tr>\n",
              "      <th>5746</th>\n",
              "      <td>headlines</td>\n",
              "      <td>2016</td>\n",
              "      <td>0.00</td>\n",
              "      <td>President heading to Bahrain</td>\n",
              "      <td>President Xi: China to continue help to fight ...</td>\n",
              "    </tr>\n",
              "    <tr>\n",
              "      <th>5747</th>\n",
              "      <td>headlines</td>\n",
              "      <td>2016</td>\n",
              "      <td>0.00</td>\n",
              "      <td>China, India vow to further bilateral ties</td>\n",
              "      <td>China Scrambles to Reassure Jittery Stock Traders</td>\n",
              "    </tr>\n",
              "    <tr>\n",
              "      <th>5748</th>\n",
              "      <td>headlines</td>\n",
              "      <td>2016</td>\n",
              "      <td>0.00</td>\n",
              "      <td>Putin spokesman: Doping charges appear unfounded</td>\n",
              "      <td>The Latest on Severe Weather: 1 Dead in Texas ...</td>\n",
              "    </tr>\n",
              "  </tbody>\n",
              "</table>\n",
              "<p>5749 rows × 5 columns</p>\n",
              "</div>\n",
              "      <button class=\"colab-df-convert\" onclick=\"convertToInteractive('df-470976d5-4079-4839-8885-3d5cddd3b8f9')\"\n",
              "              title=\"Convert this dataframe to an interactive table.\"\n",
              "              style=\"display:none;\">\n",
              "        \n",
              "  <svg xmlns=\"http://www.w3.org/2000/svg\" height=\"24px\"viewBox=\"0 0 24 24\"\n",
              "       width=\"24px\">\n",
              "    <path d=\"M0 0h24v24H0V0z\" fill=\"none\"/>\n",
              "    <path d=\"M18.56 5.44l.94 2.06.94-2.06 2.06-.94-2.06-.94-.94-2.06-.94 2.06-2.06.94zm-11 1L8.5 8.5l.94-2.06 2.06-.94-2.06-.94L8.5 2.5l-.94 2.06-2.06.94zm10 10l.94 2.06.94-2.06 2.06-.94-2.06-.94-.94-2.06-.94 2.06-2.06.94z\"/><path d=\"M17.41 7.96l-1.37-1.37c-.4-.4-.92-.59-1.43-.59-.52 0-1.04.2-1.43.59L10.3 9.45l-7.72 7.72c-.78.78-.78 2.05 0 2.83L4 21.41c.39.39.9.59 1.41.59.51 0 1.02-.2 1.41-.59l7.78-7.78 2.81-2.81c.8-.78.8-2.07 0-2.86zM5.41 20L4 18.59l7.72-7.72 1.47 1.35L5.41 20z\"/>\n",
              "  </svg>\n",
              "      </button>\n",
              "      \n",
              "  <style>\n",
              "    .colab-df-container {\n",
              "      display:flex;\n",
              "      flex-wrap:wrap;\n",
              "      gap: 12px;\n",
              "    }\n",
              "\n",
              "    .colab-df-convert {\n",
              "      background-color: #E8F0FE;\n",
              "      border: none;\n",
              "      border-radius: 50%;\n",
              "      cursor: pointer;\n",
              "      display: none;\n",
              "      fill: #1967D2;\n",
              "      height: 32px;\n",
              "      padding: 0 0 0 0;\n",
              "      width: 32px;\n",
              "    }\n",
              "\n",
              "    .colab-df-convert:hover {\n",
              "      background-color: #E2EBFA;\n",
              "      box-shadow: 0px 1px 2px rgba(60, 64, 67, 0.3), 0px 1px 3px 1px rgba(60, 64, 67, 0.15);\n",
              "      fill: #174EA6;\n",
              "    }\n",
              "\n",
              "    [theme=dark] .colab-df-convert {\n",
              "      background-color: #3B4455;\n",
              "      fill: #D2E3FC;\n",
              "    }\n",
              "\n",
              "    [theme=dark] .colab-df-convert:hover {\n",
              "      background-color: #434B5C;\n",
              "      box-shadow: 0px 1px 3px 1px rgba(0, 0, 0, 0.15);\n",
              "      filter: drop-shadow(0px 1px 2px rgba(0, 0, 0, 0.3));\n",
              "      fill: #FFFFFF;\n",
              "    }\n",
              "  </style>\n",
              "\n",
              "      <script>\n",
              "        const buttonEl =\n",
              "          document.querySelector('#df-470976d5-4079-4839-8885-3d5cddd3b8f9 button.colab-df-convert');\n",
              "        buttonEl.style.display =\n",
              "          google.colab.kernel.accessAllowed ? 'block' : 'none';\n",
              "\n",
              "        async function convertToInteractive(key) {\n",
              "          const element = document.querySelector('#df-470976d5-4079-4839-8885-3d5cddd3b8f9');\n",
              "          const dataTable =\n",
              "            await google.colab.kernel.invokeFunction('convertToInteractive',\n",
              "                                                     [key], {});\n",
              "          if (!dataTable) return;\n",
              "\n",
              "          const docLinkHtml = 'Like what you see? Visit the ' +\n",
              "            '<a target=\"_blank\" href=https://colab.research.google.com/notebooks/data_table.ipynb>data table notebook</a>'\n",
              "            + ' to learn more about interactive tables.';\n",
              "          element.innerHTML = '';\n",
              "          dataTable['output_type'] = 'display_data';\n",
              "          await google.colab.output.renderOutput(dataTable, element);\n",
              "          const docLink = document.createElement('div');\n",
              "          docLink.innerHTML = docLinkHtml;\n",
              "          element.appendChild(docLink);\n",
              "        }\n",
              "      </script>\n",
              "    </div>\n",
              "  </div>\n",
              "  "
            ]
          },
          "metadata": {},
          "execution_count": 14
        }
      ]
    },
    {
      "cell_type": "markdown",
      "id": "f6dd6724",
      "metadata": {
        "id": "f6dd6724"
      },
      "source": [
        "Once visualized the dataset, the idea was to see how many pairs of sentences were available for each of the **Genre**.\n",
        "To extract which were the different genres, the **set function** was used.\n",
        "The only genres present in the train set, as it can be seen are:\n",
        "- MSRpar\n",
        "- Deft-forum\n",
        "- Images\n",
        "- Deft-news\n",
        "- Headlines\n",
        "- MSRvid"
      ]
    },
    {
      "cell_type": "code",
      "execution_count": null,
      "id": "c68fb359",
      "metadata": {
        "id": "c68fb359"
      },
      "outputs": [],
      "source": [
        "categories =  data_train[\"Genre\"].tolist()\n",
        "labels = set(categories)"
      ]
    },
    {
      "cell_type": "code",
      "execution_count": null,
      "id": "0239b262",
      "metadata": {
        "id": "0239b262",
        "outputId": "da071b13-0bce-489b-a940-165800197c7f"
      },
      "outputs": [
        {
          "name": "stdout",
          "output_type": "stream",
          "text": [
            "{'MSRpar', 'deft-forum', 'images', 'deft-news', 'headlines', 'MSRvid'}\n"
          ]
        }
      ],
      "source": [
        "print(labels)"
      ]
    },
    {
      "cell_type": "markdown",
      "id": "be6baa32",
      "metadata": {
        "id": "be6baa32"
      },
      "source": [
        "Once the different genres were known, for each of them their frequency of apperance in the dataset was counted."
      ]
    },
    {
      "cell_type": "code",
      "execution_count": null,
      "id": "9b1730c7",
      "metadata": {
        "id": "9b1730c7",
        "outputId": "598d3f44-7690-4c8e-90d1-9b3fd5189925"
      },
      "outputs": [
        {
          "data": {
            "text/plain": [
              "Counter({'MSRvid': 1000,\n",
              "         'images': 1000,\n",
              "         'deft-forum': 450,\n",
              "         'MSRpar': 1000,\n",
              "         'deft-news': 300,\n",
              "         'headlines': 1999})"
            ]
          },
          "execution_count": 12,
          "metadata": {},
          "output_type": "execute_result"
        }
      ],
      "source": [
        "label_count= Counter(categories)\n",
        "label_count"
      ]
    },
    {
      "cell_type": "code",
      "execution_count": null,
      "id": "03f4ed21",
      "metadata": {
        "id": "03f4ed21",
        "outputId": "b5945d12-55dc-418e-ca75-020334fbbf81"
      },
      "outputs": [
        {
          "data": {
            "text/plain": [
              "dict_keys(['MSRvid', 'images', 'deft-forum', 'MSRpar', 'deft-news', 'headlines'])"
            ]
          },
          "execution_count": 13,
          "metadata": {},
          "output_type": "execute_result"
        }
      ],
      "source": [
        "label_count.keys()"
      ]
    },
    {
      "cell_type": "markdown",
      "id": "659958da",
      "metadata": {
        "id": "659958da"
      },
      "source": [
        "Finally, a **plot** was realized by taking into consideration the frequency of appearance of each genre in the train set, as it can be seen in the cell below."
      ]
    },
    {
      "cell_type": "code",
      "execution_count": null,
      "id": "b599d227",
      "metadata": {
        "id": "b599d227",
        "outputId": "181b0ee5-de41-4182-8e3b-00d3c08ef468"
      },
      "outputs": [
        {
          "data": {
            "image/png": "[encoded data removed]",
            "text/plain": [
              "<Figure size 576x360 with 1 Axes>"
            ]
          },
          "metadata": {
            "needs_background": "light"
          },
          "output_type": "display_data"
        }
      ],
      "source": [
        "from matplotlib import pyplot as plt\n",
        "%matplotlib inline\n",
        "\n",
        "plt.figure(figsize=(8, 5))\n",
        "plt.barh(range(len(label_count)), label_count.values())\n",
        "plt.yticks(range(len(label_count)), label_count.keys())\n",
        "plt.xscale('log')\n",
        "plt.xlim([1, 10000])\n",
        "plt.show()"
      ]
    },
    {
      "cell_type": "markdown",
      "id": "83c3d5a8",
      "metadata": {
        "id": "83c3d5a8"
      },
      "source": [
        "Subsequently, the decision  was to extract for all the  samples in the different datasets just the columns 4, 5 and 6 which respectively corresponds to:\n",
        "- **Score**\n",
        "- **Sentence 1**\n",
        "- **Sentence 2**\n",
        "In order to keep the relevant informations to perfrom the comparison between sentences."
      ]
    },
    {
      "cell_type": "code",
      "execution_count": null,
      "id": "738c577d",
      "metadata": {
        "collapsed": true,
        "id": "738c577d",
        "outputId": "af3b877c-f1e1-496e-d06b-3d4996ea78d6",
        "colab": {
          "base_uri": "https://localhost:8080/",
          "height": 423
        }
      },
      "outputs": [
        {
          "output_type": "execute_result",
          "data": {
            "text/plain": [
              "      Score                                         Sentence 1  \\\n",
              "0      5.00                             A plane is taking off.   \n",
              "1      3.80                    A man is playing a large flute.   \n",
              "2      3.80      A man is spreading shreded cheese on a pizza.   \n",
              "3      2.60                       Three men are playing chess.   \n",
              "4      4.25                        A man is playing the cello.   \n",
              "...     ...                                                ...   \n",
              "5744   0.00         Severe Gales As Storm Clodagh Hits Britain   \n",
              "5745   0.00  Dozens of Egyptians hostages taken by Libyan t...   \n",
              "5746   0.00                       President heading to Bahrain   \n",
              "5747   0.00         China, India vow to further bilateral ties   \n",
              "5748   0.00   Putin spokesman: Doping charges appear unfounded   \n",
              "\n",
              "                                             Sentence 2  \n",
              "0                           An air plane is taking off.  \n",
              "1                             A man is playing a flute.  \n",
              "2     A man is spreading shredded cheese on an uncoo...  \n",
              "3                            Two men are playing chess.  \n",
              "4                    A man seated is playing the cello.  \n",
              "...                                                 ...  \n",
              "5744         Merkel pledges NATO solidarity with Latvia  \n",
              "5745  Egyptian boat crash death toll rises as more b...  \n",
              "5746  President Xi: China to continue help to fight ...  \n",
              "5747  China Scrambles to Reassure Jittery Stock Traders  \n",
              "5748  The Latest on Severe Weather: 1 Dead in Texas ...  \n",
              "\n",
              "[5749 rows x 3 columns]"
            ],
            "text/html": [
              "\n",
              "  <div id=\"df-dfd23023-ffb6-4812-8275-cbe8243cf009\">\n",
              "    <div class=\"colab-df-container\">\n",
              "      <div>\n",
              "<style scoped>\n",
              "    .dataframe tbody tr th:only-of-type {\n",
              "        vertical-align: middle;\n",
              "    }\n",
              "\n",
              "    .dataframe tbody tr th {\n",
              "        vertical-align: top;\n",
              "    }\n",
              "\n",
              "    .dataframe thead th {\n",
              "        text-align: right;\n",
              "    }\n",
              "</style>\n",
              "<table border=\"1\" class=\"dataframe\">\n",
              "  <thead>\n",
              "    <tr style=\"text-align: right;\">\n",
              "      <th></th>\n",
              "      <th>Score</th>\n",
              "      <th>Sentence 1</th>\n",
              "      <th>Sentence 2</th>\n",
              "    </tr>\n",
              "  </thead>\n",
              "  <tbody>\n",
              "    <tr>\n",
              "      <th>0</th>\n",
              "      <td>5.00</td>\n",
              "      <td>A plane is taking off.</td>\n",
              "      <td>An air plane is taking off.</td>\n",
              "    </tr>\n",
              "    <tr>\n",
              "      <th>1</th>\n",
              "      <td>3.80</td>\n",
              "      <td>A man is playing a large flute.</td>\n",
              "      <td>A man is playing a flute.</td>\n",
              "    </tr>\n",
              "    <tr>\n",
              "      <th>2</th>\n",
              "      <td>3.80</td>\n",
              "      <td>A man is spreading shreded cheese on a pizza.</td>\n",
              "      <td>A man is spreading shredded cheese on an uncoo...</td>\n",
              "    </tr>\n",
              "    <tr>\n",
              "      <th>3</th>\n",
              "      <td>2.60</td>\n",
              "      <td>Three men are playing chess.</td>\n",
              "      <td>Two men are playing chess.</td>\n",
              "    </tr>\n",
              "    <tr>\n",
              "      <th>4</th>\n",
              "      <td>4.25</td>\n",
              "      <td>A man is playing the cello.</td>\n",
              "      <td>A man seated is playing the cello.</td>\n",
              "    </tr>\n",
              "    <tr>\n",
              "      <th>...</th>\n",
              "      <td>...</td>\n",
              "      <td>...</td>\n",
              "      <td>...</td>\n",
              "    </tr>\n",
              "    <tr>\n",
              "      <th>5744</th>\n",
              "      <td>0.00</td>\n",
              "      <td>Severe Gales As Storm Clodagh Hits Britain</td>\n",
              "      <td>Merkel pledges NATO solidarity with Latvia</td>\n",
              "    </tr>\n",
              "    <tr>\n",
              "      <th>5745</th>\n",
              "      <td>0.00</td>\n",
              "      <td>Dozens of Egyptians hostages taken by Libyan t...</td>\n",
              "      <td>Egyptian boat crash death toll rises as more b...</td>\n",
              "    </tr>\n",
              "    <tr>\n",
              "      <th>5746</th>\n",
              "      <td>0.00</td>\n",
              "      <td>President heading to Bahrain</td>\n",
              "      <td>President Xi: China to continue help to fight ...</td>\n",
              "    </tr>\n",
              "    <tr>\n",
              "      <th>5747</th>\n",
              "      <td>0.00</td>\n",
              "      <td>China, India vow to further bilateral ties</td>\n",
              "      <td>China Scrambles to Reassure Jittery Stock Traders</td>\n",
              "    </tr>\n",
              "    <tr>\n",
              "      <th>5748</th>\n",
              "      <td>0.00</td>\n",
              "      <td>Putin spokesman: Doping charges appear unfounded</td>\n",
              "      <td>The Latest on Severe Weather: 1 Dead in Texas ...</td>\n",
              "    </tr>\n",
              "  </tbody>\n",
              "</table>\n",
              "<p>5749 rows × 3 columns</p>\n",
              "</div>\n",
              "      <button class=\"colab-df-convert\" onclick=\"convertToInteractive('df-dfd23023-ffb6-4812-8275-cbe8243cf009')\"\n",
              "              title=\"Convert this dataframe to an interactive table.\"\n",
              "              style=\"display:none;\">\n",
              "        \n",
              "  <svg xmlns=\"http://www.w3.org/2000/svg\" height=\"24px\"viewBox=\"0 0 24 24\"\n",
              "       width=\"24px\">\n",
              "    <path d=\"M0 0h24v24H0V0z\" fill=\"none\"/>\n",
              "    <path d=\"M18.56 5.44l.94 2.06.94-2.06 2.06-.94-2.06-.94-.94-2.06-.94 2.06-2.06.94zm-11 1L8.5 8.5l.94-2.06 2.06-.94-2.06-.94L8.5 2.5l-.94 2.06-2.06.94zm10 10l.94 2.06.94-2.06 2.06-.94-2.06-.94-.94-2.06-.94 2.06-2.06.94z\"/><path d=\"M17.41 7.96l-1.37-1.37c-.4-.4-.92-.59-1.43-.59-.52 0-1.04.2-1.43.59L10.3 9.45l-7.72 7.72c-.78.78-.78 2.05 0 2.83L4 21.41c.39.39.9.59 1.41.59.51 0 1.02-.2 1.41-.59l7.78-7.78 2.81-2.81c.8-.78.8-2.07 0-2.86zM5.41 20L4 18.59l7.72-7.72 1.47 1.35L5.41 20z\"/>\n",
              "  </svg>\n",
              "      </button>\n",
              "      \n",
              "  <style>\n",
              "    .colab-df-container {\n",
              "      display:flex;\n",
              "      flex-wrap:wrap;\n",
              "      gap: 12px;\n",
              "    }\n",
              "\n",
              "    .colab-df-convert {\n",
              "      background-color: #E8F0FE;\n",
              "      border: none;\n",
              "      border-radius: 50%;\n",
              "      cursor: pointer;\n",
              "      display: none;\n",
              "      fill: #1967D2;\n",
              "      height: 32px;\n",
              "      padding: 0 0 0 0;\n",
              "      width: 32px;\n",
              "    }\n",
              "\n",
              "    .colab-df-convert:hover {\n",
              "      background-color: #E2EBFA;\n",
              "      box-shadow: 0px 1px 2px rgba(60, 64, 67, 0.3), 0px 1px 3px 1px rgba(60, 64, 67, 0.15);\n",
              "      fill: #174EA6;\n",
              "    }\n",
              "\n",
              "    [theme=dark] .colab-df-convert {\n",
              "      background-color: #3B4455;\n",
              "      fill: #D2E3FC;\n",
              "    }\n",
              "\n",
              "    [theme=dark] .colab-df-convert:hover {\n",
              "      background-color: #434B5C;\n",
              "      box-shadow: 0px 1px 3px 1px rgba(0, 0, 0, 0.15);\n",
              "      filter: drop-shadow(0px 1px 2px rgba(0, 0, 0, 0.3));\n",
              "      fill: #FFFFFF;\n",
              "    }\n",
              "  </style>\n",
              "\n",
              "      <script>\n",
              "        const buttonEl =\n",
              "          document.querySelector('#df-dfd23023-ffb6-4812-8275-cbe8243cf009 button.colab-df-convert');\n",
              "        buttonEl.style.display =\n",
              "          google.colab.kernel.accessAllowed ? 'block' : 'none';\n",
              "\n",
              "        async function convertToInteractive(key) {\n",
              "          const element = document.querySelector('#df-dfd23023-ffb6-4812-8275-cbe8243cf009');\n",
              "          const dataTable =\n",
              "            await google.colab.kernel.invokeFunction('convertToInteractive',\n",
              "                                                     [key], {});\n",
              "          if (!dataTable) return;\n",
              "\n",
              "          const docLinkHtml = 'Like what you see? Visit the ' +\n",
              "            '<a target=\"_blank\" href=https://colab.research.google.com/notebooks/data_table.ipynb>data table notebook</a>'\n",
              "            + ' to learn more about interactive tables.';\n",
              "          element.innerHTML = '';\n",
              "          dataTable['output_type'] = 'display_data';\n",
              "          await google.colab.output.renderOutput(dataTable, element);\n",
              "          const docLink = document.createElement('div');\n",
              "          docLink.innerHTML = docLinkHtml;\n",
              "          element.appendChild(docLink);\n",
              "        }\n",
              "      </script>\n",
              "    </div>\n",
              "  </div>\n",
              "  "
            ]
          },
          "metadata": {},
          "execution_count": 15
        }
      ],
      "source": [
        "data_train = pd.read_csv(path_train, sep='\\t', usecols=[4, 5, 6], names=[\"Score\", \"Sentence 1\", \"Sentence 2\"],header=None, quoting=QUOTE_NONE)\n",
        "data_train"
      ]
    },
    {
      "cell_type": "code",
      "execution_count": null,
      "id": "10fd8c48",
      "metadata": {
        "id": "10fd8c48",
        "outputId": "4c942e2c-7f65-43ff-ddee-13eae8b79ee1",
        "colab": {
          "base_uri": "https://localhost:8080/",
          "height": 423
        }
      },
      "outputs": [
        {
          "output_type": "execute_result",
          "data": {
            "text/plain": [
              "      Score                                         Sentence 1  \\\n",
              "0      5.00                  A man with a hard hat is dancing.   \n",
              "1      4.75                   A young child is riding a horse.   \n",
              "2      5.00               A man is feeding a mouse to a snake.   \n",
              "3      2.40                     A woman is playing the guitar.   \n",
              "4      2.75                      A woman is playing the flute.   \n",
              "...     ...                                                ...   \n",
              "1495   2.00            Scientists prove there is water on Mars   \n",
              "1496   0.00  Pranab stresses need to strive for peace by na...   \n",
              "1497   2.00  Volkswagen skids into red in wake of pollution...   \n",
              "1498   0.00  Obama is right: Africa deserves better leadership   \n",
              "1499   0.00  New video shows US police officers beating men...   \n",
              "\n",
              "                                             Sentence 2  \n",
              "0                  A man wearing a hard hat is dancing.  \n",
              "1                            A child is riding a horse.  \n",
              "2              The man is feeding a mouse to the snake.  \n",
              "3                              A man is playing guitar.  \n",
              "4                             A man is playing a flute.  \n",
              "...                                                 ...  \n",
              "1495                 Has Nasa discovered water on Mars?  \n",
              "1496     WTO: India regrets action of developed nations  \n",
              "1497  Volkswagen's \"gesture of goodwill\" to diesel o...  \n",
              "1498  Obama waiting for midterm to name attorney gen...  \n",
              "1499  New York police officer critically wounded in ...  \n",
              "\n",
              "[1500 rows x 3 columns]"
            ],
            "text/html": [
              "\n",
              "  <div id=\"df-a6885956-123a-4be4-b942-81f51767da22\">\n",
              "    <div class=\"colab-df-container\">\n",
              "      <div>\n",
              "<style scoped>\n",
              "    .dataframe tbody tr th:only-of-type {\n",
              "        vertical-align: middle;\n",
              "    }\n",
              "\n",
              "    .dataframe tbody tr th {\n",
              "        vertical-align: top;\n",
              "    }\n",
              "\n",
              "    .dataframe thead th {\n",
              "        text-align: right;\n",
              "    }\n",
              "</style>\n",
              "<table border=\"1\" class=\"dataframe\">\n",
              "  <thead>\n",
              "    <tr style=\"text-align: right;\">\n",
              "      <th></th>\n",
              "      <th>Score</th>\n",
              "      <th>Sentence 1</th>\n",
              "      <th>Sentence 2</th>\n",
              "    </tr>\n",
              "  </thead>\n",
              "  <tbody>\n",
              "    <tr>\n",
              "      <th>0</th>\n",
              "      <td>5.00</td>\n",
              "      <td>A man with a hard hat is dancing.</td>\n",
              "      <td>A man wearing a hard hat is dancing.</td>\n",
              "    </tr>\n",
              "    <tr>\n",
              "      <th>1</th>\n",
              "      <td>4.75</td>\n",
              "      <td>A young child is riding a horse.</td>\n",
              "      <td>A child is riding a horse.</td>\n",
              "    </tr>\n",
              "    <tr>\n",
              "      <th>2</th>\n",
              "      <td>5.00</td>\n",
              "      <td>A man is feeding a mouse to a snake.</td>\n",
              "      <td>The man is feeding a mouse to the snake.</td>\n",
              "    </tr>\n",
              "    <tr>\n",
              "      <th>3</th>\n",
              "      <td>2.40</td>\n",
              "      <td>A woman is playing the guitar.</td>\n",
              "      <td>A man is playing guitar.</td>\n",
              "    </tr>\n",
              "    <tr>\n",
              "      <th>4</th>\n",
              "      <td>2.75</td>\n",
              "      <td>A woman is playing the flute.</td>\n",
              "      <td>A man is playing a flute.</td>\n",
              "    </tr>\n",
              "    <tr>\n",
              "      <th>...</th>\n",
              "      <td>...</td>\n",
              "      <td>...</td>\n",
              "      <td>...</td>\n",
              "    </tr>\n",
              "    <tr>\n",
              "      <th>1495</th>\n",
              "      <td>2.00</td>\n",
              "      <td>Scientists prove there is water on Mars</td>\n",
              "      <td>Has Nasa discovered water on Mars?</td>\n",
              "    </tr>\n",
              "    <tr>\n",
              "      <th>1496</th>\n",
              "      <td>0.00</td>\n",
              "      <td>Pranab stresses need to strive for peace by na...</td>\n",
              "      <td>WTO: India regrets action of developed nations</td>\n",
              "    </tr>\n",
              "    <tr>\n",
              "      <th>1497</th>\n",
              "      <td>2.00</td>\n",
              "      <td>Volkswagen skids into red in wake of pollution...</td>\n",
              "      <td>Volkswagen's \"gesture of goodwill\" to diesel o...</td>\n",
              "    </tr>\n",
              "    <tr>\n",
              "      <th>1498</th>\n",
              "      <td>0.00</td>\n",
              "      <td>Obama is right: Africa deserves better leadership</td>\n",
              "      <td>Obama waiting for midterm to name attorney gen...</td>\n",
              "    </tr>\n",
              "    <tr>\n",
              "      <th>1499</th>\n",
              "      <td>0.00</td>\n",
              "      <td>New video shows US police officers beating men...</td>\n",
              "      <td>New York police officer critically wounded in ...</td>\n",
              "    </tr>\n",
              "  </tbody>\n",
              "</table>\n",
              "<p>1500 rows × 3 columns</p>\n",
              "</div>\n",
              "      <button class=\"colab-df-convert\" onclick=\"convertToInteractive('df-a6885956-123a-4be4-b942-81f51767da22')\"\n",
              "              title=\"Convert this dataframe to an interactive table.\"\n",
              "              style=\"display:none;\">\n",
              "        \n",
              "  <svg xmlns=\"http://www.w3.org/2000/svg\" height=\"24px\"viewBox=\"0 0 24 24\"\n",
              "       width=\"24px\">\n",
              "    <path d=\"M0 0h24v24H0V0z\" fill=\"none\"/>\n",
              "    <path d=\"M18.56 5.44l.94 2.06.94-2.06 2.06-.94-2.06-.94-.94-2.06-.94 2.06-2.06.94zm-11 1L8.5 8.5l.94-2.06 2.06-.94-2.06-.94L8.5 2.5l-.94 2.06-2.06.94zm10 10l.94 2.06.94-2.06 2.06-.94-2.06-.94-.94-2.06-.94 2.06-2.06.94z\"/><path d=\"M17.41 7.96l-1.37-1.37c-.4-.4-.92-.59-1.43-.59-.52 0-1.04.2-1.43.59L10.3 9.45l-7.72 7.72c-.78.78-.78 2.05 0 2.83L4 21.41c.39.39.9.59 1.41.59.51 0 1.02-.2 1.41-.59l7.78-7.78 2.81-2.81c.8-.78.8-2.07 0-2.86zM5.41 20L4 18.59l7.72-7.72 1.47 1.35L5.41 20z\"/>\n",
              "  </svg>\n",
              "      </button>\n",
              "      \n",
              "  <style>\n",
              "    .colab-df-container {\n",
              "      display:flex;\n",
              "      flex-wrap:wrap;\n",
              "      gap: 12px;\n",
              "    }\n",
              "\n",
              "    .colab-df-convert {\n",
              "      background-color: #E8F0FE;\n",
              "      border: none;\n",
              "      border-radius: 50%;\n",
              "      cursor: pointer;\n",
              "      display: none;\n",
              "      fill: #1967D2;\n",
              "      height: 32px;\n",
              "      padding: 0 0 0 0;\n",
              "      width: 32px;\n",
              "    }\n",
              "\n",
              "    .colab-df-convert:hover {\n",
              "      background-color: #E2EBFA;\n",
              "      box-shadow: 0px 1px 2px rgba(60, 64, 67, 0.3), 0px 1px 3px 1px rgba(60, 64, 67, 0.15);\n",
              "      fill: #174EA6;\n",
              "    }\n",
              "\n",
              "    [theme=dark] .colab-df-convert {\n",
              "      background-color: #3B4455;\n",
              "      fill: #D2E3FC;\n",
              "    }\n",
              "\n",
              "    [theme=dark] .colab-df-convert:hover {\n",
              "      background-color: #434B5C;\n",
              "      box-shadow: 0px 1px 3px 1px rgba(0, 0, 0, 0.15);\n",
              "      filter: drop-shadow(0px 1px 2px rgba(0, 0, 0, 0.3));\n",
              "      fill: #FFFFFF;\n",
              "    }\n",
              "  </style>\n",
              "\n",
              "      <script>\n",
              "        const buttonEl =\n",
              "          document.querySelector('#df-a6885956-123a-4be4-b942-81f51767da22 button.colab-df-convert');\n",
              "        buttonEl.style.display =\n",
              "          google.colab.kernel.accessAllowed ? 'block' : 'none';\n",
              "\n",
              "        async function convertToInteractive(key) {\n",
              "          const element = document.querySelector('#df-a6885956-123a-4be4-b942-81f51767da22');\n",
              "          const dataTable =\n",
              "            await google.colab.kernel.invokeFunction('convertToInteractive',\n",
              "                                                     [key], {});\n",
              "          if (!dataTable) return;\n",
              "\n",
              "          const docLinkHtml = 'Like what you see? Visit the ' +\n",
              "            '<a target=\"_blank\" href=https://colab.research.google.com/notebooks/data_table.ipynb>data table notebook</a>'\n",
              "            + ' to learn more about interactive tables.';\n",
              "          element.innerHTML = '';\n",
              "          dataTable['output_type'] = 'display_data';\n",
              "          await google.colab.output.renderOutput(dataTable, element);\n",
              "          const docLink = document.createElement('div');\n",
              "          docLink.innerHTML = docLinkHtml;\n",
              "          element.appendChild(docLink);\n",
              "        }\n",
              "      </script>\n",
              "    </div>\n",
              "  </div>\n",
              "  "
            ]
          },
          "metadata": {},
          "execution_count": 16
        }
      ],
      "source": [
        "data_dev= pd.read_csv(path_dev, sep='\\t', usecols=[4,5, 6],names=[\"Score\",\"Sentence 1\", \"Sentence 2\"], header=None, quoting=QUOTE_NONE)\n",
        "data_dev"
      ]
    },
    {
      "cell_type": "code",
      "execution_count": null,
      "id": "f6d6912b",
      "metadata": {
        "collapsed": true,
        "id": "f6d6912b",
        "outputId": "0699abc3-9845-4e05-9935-3f232a34f3f4",
        "colab": {
          "base_uri": "https://localhost:8080/",
          "height": 423
        }
      },
      "outputs": [
        {
          "output_type": "execute_result",
          "data": {
            "text/plain": [
              "      Score                                         Sentence 1  \\\n",
              "0       2.5                        A girl is styling her hair.   \n",
              "1       3.6           A group of men play soccer on the beach.   \n",
              "2       5.0      One woman is measuring another woman's ankle.   \n",
              "3       4.2                    A man is cutting up a cucumber.   \n",
              "4       1.5                           A man is playing a harp.   \n",
              "...     ...                                                ...   \n",
              "1374    0.0  Philippines, Canada pledge to further boost re...   \n",
              "1375    1.0  Israel bars Palestinians from Jerusalem's Old ...   \n",
              "1376    1.0         How much do you know about Secret Service?   \n",
              "1377    0.0  Obama Struggles to Soothe Saudi Fears As Iran ...   \n",
              "1378    0.0          South Korea declares end to MERS outbreak   \n",
              "\n",
              "                                             Sentence 2  \n",
              "0                          A girl is brushing her hair.  \n",
              "1      A group of boys are playing soccer on the beach.  \n",
              "2               A woman measures another woman's ankle.  \n",
              "3                          A man is slicing a cucumber.  \n",
              "4                          A man is playing a keyboard.  \n",
              "...                                                 ...  \n",
              "1374            Philippines saves 100 after ferry sinks  \n",
              "1375  Two-state solution between Palestinians, Israe...  \n",
              "1376  Lawmakers from both sides express outrage at S...  \n",
              "1377  Myanmar Struggles to Finalize Voter Lists for ...  \n",
              "1378  North Korea Delegation Meets With South Korean...  \n",
              "\n",
              "[1379 rows x 3 columns]"
            ],
            "text/html": [
              "\n",
              "  <div id=\"df-92d0ef2c-d5a0-4d50-875a-9e0e5c8a9975\">\n",
              "    <div class=\"colab-df-container\">\n",
              "      <div>\n",
              "<style scoped>\n",
              "    .dataframe tbody tr th:only-of-type {\n",
              "        vertical-align: middle;\n",
              "    }\n",
              "\n",
              "    .dataframe tbody tr th {\n",
              "        vertical-align: top;\n",
              "    }\n",
              "\n",
              "    .dataframe thead th {\n",
              "        text-align: right;\n",
              "    }\n",
              "</style>\n",
              "<table border=\"1\" class=\"dataframe\">\n",
              "  <thead>\n",
              "    <tr style=\"text-align: right;\">\n",
              "      <th></th>\n",
              "      <th>Score</th>\n",
              "      <th>Sentence 1</th>\n",
              "      <th>Sentence 2</th>\n",
              "    </tr>\n",
              "  </thead>\n",
              "  <tbody>\n",
              "    <tr>\n",
              "      <th>0</th>\n",
              "      <td>2.5</td>\n",
              "      <td>A girl is styling her hair.</td>\n",
              "      <td>A girl is brushing her hair.</td>\n",
              "    </tr>\n",
              "    <tr>\n",
              "      <th>1</th>\n",
              "      <td>3.6</td>\n",
              "      <td>A group of men play soccer on the beach.</td>\n",
              "      <td>A group of boys are playing soccer on the beach.</td>\n",
              "    </tr>\n",
              "    <tr>\n",
              "      <th>2</th>\n",
              "      <td>5.0</td>\n",
              "      <td>One woman is measuring another woman's ankle.</td>\n",
              "      <td>A woman measures another woman's ankle.</td>\n",
              "    </tr>\n",
              "    <tr>\n",
              "      <th>3</th>\n",
              "      <td>4.2</td>\n",
              "      <td>A man is cutting up a cucumber.</td>\n",
              "      <td>A man is slicing a cucumber.</td>\n",
              "    </tr>\n",
              "    <tr>\n",
              "      <th>4</th>\n",
              "      <td>1.5</td>\n",
              "      <td>A man is playing a harp.</td>\n",
              "      <td>A man is playing a keyboard.</td>\n",
              "    </tr>\n",
              "    <tr>\n",
              "      <th>...</th>\n",
              "      <td>...</td>\n",
              "      <td>...</td>\n",
              "      <td>...</td>\n",
              "    </tr>\n",
              "    <tr>\n",
              "      <th>1374</th>\n",
              "      <td>0.0</td>\n",
              "      <td>Philippines, Canada pledge to further boost re...</td>\n",
              "      <td>Philippines saves 100 after ferry sinks</td>\n",
              "    </tr>\n",
              "    <tr>\n",
              "      <th>1375</th>\n",
              "      <td>1.0</td>\n",
              "      <td>Israel bars Palestinians from Jerusalem's Old ...</td>\n",
              "      <td>Two-state solution between Palestinians, Israe...</td>\n",
              "    </tr>\n",
              "    <tr>\n",
              "      <th>1376</th>\n",
              "      <td>1.0</td>\n",
              "      <td>How much do you know about Secret Service?</td>\n",
              "      <td>Lawmakers from both sides express outrage at S...</td>\n",
              "    </tr>\n",
              "    <tr>\n",
              "      <th>1377</th>\n",
              "      <td>0.0</td>\n",
              "      <td>Obama Struggles to Soothe Saudi Fears As Iran ...</td>\n",
              "      <td>Myanmar Struggles to Finalize Voter Lists for ...</td>\n",
              "    </tr>\n",
              "    <tr>\n",
              "      <th>1378</th>\n",
              "      <td>0.0</td>\n",
              "      <td>South Korea declares end to MERS outbreak</td>\n",
              "      <td>North Korea Delegation Meets With South Korean...</td>\n",
              "    </tr>\n",
              "  </tbody>\n",
              "</table>\n",
              "<p>1379 rows × 3 columns</p>\n",
              "</div>\n",
              "      <button class=\"colab-df-convert\" onclick=\"convertToInteractive('df-92d0ef2c-d5a0-4d50-875a-9e0e5c8a9975')\"\n",
              "              title=\"Convert this dataframe to an interactive table.\"\n",
              "              style=\"display:none;\">\n",
              "        \n",
              "  <svg xmlns=\"http://www.w3.org/2000/svg\" height=\"24px\"viewBox=\"0 0 24 24\"\n",
              "       width=\"24px\">\n",
              "    <path d=\"M0 0h24v24H0V0z\" fill=\"none\"/>\n",
              "    <path d=\"M18.56 5.44l.94 2.06.94-2.06 2.06-.94-2.06-.94-.94-2.06-.94 2.06-2.06.94zm-11 1L8.5 8.5l.94-2.06 2.06-.94-2.06-.94L8.5 2.5l-.94 2.06-2.06.94zm10 10l.94 2.06.94-2.06 2.06-.94-2.06-.94-.94-2.06-.94 2.06-2.06.94z\"/><path d=\"M17.41 7.96l-1.37-1.37c-.4-.4-.92-.59-1.43-.59-.52 0-1.04.2-1.43.59L10.3 9.45l-7.72 7.72c-.78.78-.78 2.05 0 2.83L4 21.41c.39.39.9.59 1.41.59.51 0 1.02-.2 1.41-.59l7.78-7.78 2.81-2.81c.8-.78.8-2.07 0-2.86zM5.41 20L4 18.59l7.72-7.72 1.47 1.35L5.41 20z\"/>\n",
              "  </svg>\n",
              "      </button>\n",
              "      \n",
              "  <style>\n",
              "    .colab-df-container {\n",
              "      display:flex;\n",
              "      flex-wrap:wrap;\n",
              "      gap: 12px;\n",
              "    }\n",
              "\n",
              "    .colab-df-convert {\n",
              "      background-color: #E8F0FE;\n",
              "      border: none;\n",
              "      border-radius: 50%;\n",
              "      cursor: pointer;\n",
              "      display: none;\n",
              "      fill: #1967D2;\n",
              "      height: 32px;\n",
              "      padding: 0 0 0 0;\n",
              "      width: 32px;\n",
              "    }\n",
              "\n",
              "    .colab-df-convert:hover {\n",
              "      background-color: #E2EBFA;\n",
              "      box-shadow: 0px 1px 2px rgba(60, 64, 67, 0.3), 0px 1px 3px 1px rgba(60, 64, 67, 0.15);\n",
              "      fill: #174EA6;\n",
              "    }\n",
              "\n",
              "    [theme=dark] .colab-df-convert {\n",
              "      background-color: #3B4455;\n",
              "      fill: #D2E3FC;\n",
              "    }\n",
              "\n",
              "    [theme=dark] .colab-df-convert:hover {\n",
              "      background-color: #434B5C;\n",
              "      box-shadow: 0px 1px 3px 1px rgba(0, 0, 0, 0.15);\n",
              "      filter: drop-shadow(0px 1px 2px rgba(0, 0, 0, 0.3));\n",
              "      fill: #FFFFFF;\n",
              "    }\n",
              "  </style>\n",
              "\n",
              "      <script>\n",
              "        const buttonEl =\n",
              "          document.querySelector('#df-92d0ef2c-d5a0-4d50-875a-9e0e5c8a9975 button.colab-df-convert');\n",
              "        buttonEl.style.display =\n",
              "          google.colab.kernel.accessAllowed ? 'block' : 'none';\n",
              "\n",
              "        async function convertToInteractive(key) {\n",
              "          const element = document.querySelector('#df-92d0ef2c-d5a0-4d50-875a-9e0e5c8a9975');\n",
              "          const dataTable =\n",
              "            await google.colab.kernel.invokeFunction('convertToInteractive',\n",
              "                                                     [key], {});\n",
              "          if (!dataTable) return;\n",
              "\n",
              "          const docLinkHtml = 'Like what you see? Visit the ' +\n",
              "            '<a target=\"_blank\" href=https://colab.research.google.com/notebooks/data_table.ipynb>data table notebook</a>'\n",
              "            + ' to learn more about interactive tables.';\n",
              "          element.innerHTML = '';\n",
              "          dataTable['output_type'] = 'display_data';\n",
              "          await google.colab.output.renderOutput(dataTable, element);\n",
              "          const docLink = document.createElement('div');\n",
              "          docLink.innerHTML = docLinkHtml;\n",
              "          element.appendChild(docLink);\n",
              "        }\n",
              "      </script>\n",
              "    </div>\n",
              "  </div>\n",
              "  "
            ]
          },
          "metadata": {},
          "execution_count": 17
        }
      ],
      "source": [
        "data_test= pd.read_csv(path_test, sep='\\t', usecols=[4,5, 6],names=[\"Score\",\"Sentence 1\", \"Sentence 2\"], header=None, quoting=QUOTE_NONE)\n",
        "data_test"
      ]
    },
    {
      "cell_type": "markdown",
      "id": "58321161",
      "metadata": {
        "id": "58321161"
      },
      "source": [
        "To perform some basic statsitics on the dataset, a unique document was created containing all sentences and stored in the variable *sentences* for train, development and test set."
      ]
    },
    {
      "cell_type": "code",
      "execution_count": null,
      "id": "e2c44c30",
      "metadata": {
        "id": "e2c44c30"
      },
      "outputs": [],
      "source": [
        "sentences1_train = (data_train['Sentence 1'].tolist())\n",
        "sentences2_train = (data_train['Sentence 2'].tolist())\n",
        "scores_train = (data_train['Score'].tolist())\n",
        "sentences_train =  sentences1_train+sentences2_train\n"
      ]
    },
    {
      "cell_type": "code",
      "execution_count": null,
      "id": "9db6b149",
      "metadata": {
        "id": "9db6b149"
      },
      "outputs": [],
      "source": [
        "sentences1_dev = (data_dev['Sentence 1'].tolist())\n",
        "sentences2_dev = (data_dev['Sentence 2'].tolist())\n",
        "scores_dev = (data_dev['Score'].tolist())\n",
        "sentences_dev =  sentences1_dev+sentences2_dev\n"
      ]
    },
    {
      "cell_type": "code",
      "execution_count": null,
      "id": "26316aa5",
      "metadata": {
        "id": "26316aa5"
      },
      "outputs": [],
      "source": [
        "sentences1_test = (data_test['Sentence 1'].tolist())\n",
        "sentences2_test = (data_test['Sentence 2'].tolist())\n",
        "scores_test = (data_test['Score'].tolist())\n",
        "sentences_test =  sentences1_test+sentences2_test\n"
      ]
    },
    {
      "cell_type": "markdown",
      "id": "433e9cb9",
      "metadata": {
        "id": "433e9cb9"
      },
      "source": [
        "Now lets consider only the train set.\n",
        "The length of the whole document was computed, and it has been noticed that the train set contains **11498 sentences**.  "
      ]
    },
    {
      "cell_type": "code",
      "execution_count": null,
      "id": "b8eab5c9",
      "metadata": {
        "id": "b8eab5c9",
        "outputId": "d311cf59-47c6-4cc9-dd6e-b82590f5d3c3"
      },
      "outputs": [
        {
          "data": {
            "text/plain": [
              "11498"
            ]
          },
          "execution_count": 86,
          "metadata": {},
          "output_type": "execute_result"
        }
      ],
      "source": [
        "len(sentences_train)"
      ]
    },
    {
      "cell_type": "markdown",
      "id": "73c1e122",
      "metadata": {
        "id": "73c1e122"
      },
      "source": [
        "To eliminate repeating sentences in the document between the 11498 sentences of the train set, the **set function** was applied.\n",
        "Therefore, each sentence was just taken into consideration only once. As it can be seen, the number of sentences has been  reduced, from 11498  to **10566 sentences**.\n"
      ]
    },
    {
      "cell_type": "code",
      "execution_count": null,
      "id": "c49f1ad0",
      "metadata": {
        "id": "c49f1ad0",
        "outputId": "f083d281-dfe8-4e02-b742-5edf7b1e2336",
        "colab": {
          "base_uri": "https://localhost:8080/"
        }
      },
      "outputs": [
        {
          "output_type": "execute_result",
          "data": {
            "text/plain": [
              "10566"
            ]
          },
          "metadata": {},
          "execution_count": 22
        }
      ],
      "source": [
        "sentences_unique = set(sentences_train)\n",
        "len(sentences_unique)"
      ]
    },
    {
      "cell_type": "markdown",
      "id": "e1e132e3",
      "metadata": {
        "id": "e1e132e3"
      },
      "source": [
        "To check if the set function worked correctly and retrieved sentences from the dataset, by transforming ot into a list containing all the unqiue sentences."
      ]
    },
    {
      "cell_type": "code",
      "execution_count": null,
      "id": "6371f885",
      "metadata": {
        "id": "6371f885"
      },
      "outputs": [],
      "source": [
        "sentences_unique = list(sentences_unique)\n",
        "sentences_unique"
      ]
    },
    {
      "cell_type": "markdown",
      "id": "79bd7747",
      "metadata": {
        "id": "79bd7747"
      },
      "source": [
        "The histogram of **average length** of  unique sentences (based on words) was performed and can be visualized in the cell below."
      ]
    },
    {
      "cell_type": "code",
      "execution_count": null,
      "id": "3e76824d",
      "metadata": {
        "id": "3e76824d",
        "outputId": "0205b7d2-4913-414a-ad70-255d79eee3dc"
      },
      "outputs": [
        {
          "name": "stdout",
          "output_type": "stream",
          "text": [
            "Average length:  10.173670263108082\n"
          ]
        },
        {
          "data": {
            "text/plain": [
              "(array([4.218e+03, 3.880e+03, 1.465e+03, 5.820e+02, 3.280e+02, 7.900e+01,\n",
              "        7.000e+00, 3.000e+00, 3.000e+00, 1.000e+00]),\n",
              " array([ 2. ,  7.4, 12.8, 18.2, 23.6, 29. , 34.4, 39.8, 45.2, 50.6, 56. ]),\n",
              " <BarContainer object of 10 artists>)"
            ]
          },
          "execution_count": 21,
          "metadata": {},
          "output_type": "execute_result"
        },
        {
          "data": {
            "image/png": "[encoded data removed]",
            "text/plain": [
              "<Figure size 432x288 with 1 Axes>"
            ]
          },
          "metadata": {
            "needs_background": "light"
          },
          "output_type": "display_data"
        }
      ],
      "source": [
        "import matplotlib.pyplot as plt\n",
        "# print('mean: ', np.mean(sentences_unique))\n",
        "lengths = [len(sent.split()) for sent in sentences_unique]\n",
        "print(\"Average length: \", np.mean(lengths))\n",
        "plt.hist(lengths)"
      ]
    },
    {
      "cell_type": "markdown",
      "id": "a87e2fe6",
      "metadata": {
        "id": "a87e2fe6"
      },
      "source": [
        "Then, the **distribution of the score variable** contained in the train dataset can be visualized."
      ]
    },
    {
      "cell_type": "code",
      "execution_count": null,
      "id": "fca6d6f2",
      "metadata": {
        "id": "fca6d6f2",
        "outputId": "c5f1deab-5dc3-4866-b016-b559f0ad3f00"
      },
      "outputs": [
        {
          "name": "stdout",
          "output_type": "stream",
          "text": [
            "2.7009990253653395\n"
          ]
        },
        {
          "data": {
            "image/png": "[encoded data removed]",
            "text/plain": [
              "<Figure size 432x288 with 1 Axes>"
            ]
          },
          "metadata": {
            "needs_background": "light"
          },
          "output_type": "display_data"
        }
      ],
      "source": [
        "import matplotlib.pyplot as plt\n",
        "\n",
        "# fig, (ax1, ax2, ax3) = plt.subplots(1, 3, figsize=(10, 5))\n",
        "\n",
        "plt.hist(data_train[\"Score\"], bins=10)\n",
        "plt.xlabel('Similarity score by human')\n",
        "plt.ylabel('Frequency')\n",
        "\n",
        "print(np.mean(data_train['Score']))"
      ]
    },
    {
      "cell_type": "markdown",
      "id": "d7e50384",
      "metadata": {
        "id": "d7e50384"
      },
      "source": [
        "### Vectorizing the Sentences"
      ]
    },
    {
      "cell_type": "markdown",
      "id": "9d5af39f",
      "metadata": {
        "id": "9d5af39f"
      },
      "source": [
        "To perform further analysis, the whole document was converted into a **vector format**. In particular, **TfidfVectorizer from Scikit-Learn** was used to do so."
      ]
    },
    {
      "cell_type": "code",
      "execution_count": null,
      "id": "a4f42d3d",
      "metadata": {
        "id": "a4f42d3d"
      },
      "outputs": [],
      "source": [
        "vectorizer = TfidfVectorizer(max_df=0.8, min_df=5, stop_words='english')"
      ]
    },
    {
      "cell_type": "markdown",
      "id": "ea8d6caf",
      "metadata": {
        "id": "ea8d6caf"
      },
      "source": [
        "Therefore, the vectorizer can be fitted on the document containing the unique sentences."
      ]
    },
    {
      "cell_type": "code",
      "execution_count": null,
      "id": "9d0a03a2",
      "metadata": {
        "id": "9d0a03a2",
        "outputId": "7f20206c-36e1-405d-f00e-3d316de0f650",
        "colab": {
          "base_uri": "https://localhost:8080/",
          "height": 74
        }
      },
      "outputs": [
        {
          "output_type": "execute_result",
          "data": {
            "text/plain": [
              "TfidfVectorizer(max_df=0.8, min_df=5, stop_words='english')"
            ],
            "text/html": [
              "<style>#sk-container-id-1 {color: black;background-color: white;}#sk-container-id-1 pre{padding: 0;}#sk-container-id-1 div.sk-toggleable {background-color: white;}#sk-container-id-1 label.sk-toggleable__label {cursor: pointer;display: block;width: 100%;margin-bottom: 0;padding: 0.3em;box-sizing: border-box;text-align: center;}#sk-container-id-1 label.sk-toggleable__label-arrow:before {content: \"▸\";float: left;margin-right: 0.25em;color: #696969;}#sk-container-id-1 label.sk-toggleable__label-arrow:hover:before {color: black;}#sk-container-id-1 div.sk-estimator:hover label.sk-toggleable__label-arrow:before {color: black;}#sk-container-id-1 div.sk-toggleable__content {max-height: 0;max-width: 0;overflow: hidden;text-align: left;background-color: #f0f8ff;}#sk-container-id-1 div.sk-toggleable__content pre {margin: 0.2em;color: black;border-radius: 0.25em;background-color: #f0f8ff;}#sk-container-id-1 input.sk-toggleable__control:checked~div.sk-toggleable__content {max-height: 200px;max-width: 100%;overflow: auto;}#sk-container-id-1 input.sk-toggleable__control:checked~label.sk-toggleable__label-arrow:before {content: \"▾\";}#sk-container-id-1 div.sk-estimator input.sk-toggleable__control:checked~label.sk-toggleable__label {background-color: #d4ebff;}#sk-container-id-1 div.sk-label input.sk-toggleable__control:checked~label.sk-toggleable__label {background-color: #d4ebff;}#sk-container-id-1 input.sk-hidden--visually {border: 0;clip: rect(1px 1px 1px 1px);clip: rect(1px, 1px, 1px, 1px);height: 1px;margin: -1px;overflow: hidden;padding: 0;position: absolute;width: 1px;}#sk-container-id-1 div.sk-estimator {font-family: monospace;background-color: #f0f8ff;border: 1px dotted black;border-radius: 0.25em;box-sizing: border-box;margin-bottom: 0.5em;}#sk-container-id-1 div.sk-estimator:hover {background-color: #d4ebff;}#sk-container-id-1 div.sk-parallel-item::after {content: \"\";width: 100%;border-bottom: 1px solid gray;flex-grow: 1;}#sk-container-id-1 div.sk-label:hover label.sk-toggleable__label {background-color: #d4ebff;}#sk-container-id-1 div.sk-serial::before {content: \"\";position: absolute;border-left: 1px solid gray;box-sizing: border-box;top: 0;bottom: 0;left: 50%;z-index: 0;}#sk-container-id-1 div.sk-serial {display: flex;flex-direction: column;align-items: center;background-color: white;padding-right: 0.2em;padding-left: 0.2em;position: relative;}#sk-container-id-1 div.sk-item {position: relative;z-index: 1;}#sk-container-id-1 div.sk-parallel {display: flex;align-items: stretch;justify-content: center;background-color: white;position: relative;}#sk-container-id-1 div.sk-item::before, #sk-container-id-1 div.sk-parallel-item::before {content: \"\";position: absolute;border-left: 1px solid gray;box-sizing: border-box;top: 0;bottom: 0;left: 50%;z-index: -1;}#sk-container-id-1 div.sk-parallel-item {display: flex;flex-direction: column;z-index: 1;position: relative;background-color: white;}#sk-container-id-1 div.sk-parallel-item:first-child::after {align-self: flex-end;width: 50%;}#sk-container-id-1 div.sk-parallel-item:last-child::after {align-self: flex-start;width: 50%;}#sk-container-id-1 div.sk-parallel-item:only-child::after {width: 0;}#sk-container-id-1 div.sk-dashed-wrapped {border: 1px dashed gray;margin: 0 0.4em 0.5em 0.4em;box-sizing: border-box;padding-bottom: 0.4em;background-color: white;}#sk-container-id-1 div.sk-label label {font-family: monospace;font-weight: bold;display: inline-block;line-height: 1.2em;}#sk-container-id-1 div.sk-label-container {text-align: center;}#sk-container-id-1 div.sk-container {/* jupyter's `normalize.less` sets `[hidden] { display: none; }` but bootstrap.min.css set `[hidden] { display: none !important; }` so we also need the `!important` here to be able to override the default hidden behavior on the sphinx rendered scikit-learn.org. See: https://github.com/scikit-learn/scikit-learn/issues/21755 */display: inline-block !important;position: relative;}#sk-container-id-1 div.sk-text-repr-fallback {display: none;}</style><div id=\"sk-container-id-1\" class=\"sk-top-container\"><div class=\"sk-text-repr-fallback\"><pre>TfidfVectorizer(max_df=0.8, min_df=5, stop_words=&#x27;english&#x27;)</pre><b>In a Jupyter environment, please rerun this cell to show the HTML representation or trust the notebook. <br />On GitHub, the HTML representation is unable to render, please try loading this page with nbviewer.org.</b></div><div class=\"sk-container\" hidden><div class=\"sk-item\"><div class=\"sk-estimator sk-toggleable\"><input class=\"sk-toggleable__control sk-hidden--visually\" id=\"sk-estimator-id-1\" type=\"checkbox\" checked><label for=\"sk-estimator-id-1\" class=\"sk-toggleable__label sk-toggleable__label-arrow\">TfidfVectorizer</label><div class=\"sk-toggleable__content\"><pre>TfidfVectorizer(max_df=0.8, min_df=5, stop_words=&#x27;english&#x27;)</pre></div></div></div></div></div>"
            ]
          },
          "metadata": {},
          "execution_count": 25
        }
      ],
      "source": [
        "vectorizer.fit(sentences_unique)"
      ]
    },
    {
      "cell_type": "markdown",
      "id": "b65f7b38",
      "metadata": {
        "id": "b65f7b38"
      },
      "source": [
        "The **vocabulary size** can be then looked at, and it can be seen that it's length is of **2818 words**, it's quite small."
      ]
    },
    {
      "cell_type": "code",
      "execution_count": null,
      "id": "801091bc",
      "metadata": {
        "id": "801091bc",
        "outputId": "be176e33-cbb5-455c-8819-dcfe9be83feb",
        "colab": {
          "base_uri": "https://localhost:8080/"
        }
      },
      "outputs": [
        {
          "output_type": "stream",
          "name": "stdout",
          "text": [
            "Length of vocabulary: 2818\n"
          ]
        }
      ],
      "source": [
        "vocab = vectorizer.get_feature_names_out()\n",
        "\n",
        "print(f\"Length of vocabulary: {len(vocab)}\")"
      ]
    },
    {
      "cell_type": "markdown",
      "id": "33b94b49",
      "metadata": {
        "id": "33b94b49"
      },
      "source": [
        "Some  random sample of 500 terms from the documents were printed to see what they looked like."
      ]
    },
    {
      "cell_type": "code",
      "execution_count": null,
      "id": "4ab47226",
      "metadata": {
        "id": "4ab47226",
        "outputId": "4ec7ed95-9e8f-455b-d42c-f9400f21f593"
      },
      "outputs": [
        {
          "data": {
            "text/plain": [
              "['100',\n",
              " '27',\n",
              " '89',\n",
              " 'access',\n",
              " 'affected',\n",
              " 'agricultural',\n",
              " 'amnesty',\n",
              " 'association',\n",
              " 'bed',\n",
              " 'belgium',\n",
              " 'brick',\n",
              " 'brings',\n",
              " 'cargo',\n",
              " 'casualties',\n",
              " 'catching',\n",
              " 'cell',\n",
              " 'choose',\n",
              " 'dance',\n",
              " 'die',\n",
              " 'dress',\n",
              " 'egyptians',\n",
              " 'estonia',\n",
              " 'false',\n",
              " 'freed',\n",
              " 'groups',\n",
              " 'ixic',\n",
              " 'laws',\n",
              " 'licking',\n",
              " 'mainland',\n",
              " 'moon',\n",
              " 'nears',\n",
              " 'pakistani',\n",
              " 'planes',\n",
              " 'policeman',\n",
              " 'posts',\n",
              " 'profits',\n",
              " 'promote',\n",
              " 'quake',\n",
              " 'rejects',\n",
              " 'reportedly',\n",
              " 'returns',\n",
              " 'selected',\n",
              " 'spokeswoman',\n",
              " 'swing',\n",
              " 'town',\n",
              " 'walks',\n",
              " 'weather',\n",
              " 'week',\n",
              " 'wheel',\n",
              " 'years']"
            ]
          },
          "execution_count": 29,
          "metadata": {},
          "output_type": "execute_result"
        }
      ],
      "source": [
        "import random\n",
        "\n",
        "sorted(random.sample(vocab.tolist(),50))"
      ]
    },
    {
      "cell_type": "markdown",
      "id": "152c960e",
      "metadata": {
        "id": "152c960e"
      },
      "source": [
        "All the sentences belonging to the dataset were then vectorized and stored in the **vector_sentences** variable."
      ]
    },
    {
      "cell_type": "code",
      "execution_count": null,
      "id": "e4f9d2b3",
      "metadata": {
        "id": "e4f9d2b3"
      },
      "outputs": [],
      "source": [
        "vector_sentences = vectorizer.transform(sentences_unique)"
      ]
    },
    {
      "cell_type": "markdown",
      "id": "fc7e27d5",
      "metadata": {
        "id": "fc7e27d5"
      },
      "source": [
        "The sparse vector for the first document has been printed:"
      ]
    },
    {
      "cell_type": "code",
      "execution_count": null,
      "id": "23380a5f",
      "metadata": {
        "id": "23380a5f",
        "outputId": "f3c140c0-8e68-48e1-a57f-34da4fcfe6e8"
      },
      "outputs": [
        {
          "name": "stdout",
          "output_type": "stream",
          "text": [
            "  (0, 2440)\t0.5085671647193073\n",
            "  (0, 2362)\t0.3356542944341998\n",
            "  (0, 1608)\t0.4993155178041111\n",
            "  (0, 1390)\t0.2812249025558995\n",
            "  (0, 146)\t0.40103130445042534\n",
            "  (0, 46)\t0.37345159567268205\n"
          ]
        },
        {
          "data": {
            "text/plain": [
              "scipy.sparse.csr.csr_matrix"
            ]
          },
          "execution_count": 32,
          "metadata": {},
          "output_type": "execute_result"
        }
      ],
      "source": [
        "print(vector_sentences[0])\n",
        "type(vector_sentences[4])"
      ]
    },
    {
      "cell_type": "markdown",
      "id": "a65432f8",
      "metadata": {
        "id": "a65432f8"
      },
      "source": [
        "The average vocabulary size of a document in the collection has been computed:"
      ]
    },
    {
      "cell_type": "code",
      "execution_count": null,
      "id": "8ba7eaf5",
      "metadata": {
        "id": "8ba7eaf5",
        "outputId": "8569c6de-f650-4236-ccbe-178055444bef",
        "colab": {
          "base_uri": "https://localhost:8080/"
        }
      },
      "outputs": [
        {
          "output_type": "stream",
          "name": "stdout",
          "text": [
            "Average document vocabulary size: 4.841945864092372\n"
          ]
        }
      ],
      "source": [
        "nonzero_count = vector_sentences.count_nonzero()\n",
        "doc_count = vector_sentences.get_shape()[0]\n",
        "\n",
        "print(f\"Average document vocabulary size: {nonzero_count/doc_count}\")"
      ]
    },
    {
      "cell_type": "markdown",
      "id": "8a4d1974",
      "metadata": {
        "id": "8a4d1974"
      },
      "source": [
        "### Searching the collection based on keywords\n",
        "Based on a chosen query, the sentence that contains it can be return by using the following method."
      ]
    },
    {
      "cell_type": "code",
      "execution_count": null,
      "id": "d7a2d64c",
      "metadata": {
        "id": "d7a2d64c",
        "outputId": "2b9fd13c-3568-4d2b-eaf3-42840a224a1b"
      },
      "outputs": [
        {
          "name": "stdout",
          "output_type": "stream",
          "text": [
            "A plane being readied for take-off.\n"
          ]
        }
      ],
      "source": [
        "query = 'A plane'\n",
        "#query = 'computer'\n",
        "#query = '2008'\n",
        "\n",
        "query_vec = vectorizer.transform([query])[0]\n",
        "\n",
        "index = np.argmax([query_vec.multiply(vector_sentences[i]).sum() for i in range(len(sentences_unique))])\n",
        "print(sentences_unique[index])"
      ]
    },
    {
      "cell_type": "markdown",
      "id": "194c07f4",
      "metadata": {
        "id": "194c07f4"
      },
      "source": [
        "## Training Models\n",
        "For what concerns the models to be trained and then used to do the predictions on the test set a **preprocessing** had to be performed on senteces for some of them.\n",
        "In particular, different methods were used to extract word-embeddings such as: *TFIDF, Fasttext, Word2Vec and BERT*.\n",
        "\n",
        "While, regarding the different models used, these can be divided into:\n",
        "1. **Unsupervised Models**: TFIDF with cosine similarity and fasttext\n",
        "2. **Supervised Models**: Support Vector Regression trained on some particular features.\n",
        "3. **Deep Learning Models**: finetuning different transformer-based on sBERT models and further improvements\n"
      ]
    },
    {
      "cell_type": "markdown",
      "id": "bdbf5436",
      "metadata": {
        "id": "bdbf5436"
      },
      "source": [
        "### Unsupervised Models\n",
        "At first some Unsupervised models were trained, in particular the **TF-IDF based on cosine similarity and the fasttext** were used.\n",
        "Each of them gave different results and were both then used to do predictions on the test set.\n"
      ]
    },
    {
      "cell_type": "markdown",
      "id": "4b380193",
      "metadata": {
        "id": "4b380193"
      },
      "source": [
        "#### Preprocessing\n",
        "Before applying the actual preprocessing that has been performed for both the unsupervised models, all duplicate samples  were removed from the train dataset.\n",
        "Therefore, both tuples with pairs of sentences and tuples of pairs of sentences with their scores were made.\n",
        "Subsequently, the function **duplicates** was used to actually know which were the exact samples duplicates for both the one containg the score and not."
      ]
    },
    {
      "cell_type": "code",
      "execution_count": null,
      "id": "2698f190",
      "metadata": {
        "id": "2698f190"
      },
      "outputs": [],
      "source": [
        "sentence_pairs_scores = list(zip(sentences1_train,sentences2_train,scores_train))\n",
        "sentence_pairs = list(zip(sentences1_train,sentences2_train))"
      ]
    },
    {
      "cell_type": "code",
      "execution_count": null,
      "id": "4e987a63",
      "metadata": {
        "id": "4e987a63"
      },
      "outputs": [],
      "source": [
        "dups = list(duplicates(sentence_pairs))\n",
        "dups_scores = list(duplicates(sentence_pairs_scores))\n"
      ]
    },
    {
      "cell_type": "code",
      "execution_count": null,
      "id": "2a452cb3",
      "metadata": {
        "id": "2a452cb3"
      },
      "outputs": [],
      "source": [
        "dups\n",
        "dups_scores1,dups_scores2,_ = list(zip(*dups_scores))\n",
        "dups_scores = list(zip(dups_scores1,dups_scores2))\n",
        "dups_sent = list(set(dups)-set(dups_scores))"
      ]
    },
    {
      "cell_type": "markdown",
      "id": "85eed215",
      "metadata": {
        "id": "85eed215"
      },
      "source": [
        "Once obtained the duplicates, they were deleted when the scores were different by replacing the corresponding score with the *mean value* of the different avialbale ones for that same pair of sentence."
      ]
    },
    {
      "cell_type": "code",
      "execution_count": null,
      "id": "ef50a514",
      "metadata": {
        "id": "ef50a514"
      },
      "outputs": [],
      "source": [
        "for pair in dups_sent:\n",
        "    indices = [i for i in range(len(sentence_pairs)) if sentence_pairs[i] == pair]\n",
        "    scores = np.array(sentence_pairs_scores)[np.array(indices)][:,2]\n",
        "    new_score = sum(scores.astype(float))/len(indices)\n",
        "    for i in np.array(indices):\n",
        "        sentence_pairs_scores.pop(i)\n",
        "        sentence_pairs.pop(i)\n",
        "    sentence_pairs_scores.append(pair+(new_score,))\n"
      ]
    },
    {
      "cell_type": "markdown",
      "id": "7f19ed60",
      "metadata": {
        "id": "7f19ed60"
      },
      "source": [
        "Subsequently, duplicate sentences with same score were deleted."
      ]
    },
    {
      "cell_type": "code",
      "execution_count": null,
      "id": "4ff74b1f",
      "metadata": {
        "id": "4ff74b1f"
      },
      "outputs": [],
      "source": [
        "sentence_pairs_scores_unique = set(sentence_pairs_scores)\n"
      ]
    },
    {
      "cell_type": "markdown",
      "id": "e88050d6",
      "metadata": {
        "id": "e88050d6"
      },
      "source": [
        "Finally, the final dataset with no duplicate pairs of sentences was computed and actually used for the following steps.\n"
      ]
    },
    {
      "cell_type": "code",
      "execution_count": null,
      "id": "8c5f5aaa",
      "metadata": {
        "id": "8c5f5aaa"
      },
      "outputs": [],
      "source": [
        "sentence_unique1,sentence_unique2,scores_unique = list(zip(*sentence_pairs_scores_unique))"
      ]
    },
    {
      "cell_type": "markdown",
      "id": "0f07f249",
      "metadata": {
        "id": "0f07f249"
      },
      "source": [
        "The actual preprocessing consisted of using the following techniques on the new dataset:\n",
        "1. **Normalization**\n",
        "2. **Lemmatization**\n",
        "3. **Removing stopwords:**  stopwords such as not and no were kept, because if not some of the preprocessed sentences would have been empy strings."
      ]
    },
    {
      "cell_type": "code",
      "execution_count": null,
      "id": "04fe458a",
      "metadata": {
        "id": "04fe458a"
      },
      "outputs": [],
      "source": [
        "def preprocess_sentences(sentence, stopwords=[]):\n",
        "    sentence = contractions.fix(sentence)\n",
        "    preprocessed = [token.lemma_.lower() for token in nlp_model(sentence) if token.is_alpha and token.text.lower() not in [stopword.lower() for stopword in stopwords]]\n",
        "    if preprocessed == []:\n",
        "        return [token.lemma_.lower() for token in  nlp_model(sentence) if token.is_alpha]\n",
        "    else:\n",
        "        return preprocessed"
      ]
    },
    {
      "cell_type": "code",
      "execution_count": null,
      "id": "c50d3f76",
      "metadata": {
        "id": "c50d3f76"
      },
      "outputs": [],
      "source": [
        "custom_stopwords = list(set(stopwords.words('english')) - {'not','no'})\n",
        "\n",
        "def sentences_preprocessed(sentences1,sentences2):\n",
        "    sentences_prep1 = []\n",
        "\n",
        "    for sentence in sentences1:\n",
        "        sentences_prep1.append(preprocess_sentences(sentence,custom_stopwords))\n",
        "\n",
        "    sentences_prep2 = []\n",
        "    for sentence in sentences2:\n",
        "        sentences_prep2.append(preprocess_sentences(sentence,custom_stopwords))\n",
        "\n",
        "\n",
        "    return (sentences_prep1,sentences_prep2)\n",
        "\n",
        "sentences_prep1_train,sentences_prep2_train = sentences_preprocessed(sentence_unique1,sentence_unique2)\n",
        "sentences_prep1_dev,sentences_prep2_dev =  sentences_preprocessed(sentences1_dev,sentences2_dev)\n",
        "sentences_prep1_test,sentences_prep2_test =  sentences_preprocessed(sentences1_test,sentences2_test)"
      ]
    },
    {
      "cell_type": "markdown",
      "id": "2c85bf90",
      "metadata": {
        "id": "2c85bf90"
      },
      "source": [
        "Uniting together preprocessed pairs of sentences to then train the models."
      ]
    },
    {
      "cell_type": "code",
      "execution_count": null,
      "id": "1febbbf8",
      "metadata": {
        "id": "1febbbf8"
      },
      "outputs": [],
      "source": [
        "sentences_prep_train = sentences_prep1_train + sentences_prep2_train\n",
        "sentences_prep_test = sentences_prep1_test + sentences_prep2_test\n",
        "sentences_prep_dev = sentences_prep1_dev + sentences_prep2_dev"
      ]
    },
    {
      "cell_type": "markdown",
      "id": "3a16d217",
      "metadata": {
        "id": "3a16d217"
      },
      "source": [
        "##### TF_IDF\n",
        "First model to be trained by computing the TFIDF and using the cosine similarity to define similarity between pairs of sentences."
      ]
    },
    {
      "cell_type": "code",
      "execution_count": null,
      "id": "1db53ce4",
      "metadata": {
        "id": "1db53ce4"
      },
      "outputs": [],
      "source": [
        "vectorizer = TfidfVectorizer()\n",
        "corpus = [' '.join(sentence) for sentence in sentences_prep1_train+sentences_prep2_train]\n",
        "vectors = vectorizer.fit_transform(corpus)\n",
        "\n",
        "def tf_idf_features(sentences_prep1,sentences_prep2):\n",
        "    sentences_tfif_embd1 = vectorizer.transform([' '.join(sentence) for sentence in sentences_prep1])\n",
        "    sentences_tfif_embd2 = vectorizer.transform([' '.join(sentence) for sentence in sentences_prep2])\n",
        "    results = []\n",
        "    for idx in range(sentences_tfif_embd2.shape[0]):\n",
        "        result = cosine_sim(sentences_tfif_embd1[idx].toarray().squeeze(), sentences_tfif_embd2[idx].toarray().squeeze()) # toarray() to convert from sparse array into dense array\n",
        "        results.append(result)\n",
        "    return results"
      ]
    },
    {
      "cell_type": "markdown",
      "source": [
        "Once defined the *tf_idf_feature function*, which calculate the cosine similarity between previosuly calculated sentence embeddings, it has been defined for train, development and test set."
      ],
      "metadata": {
        "id": "HJaO7pYI9PVU"
      },
      "id": "HJaO7pYI9PVU"
    },
    {
      "cell_type": "code",
      "execution_count": null,
      "id": "79c24022",
      "metadata": {
        "id": "79c24022"
      },
      "outputs": [],
      "source": [
        "def cosine_sim(a,b):\n",
        "    e = 1e-5\n",
        "    return (np.dot(a,b)+e)/(np.linalg.norm(a)*np.linalg.norm(b)+e)"
      ]
    },
    {
      "cell_type": "code",
      "execution_count": null,
      "id": "ebe5e6c3",
      "metadata": {
        "id": "ebe5e6c3"
      },
      "outputs": [],
      "source": [
        "features_tfidf_cos_train =  tf_idf_features(sentences_prep1_train,sentences_prep2_train)\n",
        "features_tfidf_cos_dev = tf_idf_features(sentences_prep1_dev,sentences_prep2_dev)\n",
        "features_tfidf_cos_test = tf_idf_features(sentences_prep1_test,sentences_prep2_test)"
      ]
    },
    {
      "cell_type": "code",
      "execution_count": null,
      "id": "03b3e981",
      "metadata": {
        "collapsed": true,
        "id": "03b3e981",
        "outputId": "598b01ec-227d-49fd-c366-8ca487e9b2e3",
        "colab": {
          "base_uri": "https://localhost:8080/"
        }
      },
      "outputs": [
        {
          "output_type": "execute_result",
          "data": {
            "text/plain": [
              "[0.6553623150723038,\n",
              " 0.8218116144360694,\n",
              " 0.7357212746660071,\n",
              " 0.46837528826747454,\n",
              " 9.999900000999992e-06,\n",
              " 0.8900755024068617,\n",
              " 0.3951442644266862,\n",
              " 0.9128728747584265,\n",
              " 0.31639196484783844,\n",
              " 0.09127934963704534,\n",
              " 0.41771611505901735,\n",
              " 0.8678053798297876,\n",
              " 0.7666525688328356,\n",
              " 0.5033568166317176,\n",
              " 0.7114653767477278,\n",
              " 0.721483455798384,\n",
              " 0.2068301015787843,\n",
              " 0.271372273757971,\n",
              " 0.6973884676409101,\n",
              " 0.8573174580065315,\n",
              " 0.4240432592047683,\n",
              " 0.6643502230233471,\n",
              " 0.3565725754929478,\n",
              " 0.1425075201086075,\n",
              " 0.1281664970327616,\n",
              " 0.8389504374607415,\n",
              " 0.7620859075007154,\n",
              " 0.6885024994147723,\n",
              " 0.7020852812227947,\n",
              " 0.3608789556548053,\n",
              " 0.08608325492492475,\n",
              " 0.6193623043913238,\n",
              " 0.39347649350168834,\n",
              " 0.5036429568741388,\n",
              " 0.708844931448859,\n",
              " 9.999900000999992e-06,\n",
              " 0.9298618329414567,\n",
              " 0.8620105685475323,\n",
              " 0.3978523019533419,\n",
              " 0.3572700135038073,\n",
              " 1.0,\n",
              " 0.7788359174415885,\n",
              " 0.0890480571143836,\n",
              " 0.7448584342572544,\n",
              " 0.6285035020844544,\n",
              " 0.5314519333864546,\n",
              " 0.6629696225794884,\n",
              " 0.6254372783533577,\n",
              " 0.9480434666666717,\n",
              " 9.99990000099999e-06,\n",
              " 0.5691828531197258,\n",
              " 0.302339767992026,\n",
              " 0.29477050030105284,\n",
              " 0.6284204389998049,\n",
              " 0.5828418173320481,\n",
              " 0.8639052830440374,\n",
              " 0.2623193861437703,\n",
              " 0.28395039834993124,\n",
              " 0.4814000499550258,\n",
              " 0.3560234733373516,\n",
              " 0.6393571494803433,\n",
              " 0.6419963588300086,\n",
              " 0.9064278287515805,\n",
              " 0.446587657517098,\n",
              " 0.7710632258989715,\n",
              " 0.4811434122928605,\n",
              " 0.43190510058322024,\n",
              " 0.23815474331371927,\n",
              " 0.17607856142501413,\n",
              " 0.6554048465304028,\n",
              " 0.7471295591458906,\n",
              " 0.15136921973027345,\n",
              " 0.7774386072285937,\n",
              " 0.41179620589435484,\n",
              " 1.0,\n",
              " 9.999900000999992e-06,\n",
              " 0.8447838252140246,\n",
              " 0.1809430337739509,\n",
              " 0.3686203388062335,\n",
              " 0.4035587937206459,\n",
              " 9.99990000099999e-06,\n",
              " 0.20750095914162842,\n",
              " 0.1267643566769408,\n",
              " 0.41916715736831334,\n",
              " 0.8423882752115801,\n",
              " 0.7729226678791605,\n",
              " 0.09066666396170898,\n",
              " 0.7143608422423903,\n",
              " 0.6057445479060543,\n",
              " 0.13508996135481632,\n",
              " 0.6518115356299798,\n",
              " 0.25585627990666904,\n",
              " 0.6025204991326462,\n",
              " 0.7278315331711716,\n",
              " 0.4438891857180907,\n",
              " 0.7796288067131137,\n",
              " 0.5923143558666466,\n",
              " 0.7017949443015233,\n",
              " 0.5381753449490464,\n",
              " 0.1997972896030842,\n",
              " 0.6938362879290079,\n",
              " 0.8804280943019342,\n",
              " 0.4916821216510584,\n",
              " 0.6987458331878451,\n",
              " 0.4930323595817215,\n",
              " 0.5054434629834845,\n",
              " 0.8280360964940098,\n",
              " 0.5031095265736945,\n",
              " 0.30414306593261203,\n",
              " 0.7872955317656899,\n",
              " 9.999900000999992e-06,\n",
              " 0.6392996461277999,\n",
              " 0.8830963741913394,\n",
              " 0.42366946198641353,\n",
              " 0.4190995522654897,\n",
              " 0.4863227591038006,\n",
              " 0.18351976133829792,\n",
              " 0.1252273368300591,\n",
              " 0.6656604578336822,\n",
              " 0.04898528241505316,\n",
              " 0.4309562465647721,\n",
              " 0.3015109838359475,\n",
              " 0.5141683244688817,\n",
              " 0.6033583177231345,\n",
              " 0.31066972634278206,\n",
              " 9.99990000099999e-06,\n",
              " 0.12025387077416533,\n",
              " 0.6351109754837004,\n",
              " 0.5480702799212203,\n",
              " 9.999900000999992e-06,\n",
              " 0.3646627165432204,\n",
              " 0.5822577556667792,\n",
              " 0.4696976248827446,\n",
              " 0.5431168284265674,\n",
              " 0.3648550779653001,\n",
              " 0.5858010690198439,\n",
              " 0.3526261340554064,\n",
              " 0.359625150282075,\n",
              " 0.609797118272382,\n",
              " 0.35888745642818687,\n",
              " 0.3688726098852925,\n",
              " 0.7150246850741856,\n",
              " 0.7996847615373625,\n",
              " 0.8902221425578276,\n",
              " 0.1167311249667837,\n",
              " 0.6019444517664223,\n",
              " 0.7306699944616213,\n",
              " 0.9100722895775456,\n",
              " 0.410040364509148,\n",
              " 0.8554137353683066,\n",
              " 0.40896547822044427,\n",
              " 0.8425561624816313,\n",
              " 0.5060049708627531,\n",
              " 0.6796041767494743,\n",
              " 0.870821345732118,\n",
              " 0.4176287353377326,\n",
              " 0.1336126029109515,\n",
              " 0.5268134422545022,\n",
              " 0.19428355184181523,\n",
              " 0.4631247821809683,\n",
              " 0.038033320364956144,\n",
              " 0.3099203774385172,\n",
              " 0.6834572401843886,\n",
              " 0.5116502411845401,\n",
              " 0.8759871439789103,\n",
              " 0.5139258941335199,\n",
              " 0.3711714081520707,\n",
              " 0.4783480613706311,\n",
              " 0.4064261965491313,\n",
              " 0.7596387346876498,\n",
              " 0.2756497035912672,\n",
              " 0.09189973907640966,\n",
              " 0.4231689928822485,\n",
              " 0.15235730696642436,\n",
              " 0.760076135210787,\n",
              " 0.2884463807248315,\n",
              " 0.5198720540995841,\n",
              " 0.6849064627842962,\n",
              " 0.3215245349196612,\n",
              " 0.3868591465735421,\n",
              " 0.7417195023509597,\n",
              " 0.3353301444913088,\n",
              " 0.5231332237983992,\n",
              " 0.7077871070791191,\n",
              " 0.14238537029087536,\n",
              " 0.6633022136147759,\n",
              " 0.8162787083618575,\n",
              " 0.5836750389829305,\n",
              " 0.24721028533821268,\n",
              " 0.5787362168551441,\n",
              " 0.44009675090743183,\n",
              " 0.8557788322983152,\n",
              " 0.8914892034267811,\n",
              " 0.4884307482739392,\n",
              " 0.1278125977610929,\n",
              " 0.8297441190774199,\n",
              " 0.782895272045011,\n",
              " 9.99990000099999e-06,\n",
              " 0.953647674917103,\n",
              " 0.6944173332961353,\n",
              " 0.4099773355729464,\n",
              " 0.6720767443850378,\n",
              " 0.44032413605815757,\n",
              " 0.7627941144125915,\n",
              " 0.7690461487464946,\n",
              " 9.999900000999992e-06,\n",
              " 0.4287832237081927,\n",
              " 0.14286848496571822,\n",
              " 0.6340167011981457,\n",
              " 0.5783771822270375,\n",
              " 0.4704071521819318,\n",
              " 0.7463217544407117,\n",
              " 0.8031854303943643,\n",
              " 0.6067362229195912,\n",
              " 9.99990000099999e-06,\n",
              " 0.27481899786712244,\n",
              " 0.24946471333896422,\n",
              " 0.7010249251597168,\n",
              " 9.999900000999992e-06,\n",
              " 0.6598890391236203,\n",
              " 0.0944675841919767,\n",
              " 0.7651334591991642,\n",
              " 0.19841718636421055,\n",
              " 0.2991573097521326,\n",
              " 0.5570301846923048,\n",
              " 0.7299235181855863,\n",
              " 0.9472038347021885,\n",
              " 0.6258417142055475,\n",
              " 0.8626216329452071,\n",
              " 0.42389069418913633,\n",
              " 0.7391741435141168,\n",
              " 0.8804458470315173,\n",
              " 0.5472128037897733,\n",
              " 0.24091637835417465,\n",
              " 0.471118348811984,\n",
              " 0.6486865544608694,\n",
              " 0.47716834270364095,\n",
              " 0.44525578755981926,\n",
              " 0.08991966871953282,\n",
              " 1.0000000000000002,\n",
              " 0.7543602669381015,\n",
              " 0.9252614167818084,\n",
              " 0.33240278698965464,\n",
              " 0.6592878290660888,\n",
              " 0.5088176114954511,\n",
              " 9.999900000999992e-06,\n",
              " 0.7394358002078527,\n",
              " 0.6528040855071793,\n",
              " 1.0,\n",
              " 0.437697252419608,\n",
              " 0.18816268365738523,\n",
              " 0.6192767411519655,\n",
              " 0.3130772894081723,\n",
              " 0.8218174610088008,\n",
              " 0.49766254573078955,\n",
              " 0.8311611663836931,\n",
              " 0.6275166112040801,\n",
              " 0.10110844221057645,\n",
              " 0.664217259761975,\n",
              " 0.5055335037274804,\n",
              " 0.5132495506378105,\n",
              " 0.30637610817678407,\n",
              " 0.44724777249045405,\n",
              " 0.3225555182984504,\n",
              " 0.49731510789788874,\n",
              " 0.14586165264379142,\n",
              " 0.6062971560487999,\n",
              " 0.09342553160043354,\n",
              " 0.6974849268687792,\n",
              " 1.0000000000000002,\n",
              " 0.47573810585645726,\n",
              " 0.29327640746325156,\n",
              " 0.9254623166994348,\n",
              " 0.6902068735494886,\n",
              " 0.24893490544819402,\n",
              " 9.999900000999992e-06,\n",
              " 0.8896810454879817,\n",
              " 0.7509737699116543,\n",
              " 9.99990000099999e-06,\n",
              " 0.12200476696811408,\n",
              " 0.4869715777000927,\n",
              " 9.999900000999992e-06,\n",
              " 0.3668457830728559,\n",
              " 0.7548082544597297,\n",
              " 0.8790432031100276,\n",
              " 9.99990000099999e-06,\n",
              " 0.8547672681045781,\n",
              " 0.6043440415282313,\n",
              " 0.10436929023353693,\n",
              " 0.3874756704324406,\n",
              " 0.7424726117863516,\n",
              " 0.7502923051317232,\n",
              " 0.3763383653712293,\n",
              " 0.823954868289695,\n",
              " 0.6620481698129489,\n",
              " 0.4130005229105651,\n",
              " 0.7314267347188567,\n",
              " 0.56619329371079,\n",
              " 0.1121709218400982,\n",
              " 0.46224561974988054,\n",
              " 0.5516166095519532,\n",
              " 0.40338187834064915,\n",
              " 0.6206752218535222,\n",
              " 0.7521237547923509,\n",
              " 9.99990000099999e-06,\n",
              " 0.6496525256794417,\n",
              " 0.6336203949261394,\n",
              " 0.5417904656427319,\n",
              " 0.7304946227328943,\n",
              " 0.7338933491439996,\n",
              " 0.5434238362138879,\n",
              " 0.15808223004071398,\n",
              " 0.31353532305313025,\n",
              " 0.5414674197342371,\n",
              " 0.9414246573578678,\n",
              " 0.6027407948140072,\n",
              " 0.2237116610014654,\n",
              " 0.9378781945907163,\n",
              " 0.4434666435961935,\n",
              " 0.5279843733238736,\n",
              " 0.5198074307589319,\n",
              " 0.9343955160024179,\n",
              " 0.5968060460704377,\n",
              " 0.08016099842255052,\n",
              " 0.11903711512987258,\n",
              " 0.5894581787438705,\n",
              " 0.7922500853413017,\n",
              " 0.708724038333904,\n",
              " 0.5306684635260558,\n",
              " 0.21449958681734246,\n",
              " 0.46734790227023926,\n",
              " 0.45419383686205106,\n",
              " 0.11949519822744663,\n",
              " 0.6153074314819322,\n",
              " 0.7768649782332105,\n",
              " 0.5457920216311579,\n",
              " 0.7216245815827139,\n",
              " 0.23621461013846667,\n",
              " 0.7669733543277318,\n",
              " 0.9351580723105631,\n",
              " 0.3210857777581841,\n",
              " 0.7455780574216525,\n",
              " 0.38987487447604646,\n",
              " 0.26676214379821217,\n",
              " 0.6286536621289068,\n",
              " 9.999900000999994e-06,\n",
              " 0.9105872396834993,\n",
              " 0.2578600873042193,\n",
              " 0.9320399237657088,\n",
              " 0.19136303001333288,\n",
              " 0.2981453764584574,\n",
              " 0.6028110570727955,\n",
              " 0.24204459612136864,\n",
              " 0.6967607968661508,\n",
              " 0.542721545451697,\n",
              " 0.17816357490755577,\n",
              " 0.11203833131456907,\n",
              " 0.512076751891734,\n",
              " 0.7591463446679548,\n",
              " 0.4459641773806674,\n",
              " 0.32205097003058625,\n",
              " 0.4961321202012823,\n",
              " 0.477161008372323,\n",
              " 0.6857580624214404,\n",
              " 0.34049403893360924,\n",
              " 0.13917477980264434,\n",
              " 0.798269272132078,\n",
              " 0.7769754425936167,\n",
              " 0.13731858947371517,\n",
              " 0.702927688451016,\n",
              " 0.5805229208228968,\n",
              " 0.8188683756023319,\n",
              " 0.12432756936839012,\n",
              " 0.7150177966042796,\n",
              " 0.6745230324816848,\n",
              " 0.6731806715790184,\n",
              " 0.8068144518353234,\n",
              " 0.1863344946360102,\n",
              " 0.4457388017618273,\n",
              " 1.0,\n",
              " 0.2731451264665625,\n",
              " 0.7128493916019812,\n",
              " 0.6212429809593448,\n",
              " 0.09843486899753291,\n",
              " 0.09414548920082097,\n",
              " 0.6929130991125522,\n",
              " 0.5990032261608986,\n",
              " 0.7602453268903766,\n",
              " 0.5151177287175431,\n",
              " 0.08724660750338877,\n",
              " 0.8426877956474143,\n",
              " 9.999900000999992e-06,\n",
              " 0.5453948054392859,\n",
              " 0.7516795946127668,\n",
              " 0.32454277457569874,\n",
              " 0.947322360954261,\n",
              " 0.5921100521632648,\n",
              " 0.7243479488410012,\n",
              " 0.5127531194082688,\n",
              " 0.4007237537939762,\n",
              " 0.6574841357246254,\n",
              " 0.7773865007722512,\n",
              " 0.20650254051642572,\n",
              " 0.4412552467119401,\n",
              " 0.8142497236105274,\n",
              " 0.8422251858710942,\n",
              " 0.19212498411158555,\n",
              " 0.4708451755306906,\n",
              " 0.6158604910003972,\n",
              " 0.5906374152543407,\n",
              " 0.4692049452614592,\n",
              " 0.8354016690274881,\n",
              " 0.12973671692763486,\n",
              " 0.8555021573303437,\n",
              " 9.999900000999992e-06,\n",
              " 0.33882195364631795,\n",
              " 0.8154307875956296,\n",
              " 0.1975159406927229,\n",
              " 0.11094954334567239,\n",
              " 0.4851311218608712,\n",
              " 0.5299631065881176,\n",
              " 0.6438873659769101,\n",
              " 9.999900000999992e-06,\n",
              " 0.7930029007514903,\n",
              " 0.9276097441414403,\n",
              " 0.4919105642645184,\n",
              " 0.33318798717728826,\n",
              " 0.6067932400577768,\n",
              " 0.8469160637807521,\n",
              " 9.99990000099999e-06,\n",
              " 1.0000000000000002,\n",
              " 0.8587448525387225,\n",
              " 0.08176219640895463,\n",
              " 0.92298394443088,\n",
              " 9.99990000099999e-06,\n",
              " 0.5516262570453162,\n",
              " 0.8594348609667651,\n",
              " 0.18139826938725548,\n",
              " 0.5397119251236512,\n",
              " 0.3436691022101729,\n",
              " 0.4250518076135687,\n",
              " 0.1945239777096531,\n",
              " 0.3073591860266765,\n",
              " 0.45939884863836394,\n",
              " 0.30031403092107883,\n",
              " 0.7299678330394256,\n",
              " 0.6808575369396348,\n",
              " 9.99990000099999e-06,\n",
              " 0.876499535821379,\n",
              " 0.3176816934521084,\n",
              " 0.29799172884464875,\n",
              " 0.25329353659915355,\n",
              " 1.0,\n",
              " 0.6431353529396656,\n",
              " 0.7226890120026016,\n",
              " 0.07167724072598078,\n",
              " 0.44378988854255164,\n",
              " 0.5778417041762733,\n",
              " 0.6957981503451418,\n",
              " 0.834215059008568,\n",
              " 0.6553980438158513,\n",
              " 0.4749341996009297,\n",
              " 0.781590163602058,\n",
              " 0.8007818504800714,\n",
              " 0.7931880521918283,\n",
              " 1.0000000000000002,\n",
              " 0.8790906445771233,\n",
              " 0.45227242024813996,\n",
              " 0.3185248284832776,\n",
              " 0.8200746950414466,\n",
              " 0.4322740442695536,\n",
              " 0.09617162961259476,\n",
              " 0.38932237177358625,\n",
              " 1.0,\n",
              " 0.5512526164704918,\n",
              " 0.6933628493834136,\n",
              " 0.6953095587193687,\n",
              " 0.5705287900811812,\n",
              " 0.768396287065398,\n",
              " 0.7156081204577986,\n",
              " 0.5900988182826337,\n",
              " 0.7615888580055026,\n",
              " 0.19855286440273429,\n",
              " 0.07754945430342208,\n",
              " 0.3354146558016338,\n",
              " 0.7069056462953394,\n",
              " 9.99990000099999e-06,\n",
              " 0.44351143384167785,\n",
              " 0.4987272929712044,\n",
              " 0.31762486325903744,\n",
              " 1.0,\n",
              " 0.0624096872065452,\n",
              " 0.2793326869221047,\n",
              " 0.36256533907311983,\n",
              " 0.4283010151778795,\n",
              " 0.24029844074392864,\n",
              " 0.20609989908607618,\n",
              " 0.08214590785709634,\n",
              " 0.647402062748279,\n",
              " 0.7707469629688888,\n",
              " 0.6772803472698463,\n",
              " 0.5852657769657379,\n",
              " 9.99990000099999e-06,\n",
              " 1.0,\n",
              " 0.11912861724985338,\n",
              " 0.3916458465187206,\n",
              " 0.5017419741170286,\n",
              " 0.5390978920700545,\n",
              " 0.5587195443619866,\n",
              " 0.11978371603775095,\n",
              " 0.891386282737067,\n",
              " 0.5625662483047841,\n",
              " 0.5810871043446059,\n",
              " 0.6756033936058167,\n",
              " 0.5629435245037998,\n",
              " 0.5054980560312986,\n",
              " 0.4343210783288344,\n",
              " 0.2045547078885182,\n",
              " 0.499526051143716,\n",
              " 0.285066859640538,\n",
              " 0.4011957411559959,\n",
              " 0.7340583378806101,\n",
              " 0.3840010445581161,\n",
              " 0.5276093366009184,\n",
              " 0.9427856570776217,\n",
              " 0.6948435598650708,\n",
              " 0.09796719416005231,\n",
              " 0.6043140577406041,\n",
              " 9.99990000099999e-06,\n",
              " 0.6828297731582706,\n",
              " 0.5133984679821633,\n",
              " 0.8310511084379772,\n",
              " 0.40655002489833175,\n",
              " 0.7300971631398977,\n",
              " 0.7665515272772392,\n",
              " 0.1742282654247868,\n",
              " 9.999900000999992e-06,\n",
              " 0.7060477383985685,\n",
              " 0.13800436959360082,\n",
              " 1.0000000000000002,\n",
              " 0.3981830455135796,\n",
              " 0.1949927443801912,\n",
              " 0.3715340222376855,\n",
              " 0.3350459542621557,\n",
              " 0.5612542312253731,\n",
              " 0.635804094757988,\n",
              " 0.8603746555517222,\n",
              " 0.06125270258952932,\n",
              " 0.5641454887280066,\n",
              " 0.7407885623421397,\n",
              " 0.5213315225091976,\n",
              " 0.38804292866665974,\n",
              " 9.99990000099999e-06,\n",
              " 0.3514652238140171,\n",
              " 0.6778613438861817,\n",
              " 0.33618291374614123,\n",
              " 0.08389741514225275,\n",
              " 0.36979852439715066,\n",
              " 0.5811918137192378,\n",
              " 9.99990000099999e-06,\n",
              " 0.8861251274474409,\n",
              " 0.4201080797691937,\n",
              " 0.2694444954288068,\n",
              " 0.21451394545609087,\n",
              " 0.5074351467483649,\n",
              " 0.144567793110547,\n",
              " 9.999900000999992e-06,\n",
              " 0.7146401233154661,\n",
              " 0.3157123706778503,\n",
              " 0.23720842641236942,\n",
              " 0.3644561512200914,\n",
              " 0.44138858611734344,\n",
              " 0.37757249245339314,\n",
              " 0.162011899633143,\n",
              " 0.42222183187656914,\n",
              " 0.32017985763412965,\n",
              " 0.6957407606202257,\n",
              " 0.5681489524785401,\n",
              " 0.15849295452250897,\n",
              " 0.10935185573123285,\n",
              " 0.7614477971871937,\n",
              " 0.5832095631824236,\n",
              " 0.6795666272131146,\n",
              " 0.9254329191275801,\n",
              " 0.7789355231897733,\n",
              " 0.2051435373876733,\n",
              " 0.7203142396393722,\n",
              " 0.08467303704065712,\n",
              " 0.6967045810219341,\n",
              " 9.99990000099999e-06,\n",
              " 0.12916256377364735,\n",
              " 0.5642122309473595,\n",
              " 0.4814329532776998,\n",
              " 0.10765007829258774,\n",
              " 0.8662465853390894,\n",
              " 0.47150396118336474,\n",
              " 0.429390165655741,\n",
              " 0.3060247945493574,\n",
              " 0.3098499402758754,\n",
              " 0.5175947715125383,\n",
              " 0.7011292337661844,\n",
              " 0.47593136385826057,\n",
              " 0.7133692947611262,\n",
              " 0.8697541823865059,\n",
              " 0.07002541848635695,\n",
              " 0.25694919346109596,\n",
              " 0.5512526164704918,\n",
              " 0.7304109220934208,\n",
              " 0.41118465992517206,\n",
              " 0.45746796392598116,\n",
              " 0.6624384581224273,\n",
              " 0.5654418799638222,\n",
              " 0.7388328376750364,\n",
              " 0.26783927992977025,\n",
              " 0.5160732308537139,\n",
              " 0.5595987127942929,\n",
              " 0.5994891096919726,\n",
              " 0.18072995171574185,\n",
              " 0.538271373593003,\n",
              " 0.5574823628308645,\n",
              " 0.5355497441109768,\n",
              " 0.1419561091271411,\n",
              " 0.4741256496055402,\n",
              " 0.7767732539496099,\n",
              " 0.2654123564486885,\n",
              " 0.4853245054055988,\n",
              " 0.37807872442208756,\n",
              " 0.806958868760098,\n",
              " 0.5076267683781212,\n",
              " 0.7848364375368612,\n",
              " 0.5536842144541418,\n",
              " 0.4388388949698168,\n",
              " 0.21241608085989364,\n",
              " 0.17420364170008673,\n",
              " 0.4716094069422371,\n",
              " 0.5900988182826337,\n",
              " 0.7468469516152507,\n",
              " 0.5475145349653474,\n",
              " 0.26652779781791336,\n",
              " 0.6525145978022832,\n",
              " 0.25088946284093017,\n",
              " 0.9796063548784769,\n",
              " 0.7117341963976959,\n",
              " 0.9014898059948812,\n",
              " 0.8775520773823213,\n",
              " 0.721000487293583,\n",
              " 1.0,\n",
              " 0.5000521986630845,\n",
              " 0.5993883575686622,\n",
              " 0.6715410703588293,\n",
              " 0.4945443509623645,\n",
              " 0.3394197636783202,\n",
              " 0.7736217942814326,\n",
              " 0.6871861446699324,\n",
              " 0.7642473163982366,\n",
              " 9.999900000999992e-06,\n",
              " 0.715173446699132,\n",
              " 0.10595321758430785,\n",
              " 0.7074154964104967,\n",
              " 0.3107924899615465,\n",
              " 0.7365875684977691,\n",
              " 0.6751056657776545,\n",
              " 0.8736244853381786,\n",
              " 0.519088318263048,\n",
              " 0.439947815948189,\n",
              " 0.8268419957160549,\n",
              " 0.5506822647027765,\n",
              " 0.4507271488386508,\n",
              " 0.10878279895941133,\n",
              " 0.5999298429188348,\n",
              " 0.0627054285355156,\n",
              " 0.5605853419240682,\n",
              " 0.506645193384494,\n",
              " 0.8315539992234611,\n",
              " 0.8074636698779823,\n",
              " 0.6232784298656711,\n",
              " 0.787255646057408,\n",
              " 0.4837182695892512,\n",
              " 0.330513137283389,\n",
              " 0.47691493856595657,\n",
              " 0.4504155683752992,\n",
              " 0.21500539795743118,\n",
              " 0.8831415306839061,\n",
              " 0.5592334925875171,\n",
              " 0.34717555410493955,\n",
              " 0.1489810803302263,\n",
              " 0.6583024357849031,\n",
              " 0.8217585747528575,\n",
              " 0.5348999909562991,\n",
              " 0.26682539761950563,\n",
              " 0.11918870957141793,\n",
              " 0.5157478277543637,\n",
              " 0.22123240518192197,\n",
              " 0.1217428397001098,\n",
              " 0.870153336849313,\n",
              " 0.8153005408128089,\n",
              " 0.13018270435560575,\n",
              " 0.10892815527740977,\n",
              " 0.7051252887257581,\n",
              " 0.262886584275541,\n",
              " 0.6658621222181116,\n",
              " 0.6007144128645772,\n",
              " 0.6524026150203434,\n",
              " 0.48058303448220696,\n",
              " 0.29745023961351363,\n",
              " 0.6232131413436348,\n",
              " 0.5215816201302419,\n",
              " 0.4980471821567192,\n",
              " 0.5262254993909025,\n",
              " 0.7231394626825571,\n",
              " 0.7696902587275445,\n",
              " 0.6228655406051128,\n",
              " 0.2188226731928807,\n",
              " 0.23708928440287658,\n",
              " 0.7136876567625916,\n",
              " 0.7638035039555194,\n",
              " 0.4666578523975524,\n",
              " 0.6218128436391449,\n",
              " 0.7163824059644288,\n",
              " 1.0,\n",
              " 9.999900000999992e-06,\n",
              " 0.26358356070377875,\n",
              " 0.7552326062512941,\n",
              " 0.3633719712737569,\n",
              " 0.42051842136446016,\n",
              " 0.6333345535477654,\n",
              " 0.8450322062992272,\n",
              " 0.7582597955411116,\n",
              " 0.5494164887269127,\n",
              " 0.6448451774731395,\n",
              " 0.44725694724129944,\n",
              " 0.32740889588555067,\n",
              " 0.7810721619024324,\n",
              " 0.4807746370351997,\n",
              " 0.204750497196263,\n",
              " 0.4757221089726064,\n",
              " 0.3987452122454102,\n",
              " 9.999900000999992e-06,\n",
              " 9.999900000999992e-06,\n",
              " 0.7807887776013416,\n",
              " 0.708860181235656,\n",
              " 0.46261142082975415,\n",
              " 9.99990000099999e-06,\n",
              " 0.47066750531492096,\n",
              " 0.25059478779212835,\n",
              " 0.15920926585599007,\n",
              " 0.6191179656916957,\n",
              " 0.47871400743075915,\n",
              " 0.41834433606948856,\n",
              " 0.44791607767800407,\n",
              " 0.44348830444350934,\n",
              " 0.5826455139392277,\n",
              " 0.7479004925675792,\n",
              " 0.20388074062953807,\n",
              " 0.49143780340133747,\n",
              " 0.34574750469913657,\n",
              " 0.7211858624883764,\n",
              " 9.999900000999992e-06,\n",
              " 0.6300443348930342,\n",
              " 0.4702018358983871,\n",
              " 0.6079791403233917,\n",
              " 0.5741348953067732,\n",
              " 0.21283680355833595,\n",
              " 0.34837061802031366,\n",
              " 0.41272852926765397,\n",
              " 0.5480123418069937,\n",
              " 0.775267849805641,\n",
              " 0.5716708681961803,\n",
              " 0.23837224022617157,\n",
              " 0.5447787071287539,\n",
              " 0.6076713823695151,\n",
              " 0.10871940540531035,\n",
              " 0.7856014372106399,\n",
              " 0.31728797980073264,\n",
              " 0.24850611953135163,\n",
              " 0.30176429693939677,\n",
              " 0.9355826678508024,\n",
              " 9.999900000999992e-06,\n",
              " 0.12317678232880183,\n",
              " 0.6444664819146942,\n",
              " 0.16857053856172868,\n",
              " 0.5939872001253937,\n",
              " 0.7694229124119771,\n",
              " 9.999900000999992e-06,\n",
              " 0.4558085000197331,\n",
              " 0.1291712143242273,\n",
              " 0.16068913501059767,\n",
              " 0.6726782742192556,\n",
              " 0.5690591061601842,\n",
              " 9.99990000099999e-06,\n",
              " 0.6521921684985403,\n",
              " 0.5298322491068675,\n",
              " 0.34553468692144607,\n",
              " 0.1502237945497266,\n",
              " 0.40708996532620484,\n",
              " 0.1040604550596818,\n",
              " 0.8332629478820107,\n",
              " 1.0000000000000002,\n",
              " 0.548835256510087,\n",
              " 0.8375694503207335,\n",
              " 0.2190514126162946,\n",
              " 0.551426828451316,\n",
              " 0.5497730805237871,\n",
              " 9.99990000099999e-06,\n",
              " 0.4905788948512908,\n",
              " 0.3939268251738546,\n",
              " 0.264258875503445,\n",
              " 0.37352423029005544,\n",
              " 0.9360815279272202,\n",
              " 0.8415161271558403,\n",
              " 0.847036436459526,\n",
              " 0.5345552831309109,\n",
              " 0.4834288044462938,\n",
              " 0.27114557823540103,\n",
              " 0.6380328915718706,\n",
              " 0.35957497129197924,\n",
              " 0.6498369825091737,\n",
              " 0.28449932342892403,\n",
              " 0.2904872539759445,\n",
              " 0.1381389870629334,\n",
              " 9.999900000999992e-06,\n",
              " 0.30393628700017267,\n",
              " 0.8924808495392436,\n",
              " 0.5106697702560526,\n",
              " 0.8292630862345798,\n",
              " 0.05334024354833044,\n",
              " 0.13515806440286485,\n",
              " 0.4475369242371929,\n",
              " 0.5386500328821738,\n",
              " 1.0,\n",
              " 0.6328061682549893,\n",
              " 0.2953481655363995,\n",
              " 0.7046254807470997,\n",
              " 0.3800362008381358,\n",
              " 0.49145724463038926,\n",
              " 0.5351890737244005,\n",
              " 0.5831112073219988,\n",
              " 0.7360643865944044,\n",
              " 0.38302206017283796,\n",
              " 0.23111128042693319,\n",
              " 0.6592230309918085,\n",
              " 0.6485988164567631,\n",
              " 0.5938135334022316,\n",
              " 0.15353885204382273,\n",
              " 0.12627007662048434,\n",
              " 1.0,\n",
              " 0.5044619981997644,\n",
              " 0.589917658284549,\n",
              " 0.43605816065339065,\n",
              " 0.1640258857935498,\n",
              " 0.3129284448935308,\n",
              " 0.5970553136948025,\n",
              " 0.46090780048616475,\n",
              " 0.7059666974111646,\n",
              " 0.1227130831620723,\n",
              " 0.8364653556755874,\n",
              " 0.7942292145541447,\n",
              " 0.6218951931539317,\n",
              " 0.31610142462703444,\n",
              " 0.7660187945903985,\n",
              " 0.6958640535926871,\n",
              " 0.6565697592879225,\n",
              " 0.6065674587651324,\n",
              " 1.0,\n",
              " 0.62608694274314,\n",
              " 0.4284186907628352,\n",
              " 0.2293971420482913,\n",
              " 0.48460496716221185,\n",
              " 0.7368864344021065,\n",
              " 0.40203106430583246,\n",
              " 0.4823497379733175,\n",
              " 0.10579001971753403,\n",
              " 0.5412519689043807,\n",
              " 0.42043902866573074,\n",
              " 0.8678302935990562,\n",
              " 0.5351236791765119,\n",
              " 0.8815113524834854,\n",
              " 0.21452379677197284,\n",
              " 0.43604681680611723,\n",
              " 0.5858194621392103,\n",
              " 1.0,\n",
              " 0.2293944365970376,\n",
              " 9.99990000099999e-06,\n",
              " 0.5062505039052823,\n",
              " 0.4572546556835137,\n",
              " 0.6829625874555162,\n",
              " 0.46403999955402636,\n",
              " 0.4619335633031953,\n",
              " 0.727884212724701,\n",
              " 0.118272316977545,\n",
              " 1.0000000000000002,\n",
              " 0.5764401883889605,\n",
              " 0.9438519029910026,\n",
              " 0.6554763937390321,\n",
              " 0.7198777345403163,\n",
              " 0.5068516689590494,\n",
              " 0.6099293284119094,\n",
              " 0.4957548390553221,\n",
              " 0.7232206027025923,\n",
              " 0.5061688610597845,\n",
              " 0.05479992319848688,\n",
              " 0.7293156520682431,\n",
              " 1.0,\n",
              " 0.6722730994365689,\n",
              " 0.2105665344901751,\n",
              " 0.09244657723724631,\n",
              " 9.99990000099999e-06,\n",
              " 0.5559839255960771,\n",
              " 0.3515919459929856,\n",
              " 0.5612274862157725,\n",
              " 0.5700132191418834,\n",
              " 0.5528655356125428,\n",
              " 0.43076560944251363,\n",
              " 0.4032675874652838,\n",
              " 0.2106492989441934,\n",
              " 0.8628301722704375,\n",
              " 0.6416867780600338,\n",
              " 0.6581564665146138,\n",
              " 0.7031230811005527,\n",
              " 1.0,\n",
              " 0.1196113152399392,\n",
              " 0.4254842253861842,\n",
              " 0.1912467222432124,\n",
              " 0.3596266097756502,\n",
              " 0.6094507853698943,\n",
              " 0.6680410541225584,\n",
              " 0.5627589562152198,\n",
              " 9.99990000099999e-06,\n",
              " 0.6483448860717083,\n",
              " 0.1413353970486904,\n",
              " 0.16392969190150958,\n",
              " 0.3757719308294838,\n",
              " 0.43659747007495814,\n",
              " 0.5080628689908362,\n",
              " 0.5951604421946887,\n",
              " 9.999900000999992e-06,\n",
              " 9.999900000999992e-06,\n",
              " 0.09032280076800552,\n",
              " 0.3595857868319542,\n",
              " 0.376210680471225,\n",
              " 9.99990000099999e-06,\n",
              " 0.7268552605997123,\n",
              " 9.999900000999992e-06,\n",
              " 0.5774493088992309,\n",
              " 0.4635066652769769,\n",
              " 0.7296693812052453,\n",
              " 0.11755514033152147,\n",
              " 0.3742562864582335,\n",
              " 0.07808726513295954,\n",
              " 0.5885851313744045,\n",
              " 0.5876431328689053,\n",
              " 0.200714153781733,\n",
              " 0.7986648159100508,\n",
              " 0.5273168876357764,\n",
              " 0.1547240732083082,\n",
              " 0.7956320662395591,\n",
              " 0.5156532561741259,\n",
              " 0.586981710846639,\n",
              " 9.999900000999992e-06,\n",
              " 0.31150982018983164,\n",
              " 0.17169028788514615,\n",
              " 0.6085947272405865,\n",
              " 0.8967186517382391,\n",
              " 0.6072024285197566,\n",
              " 0.43527841856332605,\n",
              " 0.3986761118108686,\n",
              " 0.5045983766831982,\n",
              " 0.8325884973084108,\n",
              " 0.6844006382776114,\n",
              " 0.13143404590434316,\n",
              " 0.8585930839482387,\n",
              " 0.7347143370512108,\n",
              " 0.637668700024807,\n",
              " 0.38447725192359383,\n",
              " 0.37328165722496937,\n",
              " 0.2692839075626428,\n",
              " 0.11806931734178286,\n",
              " 0.39200312120427294,\n",
              " 0.9206541187649862,\n",
              " 0.5260942782595098,\n",
              " 0.7037420028672666,\n",
              " 0.4596944972188932,\n",
              " 0.6380468270993483,\n",
              " 0.4116756528443841,\n",
              " 9.999900000999992e-06,\n",
              " 0.3754231951316197,\n",
              " 9.99990000099999e-06,\n",
              " 0.5360078963978689,\n",
              " 0.5839275794335804,\n",
              " 9.99990000099999e-06,\n",
              " 0.3259760916201775,\n",
              " 0.2534855225994808,\n",
              " 0.8185351297040817,\n",
              " 0.871891302031772,\n",
              " 0.685495633887286,\n",
              " 9.99990000099999e-06,\n",
              " 0.7924658673037045,\n",
              " 0.5316228875690919,\n",
              " 0.42949996048544437,\n",
              " 0.08234131219055646,\n",
              " ...]"
            ]
          },
          "metadata": {},
          "execution_count": 42
        }
      ],
      "source": [
        "features_tfidf_cos_train"
      ]
    },
    {
      "cell_type": "code",
      "execution_count": null,
      "id": "4751f0f9",
      "metadata": {
        "id": "4751f0f9"
      },
      "outputs": [],
      "source": [
        "#features_tfidf_cos"
      ]
    },
    {
      "cell_type": "markdown",
      "id": "436e6d42",
      "metadata": {
        "id": "436e6d42"
      },
      "source": [
        "#### FastText\n",
        "FastText was trained in two different ways:\n",
        "1. **Trained on our dataset**\n",
        "2. **Pre-trained dataset**: using the lee_backgorund available one.\n",
        "\n",
        "\n",
        "Firstly it can be seen the fasttext trained on the available dataset in the following cells:"
      ]
    },
    {
      "cell_type": "code",
      "execution_count": null,
      "id": "c98f814b",
      "metadata": {
        "id": "c98f814b",
        "outputId": "0e9bf7c3-0ea9-4346-aa77-cb8de21fbe1e",
        "colab": {
          "base_uri": "https://localhost:8080/"
        }
      },
      "outputs": [
        {
          "output_type": "execute_result",
          "data": {
            "text/plain": [
              "(283690, 361190)"
            ]
          },
          "metadata": {},
          "execution_count": 43
        }
      ],
      "source": [
        "# Training our own model\n",
        "model_ft = FastText(vector_size = 300, min_count=5,sg = 1,seed = 345)\n",
        "model_ft.build_vocab(corpus_iterable=sentences_prep1_train+sentences_prep2_train)\n",
        "model_ft.train(corpus_iterable = sentences_prep1_train+sentences_prep2_train,total_examples=model_ft.corpus_count, epochs=model_ft.epochs)\n",
        "\n"
      ]
    },
    {
      "cell_type": "markdown",
      "source": [
        "Calculating WM distance between obtained fastText embedding. Subsequently, extracting features that are then used in supervised models."
      ],
      "metadata": {
        "id": "9EjdHfBj9Uqi"
      },
      "id": "9EjdHfBj9Uqi"
    },
    {
      "cell_type": "code",
      "execution_count": null,
      "id": "04811899",
      "metadata": {
        "id": "04811899"
      },
      "outputs": [],
      "source": [
        "feature_FT_wmdistance_train = [[model_ft.wv.wmdistance(sentences_prep1_train[i],sentences_prep2_train[i])] for i in range(len(sentences_prep1_train))]\n",
        "feature_FT_wmdistance_dev = [[model_ft.wv.wmdistance(sentences_prep1_dev[i],sentences_prep2_dev[i])] for i in range(len(sentences_prep1_dev))]\n",
        "feature_FT_wmdistance_test = [[model_ft.wv.wmdistance(sentences_prep1_test[i],sentences_prep2_test[i])] for i in range(len(sentences_prep1_test))]\n"
      ]
    },
    {
      "cell_type": "markdown",
      "id": "d77e37f8",
      "metadata": {
        "id": "d77e37f8"
      },
      "source": [
        "The other way the FastText model can be build is training a model on our data set and then updating it with pretrained FastText model"
      ]
    },
    {
      "cell_type": "code",
      "execution_count": null,
      "id": "8bb8750b",
      "metadata": {
        "id": "8bb8750b"
      },
      "outputs": [],
      "source": [
        "model_ft_buildup = FastText(vector_size = 300, min_count=5,sg = 1,seed = 345)\n",
        "model_ft_buildup.build_vocab(corpus_iterable=sentences_prep_train)\n",
        "model_ft_buildup.train(corpus_iterable = sentences_prep1_train+sentences_prep2_train,total_examples=model_ft.corpus_count, epochs=model_ft.epochs)\n",
        "\n",
        "corpus_file = datapath('lee_background.cor')\n",
        "model_ft_buildup.build_vocab(corpus_file=corpus_file, update=True)"
      ]
    },
    {
      "cell_type": "code",
      "execution_count": null,
      "id": "ef7762ad",
      "metadata": {
        "id": "ef7762ad"
      },
      "outputs": [],
      "source": [
        "feature_bFT_wmdistance_train = [[model_ft_buildup.wv.wmdistance(sentences_prep1_train[i],sentences_prep2_train[i])] for i in range(len(sentences_prep1_train))]\n",
        "feature_bFT_wmdistance_dev = [[model_ft_buildup.wv.wmdistance(sentences_prep1_dev[i],sentences_prep2_dev[i])] for i in range(len(sentences_prep1_dev))]\n",
        "feature_bFT_wmdistance_test = [[model_ft_buildup.wv.wmdistance(sentences_prep1_test[i],sentences_prep2_test[i])] for i in range(len(sentences_prep1_test))]\n"
      ]
    },
    {
      "cell_type": "markdown",
      "id": "48970114",
      "metadata": {
        "id": "48970114"
      },
      "source": [
        "Secondly, the **wiki-news-subwords** pretrained model was used:"
      ]
    },
    {
      "cell_type": "code",
      "execution_count": null,
      "id": "231ea979",
      "metadata": {
        "id": "231ea979"
      },
      "outputs": [],
      "source": [
        "model_ft_wiki = gensim.downloader.load('fasttext-wiki-news-subwords-300')"
      ]
    },
    {
      "cell_type": "markdown",
      "id": "017c4905",
      "metadata": {
        "id": "017c4905"
      },
      "source": [
        "#### Word2Vec\n",
        "Word2Vec was trained in two different ways:\n",
        "1. **Trained on our dataset**\n",
        "2. **Pre-trained dataset**: using the lee_backgorund available one.\n",
        "\n",
        "Firstly it can be seen the Word2Vec trained on the available dataset in the following cells:\n"
      ]
    },
    {
      "cell_type": "markdown",
      "source": [
        "It has been noticed that when applying the word2Vec model on test dataset it generates an error, because of the encounter with OOV words. Due to that the model has been dismissed"
      ],
      "metadata": {
        "id": "2n2VO1pM9hq1"
      },
      "id": "2n2VO1pM9hq1"
    },
    {
      "cell_type": "code",
      "execution_count": null,
      "id": "11721cd0",
      "metadata": {
        "id": "11721cd0"
      },
      "outputs": [],
      "source": [
        "# what about OOV?\n",
        "model_w2v = Word2Vec(sentences=sentences_prep1_train+sentences_prep2_train,vector_size = 300,window=4, min_count=1, workers=4)"
      ]
    },
    {
      "cell_type": "markdown",
      "id": "315486c3",
      "metadata": {
        "id": "315486c3"
      },
      "source": [
        "Secondly, a the Googlenews-vectors-negative pretrained model can be used. The problem that arises by using a pretrained data for Word2Vec is that not all the words contained in the pretrained data are also contained in the actual stsbenchamrk dataset and viceversa.\n",
        "Therefore, the pretrained data hasn't been actually used furthermore."
      ]
    },
    {
      "cell_type": "code",
      "execution_count": null,
      "id": "ecf1219f",
      "metadata": {
        "id": "ecf1219f"
      },
      "outputs": [],
      "source": [
        "model_path = 'GoogleNews-vectors-negative300.bin'\n",
        "\n",
        "model_w2v_pretrained = gensim.models.KeyedVectors.load_word2vec_format(model_path, binary=True)\n",
        "# If only pretrained model is used some words are missing there so we get an error"
      ]
    },
    {
      "cell_type": "markdown",
      "id": "7403b1ce",
      "metadata": {
        "id": "7403b1ce"
      },
      "source": [
        "The word embeddings can be calculated trhough the definition of the following function:"
      ]
    },
    {
      "cell_type": "code",
      "execution_count": null,
      "id": "282adb9f",
      "metadata": {
        "id": "282adb9f"
      },
      "outputs": [],
      "source": [
        "def words_embedding_mean(sentences_prep1,sentences_prep2,model):\n",
        "    sentences1_embd = []\n",
        "    sentences2_embd = []\n",
        "    for sentence in sentences_prep1:\n",
        "        sentences1_embd.append(np.mean(model.wv[sentence],axis = 0))\n",
        "\n",
        "    for sentence in sentences_prep2:\n",
        "        sentences2_embd.append(np.mean(model.wv[sentence],axis = 0))\n",
        "    return(sentences1_embd,sentences2_embd)\n"
      ]
    },
    {
      "cell_type": "markdown",
      "id": "840838ef",
      "metadata": {
        "id": "840838ef"
      },
      "source": [
        "Finally, the cosine similarity between word embeddings can be computed."
      ]
    },
    {
      "cell_type": "code",
      "execution_count": null,
      "id": "cf503a51",
      "metadata": {
        "id": "cf503a51"
      },
      "outputs": [],
      "source": [
        "def cos_similarity_feature(sentences1_embd,sentences2_embd):\n",
        "    return  [1 - distance.cosine(sentences1_embd[i], sentences2_embd[i]) for i in range(len(sentences1_embd))]"
      ]
    },
    {
      "cell_type": "code",
      "execution_count": null,
      "id": "189c3035",
      "metadata": {
        "collapsed": true,
        "id": "189c3035"
      },
      "outputs": [],
      "source": [
        "sentences1_embd_train,sentences2_embd_train = words_embedding_mean(sentences_prep1_train,sentences_prep2_train,model_w2v)\n",
        "sentences1_embd_test,sentences2_embd_test = words_embedding_mean(sentences_prep1_test,sentences_prep2_test,model_w2v)\n",
        "sentences1_embd_dev,sentences2_embd_dev = words_embedding_mean(sentences_prep1_dev,sentences_prep2_dev,model_w2v)"
      ]
    },
    {
      "cell_type": "code",
      "execution_count": null,
      "id": "dea592b7",
      "metadata": {
        "id": "dea592b7"
      },
      "outputs": [],
      "source": [
        "feature_w2v_cos_train = cos_similarity_feature(sentences1_embd_train,sentences2_embd_train)\n",
        "feature_w2v_cos_test= cos_similarity_feature(sentences1_embd_test,sentences2_embd_test)\n",
        "feature_w2v_cos_dev = cos_similarity_feature(sentences1_embd_dev,sentences2_embd_dev)"
      ]
    },
    {
      "cell_type": "markdown",
      "id": "a5abf19a",
      "metadata": {
        "id": "a5abf19a"
      },
      "source": [
        "The distance between sentences can be computed thourgh the function wm_distance_feature."
      ]
    },
    {
      "cell_type": "code",
      "execution_count": null,
      "id": "1e62c2f5",
      "metadata": {
        "id": "1e62c2f5"
      },
      "outputs": [],
      "source": [
        "def wm_distance_feature(sentences_prep1,sentences_prep2):\n",
        "    sentences_prep_string1 = [' '.join(sentence) for sentence in sentences_prep1]\n",
        "    sentences_prep_string2 = [' '.join(sentence) for sentence in sentences_prep2]\n",
        "    return  [model_w2v.wv.wmdistance(s1,s2) for s1,s2 in zip(sentences_prep_string1,sentences_prep_string2)]"
      ]
    },
    {
      "cell_type": "markdown",
      "id": "9486614c",
      "metadata": {
        "id": "9486614c"
      },
      "source": [
        "## Supervised Learning\n",
        "In this sections the supervised learning model is applied, in particular a Support Vector Regression model (SVR).\n",
        "Word embedding features were extracted and used to train the SVR model.\n",
        "Different similarity metrics were used such as:\n",
        "- **S2V similarity** is another method that measures two sentences similarity directly, by using the following formula:\n",
        "![nlp1.jpg](data:image/jpeg;base64,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)\n",
        "\n"
      ]
    },
    {
      "cell_type": "markdown",
      "id": "9b6a8170",
      "metadata": {
        "id": "9b6a8170"
      },
      "source": [
        "- **maxSim(w,S)** is to find the maximum similarity value between one word in one sentence and all words in another sentence, which is defined as:\n",
        "![nlp2.jpg](data:image/jpeg;base64,/9j/4AAQSkZJRgABAQEAYABgAAD/2wBDAAYEBQYFBAYGBQYHBwYIChAKCgkJChQODwwQFxQYGBcUFhYaHSUfGhsjHBYWICwgIyYnKSopGR8tMC0oMCUoKSj/2wBDAQcHBwoIChMKChMoGhYaKCgoKCgoKCgoKCgoKCgoKCgoKCgoKCgoKCgoKCgoKCgoKCgoKCgoKCgoKCgoKCgoKCj/wAARCACPAiUDASIAAhEBAxEB/8QAHwAAAQUBAQEBAQEAAAAAAAAAAAECAwQFBgcICQoL/8QAtRAAAgEDAwIEAwUFBAQAAAF9AQIDAAQRBRIhMUEGE1FhByJxFDKBkaEII0KxwRVS0fAkM2JyggkKFhcYGRolJicoKSo0NTY3ODk6Q0RFRkdISUpTVFVWV1hZWmNkZWZnaGlqc3R1dnd4eXqDhIWGh4iJipKTlJWWl5iZmqKjpKWmp6ipqrKztLW2t7i5usLDxMXGx8jJytLT1NXW19jZ2uHi4+Tl5ufo6erx8vP09fb3+Pn6/8QAHwEAAwEBAQEBAQEBAQAAAAAAAAECAwQFBgcICQoL/8QAtREAAgECBAQDBAcFBAQAAQJ3AAECAxEEBSExBhJBUQdhcRMiMoEIFEKRobHBCSMzUvAVYnLRChYkNOEl8RcYGRomJygpKjU2Nzg5OkNERUZHSElKU1RVVldYWVpjZGVmZ2hpanN0dXZ3eHl6goOEhYaHiImKkpOUlZaXmJmaoqOkpaanqKmqsrO0tba3uLm6wsPExcbHyMnK0tPU1dbX2Nna4uPk5ebn6Onq8vP09fb3+Pn6/9oADAMBAAIRAxEAPwD6pooooAKKKKACiiigAooooAKKKKACiiigAooooAKKKKACiiigAooooAKKKKACiiigAooooAKKKKACiiigAooooAKKKKACiiigAooooAKKKKACiiigAooooAKKKKACiiigAooooAKKKKACiiigAooooAKKKKACiiigAooooAKKKKACiiigAooooAKKKKACiiigAooooAKKKKACiiigAooooAKKKKACiiigAooooAKKKKACiiigAooooAKKKKACiiigAooooAKKKKACiiigAooooAKKKKACiiigAooooAKKKKACiiigAooooAKKKKACiiigAooooAKKKKACiiigAooooAKKKKACiiigAooooAKKKKACiiigAooooAKKwfFnia28N2vmz213dyeVLcGG1CFxFEu53+dlGBlR1zlgBWNJ8SdKPhl/EdlZanfaBHCJ5b6CNAiLxuO13Vm2g/NtU4wRyQRRcdjt6K4zVviHpmnaI2uG01C48PoU3anCkZhCswXeAXDsoJGSqkema6LXdb07QdGn1XVrpLewhUM0rc9egAHJJJAAHJJ4oem4lrsaNFcbc/ECwsLzSLbWdN1bTJNXmW3sftECt5zsen7tm2EDBIfacH2ON7VdZSxuobSG1ub6+lUyC3tgm4IDguxdlVRkgcnJ7A4NAGpSMQqksQABkk9q86m+MHh2HS4tRaDU/shvF0+ZxCube5LFTCy7slhgk7Awxzk5FJ+0K2qr8JtaOiRTTS4j89Ic72t9480DHP3c59s0m7K/9f1rf0Gld2/r+unqdB/wnegtC9xHNdy2CHDX0VjO9sAOrecE2FR3cHaO54rX0PWtP16ya80i5S6tRK8ImjzsZkYq20/xDIIyOOK4PwF8XfAPiqGz0rR9SgtLmSNYo9OuYjCV4wI1yNjHthSa2vDtra/D7wfouhRQyXU8aGOOC1ChpGGXkYbyqhRkkliOw6kA0/du2SnzbHT6dqVjqaSvpt7bXaQytDI0EqyBJF+8hwThh3B5q3XFeEtc8MweA7fXvDOn/Z9M1CTzY7a3gWOSWeR9m3bnG8v8uSccZzgZp2g/EGw8QLdLoum6peXlnPJb3lqixK9s6MVIdmkEfJHG1iSOemaTVtH/AF3H5nZ0Vxmi/ELT9f0j7f4f0/U9SRFY3EUKRo9sy5BjcyOq78g/KpPY9CCdTS/Femar4LXxRYSM+mNavdAsNrBVBLAjsRgg/Sk3ypt9BpNtIsx65BP4il0e1jkmnt4hLdSqP3dvu+4rHuzckAZwBk4yM61cN8F4JT4AsdUvfm1HWi2qXTnqzyncB9FXao9Aoq9b+OtMn8S6fowiu0fURObK5ZU8q48nG/bhiwHJwSoBwcEjGaaafK9/6uSmmuZbHV0Vz9p4s06717XtItVuZbzRYo5LoJFkfvFLKq/3mwOnuKf4H8UWPjLwzaa5pUdzFaXO8LHcoEkUq5UhgCRnKnvSWo3pubtV9QvbbTrKa8v7iK2tYVLyzSuERFHck8CrFeP/ALRGrT6FH4R1O7s57zwzaaqs+qxwru4Ufuyw6FQ3ODxkL7Um9vVDS3O5bx1oUcKT3c15ZWj/AHbq9sZ7eD8ZHQKM9skZ7ZqwPFWnn+xZf3osNYVTaXbLtRnYbkRgcFWYfdyOSMcHAPJHxf4P+LnhXWPD3h7XLW4ub20eIwyo0ciZH3tjAE4JByMium8a+H4dU8A6jo0I8vFoVtmXgxSIMxMvoVZVI+lOT5E5P+l1/wCAKK5mkv67HTUVznw515vE/gPQtZk4mvLSOSUekmMP/wCPA1raxq2naLZG81m/tNPtAwUz3UyxICeg3MQMmnJcraYovmSaLtFcr/wsfwR/0OXhv/waQf8AxVKnxE8FSOqJ4w8OM7HCqNTgJJ9PvUhnU0UUUAFFFFABRRRQAUUUUAFFFFABRRRQAUUUUAFFFFABRRRQAUUUUAFFFFABRRRQAUUUUAFFFFABRRRQAUUUUAFFFFABRRRQAUUUUAFFFFABRRRQAUUUUAeZ/tB3C2Xw31NrWJTquoouj2z4+Y+e6qyg+4BP4Cs340Wq6P8ACDTvCWmfJJqU1noduFHYsoY/98q2frXqeo6ZY6n9m/tGzt7r7NMtxD50Yfy5V+6656MMnBovtMsdQmtJb60guJLSXz7dpYwxikwRuXPQ4J5FJJWs+6+5dPz+8bbvddE/v/pL7jzD41Wi3Gh+E/Aenp5cetX8NqwUYCWsAEkmPwVaofEC5/4Snx18L7ONZI9Al1G6uG8wALPJbLmIjnlThivqDmvW9V0jTtXSJNUsba8WJi8YnjD7CQQSM9MgkfQkUt9pOn39rFbXtlbT28LK8UckYKxsv3So7EdiOlUm73fe/wCX5WuKytZdrfn/AF8jyjxxrFnf/G3Q7eWYPZeFdNutZvAhBxIQERf94A5x/tCuv1Lxr4c0+58QusiDXdM01Lq9gMbB0j2lo0ZsbScucKCTlvet1vDGhM1sx0bT91tnyT9nT93lgxxx3YBvqAetTzaHpU+ofb5tOtHvcqTO0KlyV+6ScckdvTtUtPl5fX9dfy+4d/ev6fp/wfvPO/gqYNC+FPhc3im5vtal+1FUALSSTOZC3J6KpyT2C+vFdYni23f4ly+FPNhWWPTVvtpPzszSFcD6AAkf7QrX03QdJ0uYy6bptnaybSu6GFUIUnJAwOATzgd6hv8AwzomoSXEl7pdpPLcOkskjxguXRdqMG6ggdCMYyfU1Td5XW3b5WS+RKWln/Wt3955f+0F4S0fWbPSrbTNOtF8Y32oQ/YriGNUnAVgZHZhyUVMkk8A474ro/jjevpfga4k0+JX13UNujWMuPmVrhlU4PbgZ+qiuw0jw7pWkXElxYWUaXUq7JLhyZJnUchTIxLEe2cVb1LT7PVLU22o2sN1BuV/LmQMNynKnnuCAQexqbLl5el/8k19y/EpN83N5HI6T/Y3hzwJNbxwb7DwpEVEsija8kMW5nX1IJYE/wB7cO1ct8Mpj4O/Z9l8QXwAvJ7W41qdiMF5JNzrn3I2CvU5NI06TSH0p7G2OmvGYmtfKHlFD1Ur0waW80nT73SW0u7sbabTWjERtXjBiKDGF29MDA49qJ3kpd3/AE/v0+4UbR5V0X9L9fvPIdLkk+Hf7MSXCo39pSaf5vT5mubk/Ln3DSD8q3NJ0gad8HtU8HWSyG703RGtppVHym4khZmVT1yCwJ/31r0W90+zvtPexvbSC4snUI0EsYZGUdAVPGKdY2NrYWot7K3iggBJ8uNQoyTkn6kkkmnU99TS+1/wbfmFNuLi30/4H+RzPwkmju/hZ4UeM7kbS7dfyjAI/MGuT8NWsNz8etfZ41t7Tw1o9rY2EIG1ESUF2dR/wHbn2rovAFo3hO5ufCk4YWSyyXOkS4+V4HYs0Of78bMRjupUjo2Om1LQNI1O4FxqOmWdzOIzD5ksKsxjJyUJIyV9ulVKXNP2i63/ABv+V2hRXLHk9Pwaf42PMPgrqVsvhzxp4xupVk/tDWbqZih3Hy4yEjQepwOB33D1rsbK/wBM+H/w/tbrxNcw6dBEBJdPtLKs0rlmACgk/O56CtxfD2jJem8TSrFboyCYyiBQxkAwHPH3gABnrim+KrJNQ0C8tpNMttU8xcJa3KK8Tvn5SwbjAOCepwOATUO6ikuiS+5W/Epay16tv73+ho2txDd2sNzbSLLBMgkjkQ5DqRkEexFc14T8WW/iLXvFWmJJAzaPera+Wp+YqYkJZh6bzIv/AAGtzQdOXSND0/TY23pZ28cAbGM7VAz+lUJ/COgTBS2l26SLJJMs0QMcqvI25yJFIYbjycHmqdlJ22JV+XXc818W+E9Il+NXguXwvp1raatZSS3uqS2kYjC25XC+btxlnYkDPJG7sK9gv5kt7G4mlx5ccbO27pgDJzVbRtF03RYZI9KsobVZW3ymNfmkb+87dWPuSTXP/EY3OqaWfDGlFhfasphmlXpa2x4llY9jtyqjuxHYHESTcORdb/j+n/BZStzc0v6/r/gGb+z/AG72/wAHfDCyrtL27Sgf7LuzL+hFdnrdxqFtp7SaPYw392CAsEtx5Ckdzv2tj8qn06zg07T7ays4xHbW0SwxIOiqowB+QqxWlR80m0TG6SucZ/bXjj/oTtL/APB6f/jFPh1jxq0qCXwjpiRlgGYa3uIHc48gZrsKKkYUUUUAFFFFABRRRQAUUUUAFFFFABRRRQAUUUUAFFFFABRRRQAUUUUAFFFFABRRRQAUUUUAFFFFABRRRQAUUUUAFFFFABRRRQAUUUUAFFFFABRRRQAUUUUAFFFVotQs5ZvJiu7d5ckbFlUtx14zQBZooqtNqFnDN5U13bxy8fI0qhufbNAFmiiigAooooAKKy9f17TfD9vFNq1yIRNIIYUVGkkmkPRERQWdvZQTV+1nFzbpMqSorjIWVCjD6g8igCWiq9/e2unWr3WoXMFrbRjLyzyBEUe5PAqlpHiTQ9ZWZtH1nTb9YRulNrdJKIwe7bScDjvQBq0Uy3miuYI57eRJYZFDpIjBldSMggjggjvT6ACiiigAooqtcX9nbSbLm7t4XxnbJIFOPxNAFmiqkWp2E0ixxXtq7scBVlUk/hmrdABRRRQAUUVn2usWF3PfxW9yrmxfy7h8EJG+Mld3TIGMgHjIzigDQoqrBqNjPII4Ly2kkPRUlVifwBpsmqafG7JJfWqupwVaZQQfTrQBcoqC5vLa1Cm5uIYQ33fMcLn6ZqSGaOeMSQSJJG3RkYEH8RQA+iiqs2pWMEhjnvLaOReqvKqkfgTQBaopiSxyRCVHRoyNwcHII9c1Db6hZ3Mnl293byyYztSVWP5A0AWaKo6tqtnpMUL30wj8+VYIUClnkkboqqMknqeOgBJ4BNXqACiiorqdbW2lnkEhSNS7CNC7EDnhQCSfYc0bAS0VX0+9ttRsoLyxnjuLWdA8csZyrKehBqxQAUVHcTxW8ZkuJY4oxwWdgo/M1Fb39pcsVt7q3lZRkiOQMQPXg0AWaKpx6pp8kipHfWruxwFWZSSfzp9zf2lq4S5ureFyMhZJApx+NAFmikRldQyEMrDIIOQRS0AFFU31XT0co9/aKynBBmUEH86syyxxRGSV0SNRkuxwAPrQA+ioLa9tbosLW5hmK8kRyBsflUF5qtnaahZ2M8wF5eFvJhVSzMFGWbA6KOMscDJAzkigC9RRRQAUUUUAFFU9J1O01a1NxYS+ZGrtG4KlWR1OGVlOCrA9QRmkXVLQ6u2lmXbfCLzxEyld6ZwWUnhsHAOM4yM4yMgF2iiigAooooAKKKKACiiigAooooAKKKx7PxR4fvtROn2WuaVcX4LA20V3G8oI6/KDnjvQBsUVj6p4k0vTdLTU7id5NNZd/wBqtoXuI1X+8TGGwv8AtHgdzWnaXMF5aw3NpNHPbzIJI5Y2DK6kZBBHBBFAEtFFFABXzr46t4LX4zeGfFVvFHAkXiCPQgyKFDK0PzE4775HX/gNfQt3cR2lrNcTttihRpHY9lAya8H+KtrLZfAbSNZmQrd2upW2uTA9VklnLt+RlI/CiPxp9mvxa/S4NXi0uqf5P9bHtmvaidNsd8MYmu5mENtCTjzJT0H0HJJ7KCe1eNfAnRbbVfHPxB8S3qR3z/2gNOiuJUDFmiH7x1z0DHaQB0AA7V3eqa3HF4f1nxrMf9CsbGZ9OVujIFyZfq5AA/2QP7xql+zvo76P8I9C8/P2q+Rr+Zj1ZpWLgn/gJX8qIK0m30X5v/JO4pO8Ul1f5f8ABaO31rW9P0WOFtRuRE07+XDEqtJJM2M7URQWc45woPFQ6N4k0fWbmW203UIJryFQ81qTsmhBJHzxthkOR0YA1534ANx4h+NPjnWdS+aPRTHpGno3SJSN0jD0LHac+hx0qH4RXlne+MvG/iaZ1U6xrB0yyIUkSJaxHkEDoQrHJ449cUR1tftf8rfncctL26O3+f5M9F1LxZoum3Zt7298plkWGSTynaKF2xtWSUDZGxyuAxBO4eopNL8W6JqmrtpdjfK98IvtCxNG6eZFnG+MsAHXP8SkivM/jGdNuPhtpXhzw/dxXcXiTV4bJZ4phL5m6bzJnLDgnKnP1r0qz0vw/beKPMtbK1TXIbFIjKsXzpbbiFXdjAGVOB/s+1EdVd97fhf9Qlpt/Wtv6/4JyPj4bvjN8MA3IH9pNg+ogXn9TXZ+M/Edn4S8L6lrupk/ZbKIyMo6ueiqPckgD61w063Fl8aNBHiuSPUZry2ul0Wa2TyYrQqqmVWiJYlmXH7zeRxgKvU5/wC1hZ3N38H7s2wdooLuCa5CDJ8oNgn6AlT+FS78it1/WVvwKik52fT8ev8AwC/8LdBuvFFpaeN/HSJd6tejz7CzkG6DTYG5QRoeN5GCX+9yBmtD45eE5PFXgt4NPSZdU86GKKa3yJBFJKiSqSOShQsWHT5cnpXc6QbdtJsjYlGtDAhhKfdKbRtx7YxVOXVmfxJDpVmiS+XE094+f9Qp4jX/AHmOSB6KfatJpc3Klon+X9amcJO3M93/AF/wxYurvTvD+jiW9uYLLT7VFTzJnCIgGAoyfwAFVNL8UaTqd/8AYbe4ljvTH5y291by20jp0LosiqWUcZIyBmvPNX8/xJ+0Tp+kX4zo+g6X/akUDfdluXfYrkd9oPHoQfWl8bSz6v8AHzwNp+l5J0aC5v8AUJVH+qikXYqk/wC0V6fjUp8zTfW/4X/yZTSiml0S/TT8Uej6t4g03S7pLW5lle7dPMFvbW8lxLszjeUjVmC543EYzxVzTr621G0S6spVlgfIDDjBBwQQeQQQQQeQQQea8YvpPEWoa3rXjv4T61omr6ddQi2vLPUY5UG63BGInGD3PcLk5ya9A+EP9mv8ONDudF01tLs7qAXItWkaQozks3zMSWySTk9c0R1V/wCtb2CWjt/Xn9zOwrxP9oa1t9e8Q/D/AMLeRDJNqerLPOxQFvs8Iy4z1wQx/KvbK8YsP+Kl/ag1Cf79r4X0lLdfRZ5uT/46zD8KFrOK+f3a/nZA9ISflb79P1PS9Y8JeH9Z06Wx1LRrCe2kXaUaBePcHGQR2I5Fee/AHxRLN4Q1+01u/eeHw7qc9hHe3D5Z4EI2Fm7kZx+Vdt8SPFcPhHwvc3uDNqEo8mwtEG6S5uG4RFUcnnk46AE1xnw38F2/gP4Sq3ilybmGVtc1HDceao3hT67dq/VlpJ25pPa343X5K/3+Y2r8qW9/0/V2+7yOu8I2/h++8Qa54i0W4uptQumS1vVnaVDC0a8J5TgFODnkc5z3rV1LxJpmn3ps5pZ5rtVDvDaWsty8anoXWJWKg4OC2M4OOlcD8DnjsfCtxq2tyiHWPEDzeILpWBxFCzYTJxgAIFxn3x0Ncrq03iO0sfE/jrwHqWja/wCDdYRr27tL5ZoJwsaeXIInG0j5UOM4xjgHu5XirPovufb776+QR956dX9/9Kx6f8RvFY0T4c6hrmkSxXE0kSx2LqdyvLKwSM+43MD+FbHhfQbfQ/DFlpAAmSKLbM0nzGaQ8u7Z6lmJY+5rzD4kW9lbfBvwl/ZFmdP0mPUNLmFs5LGGJpVO0k5JILDJPNe0U7W5l52+5L/MlO/L6X+//hjwz9nmws7Txr8T7dLS3Wa11xjG4jAZI2L4UHHA46D1rJvvsGoftU6Bcf2ZamwubC4ghkaNSLiSPzN0uMf3sqD325zg07whPc2/xv8Aih4f05niu9UntZFlQf6iLYTLLnsQHwP9pl4xmrfxdktfCXxe+Fd7DAy2lvFdWkcMK5J/dhURR6kuAPqKUN6b7pL/AMla/P8ArQc1/ES7t/jc9I8Z6Vp/i7VbLw7e2Vvd2dsUvr0yxhtig/u4xnoXZTnH8KMD94VS+I1trEX/AAjOm+G9DN5ocl6E1O3tpltgkGMAHp8mTuKjrt2ngmup8LabNYae8t+VbU7xzc3jqcjzCANoP91QAg9lFXNX1K10jT5r2/k8uCIDJALEknAVQOSxJAAHJJAFG2j9f6/IFrseJ/FS1g+HnjbwLqPgqCLTJtT1JdPvNPs08uG7iYjJaJfl3LuOGxn5h6U79pjT7O31HwBrc1nbyeRr0MM5eMHejYJDccj5O9dXDpO7XYvHnjeJo7qIpa6Vpow4sFldUBPZpnLDcRwo4GcZrI/awtDN8Hru6QHfY3dvcqR2O/Zn/wAfpX5VFy6SXy1Wn6/MduZtLqmvwf8Aw3yPTPEGo2+g6HJN5AkxiGC1jABmkY7UjUdOSQPQck8CsrwH4M07wvZPKllZJq927XF7cwQqm+VyWYLxkIM4A9B65NUvCtyPGeoWniI/No9nHt05T0lmZcST/QZMan/fPQiu4qrOLd9/6/r7iU+ZK239fl/mee+Hbg+Jfin4gvZTus/DoTTbNewndQ88n+9gomfQH1NdTrnijR9CmSLVb1bdm2ZJjZljDtsUyMARGpbgFiATnniuL+CoZL74hRykGYeJ7pjx/CVjK/pWV8YtOhvvEHhjwxFv/wCKn1dbm/ZjndBaxqxjHoOF49c+ppR+wu9vxs3+bY3vN9r/AIf8MeqX2r6fYX9hZXl3DDd37slrC7YaYqu5go9hzVfSvEek6tq2qaZp19FcX2mOsd5CmcwswyAex6HpnpiuAuFOt/tGWsbAG28OaK0yj0muH25/74Wun8KWFs/jDxZrdtCiG5lhsjIo/wBaYEO5vfDOyf8AbOiOqT9fwdgeja9PxVzL8KTf2F8TvEPhhTixvLdNbso+0Zdyk6j2LgPj1c16FXmuqDf+0NoXlA7o/D9y0pB42mZAufxzXogu7c3htBPCbpU8wwhxvC9N23rj3oXwRfr+Da/JA/ify/FJ/myLVrKHUNNubW5hjmjkjZSkihgcjHQ145+yitlb/B9Z5IbeF4bq5S4nKBSQGz8zdwBjr2Fe3V85fs+o+o6X4i8JBW+y2uv3Ml+ccGEbQsX/AANlIPX5VcdxRD4pJdV+TX+YS+FN9H+jJ/hHFaXH7Q3jiaTSre2FxZ295aI0Q3RxnZhsY+UsCGI4INen6loml+MfGUUuoadaXdnoJwJJolfzLph93JH3UU5I6bmHdK821m/n0T9qHUFsY/MvtV8PpDaIRlTL5igFv9lQjMfZTXuOhaZFo+lQWULM4jBLyP8AelcnLO3+0zEk+5oj8EfK/wCb/T9Al8UvO35L8/8AM4vxJY6rqfxJ0nS7zw+uoeCfsLGV2lUQRz5bHmRH/WABVAUjA3E9RxyNuT4M/aM0zw74Z/caFrOnPc3emR58i3kXfiVE6R52KOMA5PtXrfiXWk0WxDrDJd3szeVaWcX37iTHCj0HcseAASelcr4W0CHw74i/tjxHMt54u8RSmFpY1zHboiM4hizyI1VME9WOCevBHRp9r/O99Px+Vl5BLVPzt8rdfw+9+pw/xA0yxsf2l/AF5JY2zRaja3FvJuiUhpFVyGIx975xz1r1bxremLTE0y0ihn1HU2NrbQyoHQcZaR17oi5Y+uAOpFeY/tISx6Tr/wANfEMzCOGw1tY5ZGOAqPtLEn0whr0bwlBJqt9P4nvkZXuk8qwicYMFrnIJHZpD859tgP3aUUpQ5X0b/wA/1/qw5O0+ZdUv1X6F3wd4U0fwho0Gm6HZQ20USBWdUAeUjqzkDknrXNfCq4PiK51/xdOd5vrySysif+WdpAxRQPTc4dz6kj0Fd/MGMMgjOHKnafQ15z+znx8HNAQ43p56OMdGE8gP61Sbbbf9X/4b8SWrRS8/6/z+R2EvijR4dbi0mS9C30rmJFMbbGkC7vL8zGzft+bZndjnFWxq+nnWm0gXkJ1NYPtRtt3ziLdt349M8V5Xd6bDffHPw/oMO/7BoFlPrsm85MtzPIVBJ7kEs341d+Gf/E3+KHxG8RTEbILqLRoMn7iwJl/wLNmlHVJ+r+7T8/wHLS9vL8dfy/E9A8NeItJ8T6e19oF9FfWiyvAZY84DqcMOR/8ArGCOK1a4bwU+l+G/Bmo63P5djp15eXOqM23gRySEoQBySy7DgcknArodL8RWGpapcabE0sWoQQpcSW80ZR1jckKxHbO08HkY5Ao7Lr/wNf1Dv2/4On6HK383/CN/GDTBEdtj4otpYpkHT7XAoZJPq0e5T67F9KsfGOOW08It4isBjUvD8g1GBh1ZF/1sZ/2WjLgj6HsKz/iqN/jT4aJGCZ/7Zdxg/wAAt5N39K6X4mtGnw48UtP/AKoaXdbhnGR5TVEpONNyX2b/AIWf629EXFKVRRfW36r9DesLqK+sbe7tzuhuI1lQ+qsMj9DU9cr8O5VsPhj4Zk1GVIFi0q2815nChf3S9SeldSjK6K6MGVhkEHIIrapFRm4roYwblFNmPL4o0eHW4tJkvQt9K5iRTG2xpAu7y/Mxs37fm2Z3Y5xVsavp51ptIF5CdTWD7Ubbd84i3bd+PTPFeV3emw33xz8P6DDv+waBZT67JvOTLczyFQSe5BLN+NXfhn/xN/ih8RvEUxGyC6i0aDJ+4sCZf8CzZqI6pP1f3afn+BctL28vx1/L8T0Dw14i0nxPp7X2gX0V9aLK8BljzgOpww5H/wCsYI4rVrhfBcml+GvBmoa3ceXY6ffXtxqZIQ/clkPlkKBkll2YAGSWwBXR6V4hsNS1O606FpI9QtY45preVCroj52MfrtPHUY5Ao/r59Q79v8Ag6GvXJXXiXUtQ1S5sPCWmQXv2STyrq+vJzDbxSDrGm1WaRx3AAUdC2ciutNeT/Dey8XP4XjhsfEWiWxtrieG4gm0WSWWOYSMXDsLldxJO7O0ZDA45pdR9DtdD/4S7+0F/t3+wfsW05+x+d5me33uMV0dc9otl4pgvlfWdc0i8s8ENFbaTJbuT2Ic3Dgf9810NUI8n/aE8QpouneG7TUZJLfw/qeqJb6rOmRi3AJKEjkBsc47AjvW94ktdF8bfDXVtM8LT6bqEZtHjsxYzRlIZgv7vaVOEIbHpitRbrSPGFz4h0DULC1vbXTp47eeO4USK7NGsn3SOMbhz6ivJNf+HWj+Cfiz4Du/AMM2nXt9eSJe2kUzvHJaquZHIYnAHAx0yRxmpST9yW0n+aX4dfncbbj7y3S/K/8AXyPZ4NMh0jwYmlwKPItLD7OoxxhY9v8ASuZ/Z/JPwa8J5Of9DA/8eNd7cOkcEjzY8tVJbIzxjmvMvgVFdv4ZivtOlS28JXUksum6bOhlngjLnH74FQFJyQhViAQN5qk3KUm+tv1/O/4E2SUUul/0/K34nqFFFFIZi+KvDWn+KNPNjqxvDaMGWSK3vJbcSKeCH8thuHseKil8I6PceF28PXkM95pLBQ0V3cyTFgrBgC7MWwCo4zW/RQBzvivwdpHirTzYawt29gUEbW0F5LBG6g5AZUYA/j6CtHQNHtdC02OxsGuTbRgKgnuHmKgAAAFySAAOlaNFAHP3PhDSptS1C+Rbi3l1FUW+FvO0a3IQYXeAeuDjIwSODkVBofgTQNEaQadZmK3bztltvJih80gybF6LuwPoOBgEiunoosgOItPhf4YtLGwtbe0lSPTnElgVmINmwbdmM+pPUnJboxI4rqNK0q20zz2g8x57h/MnmlcvJI2MDJPYDgAYA7AVfoouB5l8RiLX4sfDO+uSIrNZr62aZ+FEkkICKT6sVIHqa9JuYIrq3lguYkmglUpJHIoZXUjBBB6g029tLa+tZLa+t4bm2kGHimQOjD0IPBosrS2sbWO2sreG2t4xhIoUCIo9gOBR9nlYdbo5bS/Atvo0YttE1nW9P0sE40+K4V4UB7IZEZ0HsjADtiui0nS7PSbUwWEPlIzF3JYu8jHqzuxLMx7sxJq7RQBj6n4csL/V7bViJbfVbeNoI7u3fY/lsclG7MuRnDA4PIwadoPh7TdCW5OnwETXUnm3NxK7Syzv0y7sSTxwBnAHAAFa1FAbnOL4N0xdNbS42vI9IbObFLhljwTkrkfNs5+7u244xjitDVNFgv8AT4bJJ7yxghIKCwna3IABAXK4+XB6dOB6Vp0UAc9Y+FILRpSNU12YSxmMibUpXwMg5HPB46jnr61naT8N/D+kX1/eacdVgu79xJdTLqlyWmYZwWJfnqa7KijzDyOf0nwfoul6l/aMNtLcaltKLd3tzLdTIp6qrysxQey4Faur6baaxpd3pupQieyu4mhmiJIDowwRkcjj0q3RQ9VZgtHdGNo/hvTtKtZYIo3nWWFLeRrhzIWiVdqx88bQCeB6knkkmqfB2mPp0WmzPeTaVFgJZSXDGLA6K38Tr/ssSD3FdHRTu27hbSxz3j7w4nivwZqmhlxCbqHbFJj/AFcgwyN+DBT+FO8Ea0+t+H4JLyPyNUt/9Hv7cnmG4UDep9j94HurKRwa36ijtoI7mW4jgiW4lCrJKqAM4XO0E9TjJx6ZNJdf6/r/AIYH0MnSvDGmaZ4j1nXLWI/2lqxiNzIxB4jQIqrxwOM/U/SjWPDGmaxr+i6xqEJlvNIMrWmT8qtIACxHcjaMelbdFHbyAK5vxx4J0Pxxp8Nj4lt5rq0hfzViS5kiUtjGSEYZx2z0ya6Sik0nuCdtjzPRPgX8PtE1ez1PTtEeO9tJVmhdryZwrqcg4LkHn1rtPF/h2x8WeG77RNV837FeKEl8ptrYDBuDg9wK2KKb1VmC0d0V9Ps7fTrG3srKFIbW3jWKKNBgIqjAA/CrFFFDd9WCVlZHAW1sfCvxPv7l/l0nxOsREh4WK+jXbtPp5iYx6lCOpFdRr3h7T9cmsJ72Nxd2Evn2lxE5SSFyMEgjsQcEHIPcVpXVtBeQNDdwRTwsQTHKgZTg5HB9CAaloWyXb+vwDq33/r8Tl4fA+k2+rS6rateQatPGYri9juGElwpOcP2OMDBABUcLgcVv2FnbaXYR21oiw20K4UZzgdSSTyT1JJ5JyTVmorq3hu7eS3uoY54JVKSRyKGV1PUEHgijpZB1uzh/Atsda8W654zkUi2ukTT9M3DG61iJJkHs8jMR6qFPepZ/C2mt8WLXxBZWLpqiWji9vN77XQjZHHtztJPLcDI2DPUV26qEUKoCqBgADAFLRta3QN736hWJ4W8MaZ4Ygvo9KiKfbryW+uHYgs8kjZOTjoOg9gK26KA8jE/4RjTP+ExbxO0JbVjZixWRjkJGGLcDsSTyfQD3zt0UUeQdbnGeOvhn4W8dXlvc+KLGe8kt0McQ+1zRogJycKrAZPc4ycD0FVfBvwi8F+DdaXVvD2ktbX6xtGJGuZZMK3XhmIrvaKFpsD13Of8AGXhHSfGNpY2uuwtNb2d5HepGDgO6AgBuOV+Y5Heug6dKKKPIArgPAdsfCniLW/DU/wAlpd3MmqaUx4DxyHdLEPdHJOP7rg+td/UU9tBcNC1xBFK0L+ZEXQMUbBG5c9DgkZHrQtHf+v60B6qxk6l4Z0+91uLWR59tqscBtvtVvIUZoic7GHRhnkZGQemKz7HwDoWnrex6fFc21tfENeW8dw4S5YDG58nOSB8xBG/+LNdXRQBx3xIsZNQ0iz0h9Ijv9Bu5RFqQUyB4IQNytGsY3FgyrjHTjtyM/wCFug6nouoa8bi+1a70SV4hp39ryeZdABTvJYjeEyQFV+Rg8DPPoNBGRg0LS77g9dDgba3/AOEn+KK6soLaX4chltLeT+GW7lwJSvqEVQmf7zMOxp/xWSTXNOt/B9kW+0604S5Zf+WFmrAzSH0yPkHqXHoa7a0toLO2jt7SGKC3jG1IokCqo9ABwKI7WCO5luI4IluJgqySqgDOFzgE9TjJx9aOiXb/AIf8/wANAvq2v6/r8zD8Z6Jo2qeDb3S9bsXu9I8pQ1tEWDMEIKqu0hs5Axip/BOmPovhDRtNmUJJa2kcTIGLBMKBtBPJA6Z9q2qKO/mHZdjE1Lwzp97rcWsjz7bVY4DbfareQozRE52MOjDPIyMg9MVn2PgHQtPW9j0+K5tra+Ia8t47hwlywGNz5OckD5iCN/8AFmurooA4z4k2D6lptjo82kLfeH7qTZqLRtIJLaNRujaJYxuLbwuMdMelU/hZoWqaLca79rvtUu9Immj/ALNOrSeZdhAnzlmPzbdx+VW5AHIGa7+ihaX8wetkFc5q/hOC71N9T02/v9G1OQBZriwZP34HTzI5FZHI6Biu4DgECujooAwdJ0XU7K9Wa78T6pqMIBBt7iC1VGyOuY4lbj61vUUyKaOXf5UiPsYo21gdrDqD70AcnD4A0yzv77UdKutR03Vb2d57i9tphvlLHO1ldWjZV6KGU7RnHUk6eh+GbLSr+fUTJc3uqzoIpb68ffKyDkIMAKi552oFGecZrYjnhkmkijljaWLHmIrAsmemR2zUWoX9nptq91qN1b2lsn3pZ5BGi/Uk4oWgbsr+I7qCy8P6lc3cyQ28VvI7yO2FUBTyTXKfAi3mtfg/4VhuYnhlFkpKOuCASSOPoQa6WSDQfEFtbajLFpep28JMsFyyxzLHj+JH5A6dQa1Y3SWNZImV0YBlZTkEHoQaFpfzt+F/8wetvK/42/yHUUUUAFFFFABRRRQAUUUUAFFFFABRRRQAUUUUAFFFFABRRRQAUUUUAFFFFABRRRQAUUUUAFFFFABRRRQAUUUUAFFFFABRRRQAUUUUAFFFFABRRRQAUUUUAFFFFABRRRQAUUUUAFFFFABRRRQAUUUUAFFFFABRRRQAUUUUAFFFFAHC/EzX7i1vPD3hnS52g1LxDdGDzkOHgt0XfM6+jbeAexbPauuh021t9MXT7aIwWipsVIXMZUezKQQffOa8u+IEbwfH/wCGd3KG+zSRX1urdhJ5WQPqR/KvXaF8F+9/8v8Ag/MJfFbyX9fp8jxj9n61isvFXxQt7ZSsMeusFUsWwMN3PNWNMvj4p/aL1e3uj5lj4W0+NbaFuVW5mwWlx/eCkrntTfgX/wAjp8VP+w838jSeFbP+w/2k/FyXAKrrumwXtqx6P5eEdR7g849KIfFC/wDL+PL/AMOE9p2/m/8Abh73zeGP2joNMtj5eneJ9MaeWEcL9qi3fvAOxKLg+vGelb0Oqr4V+KFp4bPy6Vr9vJdWKdoLmPmVF9FZSGx2YN/erntZszrn7T2hyW4LxeH9Hea5cdEeUuqIfcg5x6VJ8VIZLv40fCmG2yZYp72d8fwxiNMk+3GKIfYXe6+V5flv8gnvP0T+dk/x2+Z69RRRQAUUUUAFFFFABRRRQAUUUUAFFFFABRRRQAUUUUAFFFFABRRRQAUUUUAFFFFABRRRQAUUUUAFFFFABRRRQAUUUUAFFFFABRRRQAUUUUAFFFFABRRRQAUUUUAFFFFABRRRQAUUUUAFFFFABRRRQAUUUUAFFFFABRRRQAUUUUAYHjLw5F4i0+3UOINQsrhLyxucZ8mdDlSR3U8qw7gn61o2bTahpmNRtZbOdgUljSbkEd1dCDg9QeDjqAcir1FHSweZzugeC9B8PX1xeaNZPaXFy5kuGS4lImc5+ZwWIY8nk561e1zQNN1wQHUbcvLbsXgnikeGaEkYJSRCHXI4OCMjg1qUUAZei6Hpugw3A0y2KNM3mTSu7SzTtjGXkclnOOBuJ44rJ0TQZp/FNz4o1mMR37wCzs7bcG+yW+dxBI4MjtyxHAAUAnGT1VFHW4dLBRRRQB//2Q==)\n"
      ]
    },
    {
      "cell_type": "markdown",
      "id": "99cfd7e1",
      "metadata": {
        "id": "99cfd7e1"
      },
      "source": [
        "- **Cosine Similarity**"
      ]
    },
    {
      "cell_type": "code",
      "execution_count": null,
      "id": "8f1c0d74",
      "metadata": {
        "id": "8f1c0d74"
      },
      "outputs": [],
      "source": [
        "def S2VSim(S1,S2):\n",
        "    l1 = len(S1)\n",
        "    l2 = len(S2)\n",
        "    sum1 = 0\n",
        "    sum2 = 0\n",
        "    for w in S1:\n",
        "        sum1 += maxSim(w,S2)\n",
        "    for w in S2:\n",
        "        sum2 += maxSim(w,S1)\n",
        "    return 1/(l2/sum2+l1/sum1)\n"
      ]
    },
    {
      "cell_type": "code",
      "execution_count": null,
      "id": "13960951",
      "metadata": {
        "id": "13960951"
      },
      "outputs": [],
      "source": [
        "def maxSim(w,S):\n",
        "    max = -1\n",
        "    for wS in S:\n",
        "        score = 1 - distance.cosine(model_ft.wv[wS],model_ft.wv[w])\n",
        "        if score>max:\n",
        "            max = score\n",
        "    return max"
      ]
    },
    {
      "cell_type": "code",
      "execution_count": null,
      "id": "cb73c52f",
      "metadata": {
        "id": "cb73c52f"
      },
      "outputs": [],
      "source": [
        "s2vsim_features_train = [S2VSim(sentences_prep1_train[i],sentences_prep2_train[i]) for i in range(len(sentences_prep1_train))]\n",
        "s2vsim_features_test = [S2VSim(sentences_prep1_test[i],sentences_prep2_test[i]) for i in range(len(sentences_prep1_test))]\n",
        "s2vsim_features_dev = [S2VSim(sentences_prep1_dev[i],sentences_prep2_dev[i]) for i in range(len(sentences_prep1_dev))]\n"
      ]
    },
    {
      "cell_type": "code",
      "execution_count": null,
      "id": "183385bb",
      "metadata": {
        "id": "183385bb"
      },
      "outputs": [],
      "source": [
        "feature_FT_wmdistance_train = np.asarray(feature_FT_wmdistance_train).reshape(-1)\n",
        "feature_FT_wmdistance_dev = np.asarray(feature_FT_wmdistance_dev).reshape(-1)\n",
        "feature_FT_wmdistance_test = np.asarray(feature_FT_wmdistance_test).reshape(-1)"
      ]
    },
    {
      "cell_type": "markdown",
      "id": "3e2d7761",
      "metadata": {
        "id": "3e2d7761"
      },
      "source": [
        "Finally, correlation can be plotted between different indipendent features. This can be used to figure out which fetaures are going to be useful and necessary to build the SVR model.\n",
        "The correlation here was plotted between the wm_distance of embeddings obtained through the fastetxt model trained on the availale dataset."
      ]
    },
    {
      "cell_type": "code",
      "execution_count": null,
      "id": "ceae9a48",
      "metadata": {
        "id": "ceae9a48",
        "outputId": "ba93c150-0fc6-4746-d03c-7ba8890faebf",
        "colab": {
          "base_uri": "https://localhost:8080/",
          "height": 861
        }
      },
      "outputs": [
        {
          "output_type": "execute_result",
          "data": {
            "text/plain": [
              "[<matplotlib.lines.Line2D at 0x7fbca213cc70>]"
            ]
          },
          "metadata": {},
          "execution_count": 57
        },
        {
          "output_type": "display_data",
          "data": {
            "text/plain": [
              "<Figure size 640x480 with 1 Axes>"
            ],
            "image/png": "[encoded data removed]"
          },
          "metadata": {}
        },
        {
          "output_type": "display_data",
          "data": {
            "text/plain": [
              "<Figure size 640x480 with 1 Axes>"
            ],
            "image/png": "[encoded data removed]"
          },
          "metadata": {}
        }
      ],
      "source": [
        "plt.figure()\n",
        "plt.plot(feature_FT_wmdistance_train,scores_unique,'o')\n",
        "plt.figure()\n",
        "plt.plot(features_tfidf_cos_train,scores_unique,'o')"
      ]
    },
    {
      "cell_type": "markdown",
      "id": "e1b6041d",
      "metadata": {
        "id": "e1b6041d"
      },
      "source": [
        "#### BERT\n"
      ]
    },
    {
      "cell_type": "code",
      "execution_count": null,
      "id": "4f4d462a",
      "metadata": {
        "id": "4f4d462a"
      },
      "outputs": [],
      "source": [
        "model = BertModel.from_pretrained('bert-base-uncased',output_hidden_states = True)\n"
      ]
    },
    {
      "cell_type": "code",
      "execution_count": null,
      "id": "429aaef9",
      "metadata": {
        "collapsed": true,
        "id": "429aaef9",
        "outputId": "01818854-b5e1-45a4-cb63-53c666aa1921"
      },
      "outputs": [
        {
          "data": {
            "text/plain": [
              "BertModel(\n",
              "  (embeddings): BertEmbeddings(\n",
              "    (word_embeddings): Embedding(30522, 768, padding_idx=0)\n",
              "    (position_embeddings): Embedding(512, 768)\n",
              "    (token_type_embeddings): Embedding(2, 768)\n",
              "    (LayerNorm): LayerNorm((768,), eps=1e-12, elementwise_affine=True)\n",
              "    (dropout): Dropout(p=0.1, inplace=False)\n",
              "  )\n",
              "  (encoder): BertEncoder(\n",
              "    (layer): ModuleList(\n",
              "      (0-11): 12 x BertLayer(\n",
              "        (attention): BertAttention(\n",
              "          (self): BertSelfAttention(\n",
              "            (query): Linear(in_features=768, out_features=768, bias=True)\n",
              "            (key): Linear(in_features=768, out_features=768, bias=True)\n",
              "            (value): Linear(in_features=768, out_features=768, bias=True)\n",
              "            (dropout): Dropout(p=0.1, inplace=False)\n",
              "          )\n",
              "          (output): BertSelfOutput(\n",
              "            (dense): Linear(in_features=768, out_features=768, bias=True)\n",
              "            (LayerNorm): LayerNorm((768,), eps=1e-12, elementwise_affine=True)\n",
              "            (dropout): Dropout(p=0.1, inplace=False)\n",
              "          )\n",
              "        )\n",
              "        (intermediate): BertIntermediate(\n",
              "          (dense): Linear(in_features=768, out_features=3072, bias=True)\n",
              "          (intermediate_act_fn): GELUActivation()\n",
              "        )\n",
              "        (output): BertOutput(\n",
              "          (dense): Linear(in_features=3072, out_features=768, bias=True)\n",
              "          (LayerNorm): LayerNorm((768,), eps=1e-12, elementwise_affine=True)\n",
              "          (dropout): Dropout(p=0.1, inplace=False)\n",
              "        )\n",
              "      )\n",
              "    )\n",
              "  )\n",
              "  (pooler): BertPooler(\n",
              "    (dense): Linear(in_features=768, out_features=768, bias=True)\n",
              "    (activation): Tanh()\n",
              "  )\n",
              ")"
            ]
          },
          "execution_count": 177,
          "metadata": {},
          "output_type": "execute_result"
        }
      ],
      "source": [
        "model.eval()"
      ]
    },
    {
      "cell_type": "code",
      "execution_count": null,
      "id": "11a2be29",
      "metadata": {
        "colab": {
          "referenced_widgets": [
            "29b08b98bf24401f99ff92ca6417c15e",
            "b81197b58fa44ad1ae41c2ee24b44b98",
            "0755264e31874fa3a524b2698b32d31b",
            "5d0a7557f9ea456abc3abf28c188813a",
            "3cb7f2141c40476dbfd33603dd997137",
            "019d87a64cdc4f5a95f7a4a0f0af56a0",
            "efff5f0c567244278abe24eea92680aa",
            "c177b4d561784ee9ba3ed76410644843",
            "dc2e422e83624e55bba2bf44ff5c8b10",
            "9b6cceaf329f49f4b45cf69b3116db87",
            "34ec4a320f0f4abc9e18dfcf7daba590",
            "a9db5606e12041a3a1f7bb6d5e52eaaf",
            "7e8bcf6082a94bec89385754203201c1",
            "6999bb1fa6614840815a3e3e4b171892",
            "380bde9e94b946b09908a07e998738af",
            "b34dd78f2b4b41b29888743743db9125",
            "ad2fa2c873f24fd0b94e9d23f6e3c9a1",
            "9f5c415267dd4a52bfc8f4b092e069d2",
            "e86b19c2158c444e8baf07f6cda041b4",
            "55d6bfd0064d49959862f14fa79652a3",
            "8f8d4e8f85a543b7b8b0636c52c640ee",
            "a5e4f63cb57b43ed90dacd5e0ce9e161"
          ],
          "base_uri": "https://localhost:8080/",
          "height": 81
        },
        "id": "11a2be29",
        "outputId": "9606f01a-c3cb-4db6-ee18-00e7a0314ba4"
      },
      "outputs": [
        {
          "output_type": "display_data",
          "data": {
            "text/plain": [
              "Downloading (…)solve/main/vocab.txt:   0%|          | 0.00/232k [00:00<?, ?B/s]"
            ],
            "application/vnd.jupyter.widget-view+json": {
              "version_major": 2,
              "version_minor": 0,
              "model_id": "29b08b98bf24401f99ff92ca6417c15e"
            }
          },
          "metadata": {}
        },
        {
          "output_type": "display_data",
          "data": {
            "text/plain": [
              "Downloading (…)okenizer_config.json:   0%|          | 0.00/28.0 [00:00<?, ?B/s]"
            ],
            "application/vnd.jupyter.widget-view+json": {
              "version_major": 2,
              "version_minor": 0,
              "model_id": "a9db5606e12041a3a1f7bb6d5e52eaaf"
            }
          },
          "metadata": {}
        }
      ],
      "source": [
        "tokenizer = BertTokenizer.from_pretrained('bert-base-uncased')"
      ]
    },
    {
      "cell_type": "code",
      "execution_count": null,
      "id": "520b165c",
      "metadata": {
        "id": "520b165c"
      },
      "outputs": [],
      "source": [
        "def bert_cos(sentence_unique1,sentence_unique2):\n",
        "    text1 = sentence_unique1\n",
        "    text2 = sentence_unique2\n",
        "    marked_text1 = \"[CLS]\" + text1 + \"[SEP]\"\n",
        "    marked_text2 = \"[CLS]\" + text2 + \"[SEP]\"\n",
        "\n",
        "    tokenized_text1 = tokenizer.tokenize(marked_text1)\n",
        "    tokenized_text2 = tokenizer.tokenize(marked_text2)\n",
        "\n",
        "    indexed_tokens1 = tokenizer.convert_tokens_to_ids(tokenized_text1)\n",
        "    indexed_tokens2 = tokenizer.convert_tokens_to_ids(tokenized_text2)\n",
        "\n",
        "    segments_ids1 = [1] * len(tokenized_text1)\n",
        "    segments_ids2 = [1] * len(tokenized_text2)\n",
        "\n",
        "    tokens_tensor1 = torch.tensor([indexed_tokens1])\n",
        "    segments_tensors1 = torch.tensor([segments_ids1])\n",
        "\n",
        "    tokens_tensor2 = torch.tensor([indexed_tokens2])\n",
        "    segments_tensors2 = torch.tensor([segments_ids2])\n",
        "\n",
        "    with torch.no_grad():\n",
        "\n",
        "        outputs1 = model(tokens_tensor1, segments_tensors1)\n",
        "        hidden_states1 = outputs1[2]\n",
        "        outputs2 = model(tokens_tensor2, segments_tensors2)\n",
        "        hidden_states2 = outputs2[2]\n",
        "\n",
        "    token_vecs1 = hidden_states1[-2][0]\n",
        "    sentence_embedding1 = torch.mean(token_vecs1, dim=0)\n",
        "    token_vecs2 = hidden_states2[-2][0]\n",
        "    sentence_embedding2 = torch.mean(token_vecs2, dim=0)\n",
        "\n",
        "    return (1 - distance.cosine(sentence_embedding1, sentence_embedding2))"
      ]
    },
    {
      "cell_type": "code",
      "source": [
        "feature_bert_cos_train = [bert_cos(sentence_unique1[i],sentence_unique1[i]) for i in range(len(sentence_unique1))]\n",
        "feature_bert_cos_dev = [bert_cos(sentence1_dev[i],sentence1_dev[i]) for i in range(len(sentence1_dev))]\n",
        "feature_bert_cos_test = [bert_cos(sentence1_test[i],sentence1_dev[i]) for i in range(len(sentence1_dev))]"
      ],
      "metadata": {
        "id": "38Q4vr1RBLJb"
      },
      "id": "38Q4vr1RBLJb",
      "execution_count": null,
      "outputs": []
    },
    {
      "cell_type": "markdown",
      "id": "c03bd294",
      "metadata": {
        "id": "c03bd294"
      },
      "source": [
        "#### Training of the SVR model\n",
        "Once all the features are obtained from different unsupervised techniques, the SVR model can be trained with some of them.\n",
        "To train the actual SVR model the **train, development and test set** can be devived into 2 different variables:\n",
        "1. **X**: dataset without the presence of the target variable.\n",
        "2. **y**: represents the target variable, containing just the scores related to the pair of sentences\n",
        "\n"
      ]
    },
    {
      "cell_type": "code",
      "execution_count": null,
      "id": "4314aa9f",
      "metadata": {
        "id": "4314aa9f",
        "outputId": "d89b972b-8ad5-4c59-8d54-84b39790b893",
        "colab": {
          "base_uri": "https://localhost:8080/"
        }
      },
      "outputs": [
        {
          "output_type": "execute_result",
          "data": {
            "text/plain": [
              "(5706, 3)"
            ]
          },
          "metadata": {},
          "execution_count": 63
        }
      ],
      "source": [
        "X_train= [[features_tfidf_cos_train[i],s2vsim_features_train[i],feature_FT_wmdistance_train[i]] for i in range(len(features_tfidf_cos_train))]\n",
        "y_train=scores_unique\n",
        "np.shape(X_train)"
      ]
    },
    {
      "cell_type": "code",
      "execution_count": null,
      "id": "7dc4ffc3",
      "metadata": {
        "id": "7dc4ffc3"
      },
      "outputs": [],
      "source": [
        "X_dev = [[features_tfidf_cos_dev[i],s2vsim_features_dev[i],feature_FT_wmdistance_dev[i]] for i in range(len(features_tfidf_cos_dev))]\n",
        "y_dev = scores_dev"
      ]
    },
    {
      "cell_type": "code",
      "execution_count": null,
      "id": "d3904481",
      "metadata": {
        "id": "d3904481",
        "outputId": "231b9c77-ec50-4c20-9db5-b65b13f20c01"
      },
      "outputs": [
        {
          "data": {
            "text/plain": [
              "(1500, 3)"
            ]
          },
          "execution_count": 238,
          "metadata": {},
          "output_type": "execute_result"
        }
      ],
      "source": [
        "np.shape(X_dev)"
      ]
    },
    {
      "cell_type": "raw",
      "id": "767df86a",
      "metadata": {
        "id": "767df86a"
      },
      "source": [
        "A GridSearch was applied to find which are the hyperparameters that gives the best Mean Absolute error. Those parameters are then used in the following section to predict the similarity score between pair of sentences in the test set."
      ]
    },
    {
      "cell_type": "code",
      "execution_count": null,
      "id": "2c0ec574",
      "metadata": {
        "id": "2c0ec574"
      },
      "outputs": [],
      "source": [
        "def hyperp_search(regr, parameters):\n",
        "    gs = GridSearchCV(regr, parameters, cv=3, scoring = 'neg_mean_absolute_error', verbose=0, n_jobs=-1)\n",
        "    gs = gs.fit(X_train, y_train)\n",
        "    print(\"MAE train: %f using %s\" % (np.abs(gs.best_score_), gs.best_params_))\n",
        "\n",
        "    best_model = gs.best_estimator_\n",
        "    y_pred = best_model.predict(X_dev)\n",
        "    y_pred_train = best_model.predict(X_train)\n",
        "    return best_model"
      ]
    },
    {
      "cell_type": "code",
      "execution_count": null,
      "id": "5cb478d1",
      "metadata": {
        "id": "5cb478d1",
        "outputId": "73295524-b6d7-49ef-d123-1c94dcd9e2c1",
        "colab": {
          "base_uri": "https://localhost:8080/"
        }
      },
      "outputs": [
        {
          "output_type": "stream",
          "name": "stdout",
          "text": [
            "MAE train: 0.772267 using {'C': 100, 'coef0': 1, 'degree': 5, 'epsilon': 0.1, 'gamma': 0.1, 'kernel': 'poly'}\n"
          ]
        }
      ],
      "source": [
        "regr = SVR()\n",
        "parameters={\"kernel\":['poly','linear','rbf'], \"C\":[60,80,100], \"gamma\":[0.001,0.1,1],\n",
        "            \"degree\":[3,4,5], \"epsilon\":[0.001,0.01,0.1], \"coef0\":[1] }\n",
        "best_model = hyperp_search(regr,parameters)"
      ]
    },
    {
      "cell_type": "markdown",
      "id": "3f4ec621",
      "metadata": {
        "id": "3f4ec621"
      },
      "source": [
        "The hyperparameters chosen are the following ones:\n",
        "- **Kernel**:poly\n",
        "- **C**:100\n",
        "- **Gamma**:0.1\n",
        "- **Degree**:5\n",
        "- **Epsilon**:0.1\n",
        "- **cof0**:1"
      ]
    },
    {
      "cell_type": "markdown",
      "id": "c914516f",
      "metadata": {
        "id": "c914516f"
      },
      "source": [
        "## Deep Learning\n",
        "Finetuning different transformer-based sBERT models and further improvements"
      ]
    },
    {
      "cell_type": "code",
      "execution_count": null,
      "id": "31f2fba4",
      "metadata": {
        "id": "31f2fba4"
      },
      "outputs": [],
      "source": [
        "from sentence_transformers import SentenceTransformer, util, InputExample, losses, evaluation\n",
        "import math\n",
        "import csv\n",
        "import gzip\n",
        "import os\n",
        "import torch\n",
        "import pandas as pd\n",
        "from torch.utils.data import DataLoader"
      ]
    },
    {
      "cell_type": "code",
      "source": [
        "from google.colab import drive\n",
        "drive.mount('/content/drive')"
      ],
      "metadata": {
        "colab": {
          "base_uri": "https://localhost:8080/"
        },
        "id": "WAUK1uYvpJdG",
        "outputId": "995219de-154a-4382-83cc-3ed947d64947"
      },
      "id": "WAUK1uYvpJdG",
      "execution_count": null,
      "outputs": [
        {
          "output_type": "stream",
          "name": "stdout",
          "text": [
            "Mounted at /content/drive\n"
          ]
        }
      ]
    },
    {
      "cell_type": "code",
      "source": [
        "os.chdir('/content/drive/MyDrive/Colab Notebooks/Semantic_similarity')\n",
        "os.getcwd()"
      ],
      "metadata": {
        "colab": {
          "base_uri": "https://localhost:8080/",
          "height": 35
        },
        "id": "5TUqfFG6pLDV",
        "outputId": "486d0552-8018-4881-a554-f2cdeed52a3b"
      },
      "id": "5TUqfFG6pLDV",
      "execution_count": null,
      "outputs": [
        {
          "output_type": "execute_result",
          "data": {
            "text/plain": [
              "'/content/drive/MyDrive/Colab Notebooks/Semantic_similarity'"
            ],
            "application/vnd.google.colaboratory.intrinsic+json": {
              "type": "string"
            }
          },
          "metadata": {},
          "execution_count": 5
        }
      ]
    },
    {
      "cell_type": "markdown",
      "id": "56ccbe75",
      "metadata": {
        "id": "56ccbe75"
      },
      "source": [
        "**Dataload preparing:**"
      ]
    },
    {
      "cell_type": "code",
      "execution_count": null,
      "id": "9b0dd384",
      "metadata": {
        "id": "9b0dd384"
      },
      "outputs": [],
      "source": [
        "sts_dataset_path = 'dataset/stsbenchmark.tsv.gz'\n",
        "\n",
        "if not os.path.exists(sts_dataset_path):\n",
        "    util.http_get('https://sbert.net/datasets/stsbenchmark.tsv.gz', sts_dataset_path)\n",
        "\n",
        "train_samples = []\n",
        "dev_samples = []\n",
        "test_samples = []\n",
        "\n",
        "with gzip.open(sts_dataset_path, 'rt', encoding='utf8') as fIn:\n",
        "    reader = csv.DictReader(fIn, delimiter='\\t', quoting=csv.QUOTE_NONE)\n",
        "    for row in reader:\n",
        "        score = float(row['score']) / 5.0  # Normalize score to range 0 ... 1\n",
        "        inp_example = InputExample(texts=[row['sentence1'], row['sentence2']], label=score)\n",
        "\n",
        "        if row['split'] == 'dev':\n",
        "            dev_samples.append(inp_example)\n",
        "        elif row['split'] == 'test':\n",
        "            test_samples.append(inp_example)\n",
        "        else:\n",
        "            train_samples.append(inp_example)\n"
      ]
    },
    {
      "cell_type": "markdown",
      "id": "0bec38b4",
      "metadata": {
        "id": "0bec38b4"
      },
      "source": [
        "**sBERT model selection:**"
      ]
    },
    {
      "cell_type": "code",
      "execution_count": null,
      "id": "ff1a2c57",
      "metadata": {
        "colab": {
          "base_uri": "https://localhost:8080/"
        },
        "id": "ff1a2c57",
        "outputId": "a18a3932-9390-4f8c-c58a-fc22a9c9cbf5"
      },
      "outputs": [
        {
          "output_type": "stream",
          "name": "stdout",
          "text": [
            "The model has already been finetuned\n"
          ]
        }
      ],
      "source": [
        "# example model\n",
        "model_name = 'all-mpnet-base-v2'\n",
        "finetuned_model = False\n",
        "if os.path.exists('output/'+model_name):\n",
        "    print(f\"The model has already been finetuned\")\n",
        "    finetuned_model = True\n",
        "    output_path = os.path.join('output', model_name)\n",
        "    model = SentenceTransformer(output_path)\n",
        "else: model = SentenceTransformer(model_name)\n",
        "device = torch.device('cuda' if torch.cuda.is_available() else 'cpu')\n",
        "\"\"\"\n",
        "if device.type != 'cuda':\n",
        "    raise SystemError('GPU device not found')\n",
        "\"\"\"\n",
        "model = model.to(device)"
      ]
    },
    {
      "cell_type": "markdown",
      "id": "cb6e7727",
      "metadata": {
        "id": "cb6e7727"
      },
      "source": [
        "**Training hyperparameters:**"
      ]
    },
    {
      "cell_type": "code",
      "execution_count": null,
      "id": "64872e23",
      "metadata": {
        "id": "64872e23"
      },
      "outputs": [],
      "source": [
        "num_epochs = 4\n",
        "batch_size = 16\n",
        "train_loss = losses.CosineSimilarityLoss(model=model)\n",
        "\n",
        "train_dataloader = DataLoader(train_samples, batch_size=batch_size, shuffle=True)\n",
        "\n",
        "warmup_steps = math.ceil(len(train_dataloader) * num_epochs * 0.1) #10% of train data for warm-up\n",
        "\n",
        "# define model and evaluation saving path\n",
        "model_save_path = 'output/'+model_name\n",
        "os.mkdir(model_save_path) if not os.path.exists(model_save_path) else None\n",
        "eval_save_path = os.path.join(model_save_path, 'eval')\n",
        "os.mkdir(eval_save_path) if not os.path.exists(eval_save_path) else None\n"
      ]
    },
    {
      "cell_type": "markdown",
      "id": "ce4d9e6e",
      "metadata": {
        "id": "ce4d9e6e"
      },
      "source": [
        "**Evaluate the original sBERT model before finetuning**"
      ]
    },
    {
      "cell_type": "code",
      "execution_count": null,
      "id": "87a2b7c1",
      "metadata": {
        "id": "87a2b7c1"
      },
      "outputs": [],
      "source": [
        "if not finetuned_model:\n",
        "    ori_evaluator = evaluation.EmbeddingSimilarityEvaluator.from_input_examples(test_samples, name='sts-test-ori')\n",
        "    ori_evaluator(SentenceTransformer(model_name), output_path=eval_save_path)"
      ]
    },
    {
      "cell_type": "code",
      "execution_count": null,
      "id": "6d04ba54",
      "metadata": {
        "id": "6d04ba54"
      },
      "outputs": [],
      "source": [
        "# Define evaluator for the training process\n",
        "evaluator = evaluation.EmbeddingSimilarityEvaluator.from_input_examples(dev_samples, name='sts-dev')"
      ]
    },
    {
      "cell_type": "markdown",
      "id": "e9d742af",
      "metadata": {
        "id": "e9d742af"
      },
      "source": [
        "**Start finetuning**\n",
        "(if the model has already been finetuned, then load the finetuned model instead)"
      ]
    },
    {
      "cell_type": "code",
      "execution_count": null,
      "id": "072bf038",
      "metadata": {
        "id": "072bf038"
      },
      "outputs": [],
      "source": [
        "if not finetuned_model:\n",
        "    model.fit(train_objectives=[(train_dataloader, train_loss)],\n",
        "            evaluator=evaluator,\n",
        "            epochs=num_epochs,\n",
        "            evaluation_steps=1000,\n",
        "            warmup_steps=warmup_steps,\n",
        "            output_path=model_save_path\n",
        "            )"
      ]
    },
    {
      "cell_type": "code",
      "execution_count": null,
      "id": "2a6e5c6e",
      "metadata": {
        "id": "2a6e5c6e"
      },
      "outputs": [],
      "source": [
        "if not finetuned_model:\n",
        "    test_evaluator = evaluation.EmbeddingSimilarityEvaluator.from_input_examples(test_samples, name='sts-test')\n",
        "    test_evaluator(model, output_path=os.path.join(model_save_path, 'eval'))\n",
        "\n",
        "result_test_ori = pd.read_csv(eval_save_path+'/similarity_evaluation_sts-test-ori_results.csv')\n",
        "result_dev = pd.read_csv(eval_save_path+'/similarity_evaluation_sts-dev_results.csv')\n",
        "result_test = pd.read_csv(eval_save_path+'/similarity_evaluation_sts-test_results.csv')"
      ]
    },
    {
      "cell_type": "code",
      "execution_count": null,
      "id": "608f7b0d",
      "metadata": {
        "colab": {
          "base_uri": "https://localhost:8080/",
          "height": 175
        },
        "id": "608f7b0d",
        "outputId": "f692b7e8-cfe6-4b2c-e16b-5d5d309bc21e"
      },
      "outputs": [
        {
          "output_type": "execute_result",
          "data": {
            "text/plain": [
              "   epoch  steps  cosine_pearson  cosine_spearman  euclidean_pearson  \\\n",
              "0      0     -1        0.906401         0.904905           0.897580   \n",
              "1      1     -1        0.908456         0.907948           0.900285   \n",
              "2      2     -1        0.907565         0.906673           0.900091   \n",
              "3      3     -1        0.907626         0.906376           0.899025   \n",
              "\n",
              "   euclidean_spearman  manhattan_pearson  manhattan_spearman  dot_pearson  \\\n",
              "0            0.904903           0.896847            0.904041     0.906401   \n",
              "1            0.907948           0.899392            0.906625     0.908456   \n",
              "2            0.906673           0.898985            0.905004     0.907565   \n",
              "3            0.906376           0.897950            0.904744     0.907626   \n",
              "\n",
              "   dot_spearman  \n",
              "0      0.904905  \n",
              "1      0.907948  \n",
              "2      0.906673  \n",
              "3      0.906376  "
            ],
            "text/html": [
              "\n",
              "  <div id=\"df-2a099ffe-779a-4287-b278-84feb84ab659\">\n",
              "    <div class=\"colab-df-container\">\n",
              "      <div>\n",
              "<style scoped>\n",
              "    .dataframe tbody tr th:only-of-type {\n",
              "        vertical-align: middle;\n",
              "    }\n",
              "\n",
              "    .dataframe tbody tr th {\n",
              "        vertical-align: top;\n",
              "    }\n",
              "\n",
              "    .dataframe thead th {\n",
              "        text-align: right;\n",
              "    }\n",
              "</style>\n",
              "<table border=\"1\" class=\"dataframe\">\n",
              "  <thead>\n",
              "    <tr style=\"text-align: right;\">\n",
              "      <th></th>\n",
              "      <th>epoch</th>\n",
              "      <th>steps</th>\n",
              "      <th>cosine_pearson</th>\n",
              "      <th>cosine_spearman</th>\n",
              "      <th>euclidean_pearson</th>\n",
              "      <th>euclidean_spearman</th>\n",
              "      <th>manhattan_pearson</th>\n",
              "      <th>manhattan_spearman</th>\n",
              "      <th>dot_pearson</th>\n",
              "      <th>dot_spearman</th>\n",
              "    </tr>\n",
              "  </thead>\n",
              "  <tbody>\n",
              "    <tr>\n",
              "      <th>0</th>\n",
              "      <td>0</td>\n",
              "      <td>-1</td>\n",
              "      <td>0.906401</td>\n",
              "      <td>0.904905</td>\n",
              "      <td>0.897580</td>\n",
              "      <td>0.904903</td>\n",
              "      <td>0.896847</td>\n",
              "      <td>0.904041</td>\n",
              "      <td>0.906401</td>\n",
              "      <td>0.904905</td>\n",
              "    </tr>\n",
              "    <tr>\n",
              "      <th>1</th>\n",
              "      <td>1</td>\n",
              "      <td>-1</td>\n",
              "      <td>0.908456</td>\n",
              "      <td>0.907948</td>\n",
              "      <td>0.900285</td>\n",
              "      <td>0.907948</td>\n",
              "      <td>0.899392</td>\n",
              "      <td>0.906625</td>\n",
              "      <td>0.908456</td>\n",
              "      <td>0.907948</td>\n",
              "    </tr>\n",
              "    <tr>\n",
              "      <th>2</th>\n",
              "      <td>2</td>\n",
              "      <td>-1</td>\n",
              "      <td>0.907565</td>\n",
              "      <td>0.906673</td>\n",
              "      <td>0.900091</td>\n",
              "      <td>0.906673</td>\n",
              "      <td>0.898985</td>\n",
              "      <td>0.905004</td>\n",
              "      <td>0.907565</td>\n",
              "      <td>0.906673</td>\n",
              "    </tr>\n",
              "    <tr>\n",
              "      <th>3</th>\n",
              "      <td>3</td>\n",
              "      <td>-1</td>\n",
              "      <td>0.907626</td>\n",
              "      <td>0.906376</td>\n",
              "      <td>0.899025</td>\n",
              "      <td>0.906376</td>\n",
              "      <td>0.897950</td>\n",
              "      <td>0.904744</td>\n",
              "      <td>0.907626</td>\n",
              "      <td>0.906376</td>\n",
              "    </tr>\n",
              "  </tbody>\n",
              "</table>\n",
              "</div>\n",
              "      <button class=\"colab-df-convert\" onclick=\"convertToInteractive('df-2a099ffe-779a-4287-b278-84feb84ab659')\"\n",
              "              title=\"Convert this dataframe to an interactive table.\"\n",
              "              style=\"display:none;\">\n",
              "        \n",
              "  <svg xmlns=\"http://www.w3.org/2000/svg\" height=\"24px\"viewBox=\"0 0 24 24\"\n",
              "       width=\"24px\">\n",
              "    <path d=\"M0 0h24v24H0V0z\" fill=\"none\"/>\n",
              "    <path d=\"M18.56 5.44l.94 2.06.94-2.06 2.06-.94-2.06-.94-.94-2.06-.94 2.06-2.06.94zm-11 1L8.5 8.5l.94-2.06 2.06-.94-2.06-.94L8.5 2.5l-.94 2.06-2.06.94zm10 10l.94 2.06.94-2.06 2.06-.94-2.06-.94-.94-2.06-.94 2.06-2.06.94z\"/><path d=\"M17.41 7.96l-1.37-1.37c-.4-.4-.92-.59-1.43-.59-.52 0-1.04.2-1.43.59L10.3 9.45l-7.72 7.72c-.78.78-.78 2.05 0 2.83L4 21.41c.39.39.9.59 1.41.59.51 0 1.02-.2 1.41-.59l7.78-7.78 2.81-2.81c.8-.78.8-2.07 0-2.86zM5.41 20L4 18.59l7.72-7.72 1.47 1.35L5.41 20z\"/>\n",
              "  </svg>\n",
              "      </button>\n",
              "      \n",
              "  <style>\n",
              "    .colab-df-container {\n",
              "      display:flex;\n",
              "      flex-wrap:wrap;\n",
              "      gap: 12px;\n",
              "    }\n",
              "\n",
              "    .colab-df-convert {\n",
              "      background-color: #E8F0FE;\n",
              "      border: none;\n",
              "      border-radius: 50%;\n",
              "      cursor: pointer;\n",
              "      display: none;\n",
              "      fill: #1967D2;\n",
              "      height: 32px;\n",
              "      padding: 0 0 0 0;\n",
              "      width: 32px;\n",
              "    }\n",
              "\n",
              "    .colab-df-convert:hover {\n",
              "      background-color: #E2EBFA;\n",
              "      box-shadow: 0px 1px 2px rgba(60, 64, 67, 0.3), 0px 1px 3px 1px rgba(60, 64, 67, 0.15);\n",
              "      fill: #174EA6;\n",
              "    }\n",
              "\n",
              "    [theme=dark] .colab-df-convert {\n",
              "      background-color: #3B4455;\n",
              "      fill: #D2E3FC;\n",
              "    }\n",
              "\n",
              "    [theme=dark] .colab-df-convert:hover {\n",
              "      background-color: #434B5C;\n",
              "      box-shadow: 0px 1px 3px 1px rgba(0, 0, 0, 0.15);\n",
              "      filter: drop-shadow(0px 1px 2px rgba(0, 0, 0, 0.3));\n",
              "      fill: #FFFFFF;\n",
              "    }\n",
              "  </style>\n",
              "\n",
              "      <script>\n",
              "        const buttonEl =\n",
              "          document.querySelector('#df-2a099ffe-779a-4287-b278-84feb84ab659 button.colab-df-convert');\n",
              "        buttonEl.style.display =\n",
              "          google.colab.kernel.accessAllowed ? 'block' : 'none';\n",
              "\n",
              "        async function convertToInteractive(key) {\n",
              "          const element = document.querySelector('#df-2a099ffe-779a-4287-b278-84feb84ab659');\n",
              "          const dataTable =\n",
              "            await google.colab.kernel.invokeFunction('convertToInteractive',\n",
              "                                                     [key], {});\n",
              "          if (!dataTable) return;\n",
              "\n",
              "          const docLinkHtml = 'Like what you see? Visit the ' +\n",
              "            '<a target=\"_blank\" href=https://colab.research.google.com/notebooks/data_table.ipynb>data table notebook</a>'\n",
              "            + ' to learn more about interactive tables.';\n",
              "          element.innerHTML = '';\n",
              "          dataTable['output_type'] = 'display_data';\n",
              "          await google.colab.output.renderOutput(dataTable, element);\n",
              "          const docLink = document.createElement('div');\n",
              "          docLink.innerHTML = docLinkHtml;\n",
              "          element.appendChild(docLink);\n",
              "        }\n",
              "      </script>\n",
              "    </div>\n",
              "  </div>\n",
              "  "
            ]
          },
          "metadata": {},
          "execution_count": 17
        }
      ],
      "source": [
        "# evaluation while training the model\n",
        "result_dev"
      ]
    },
    {
      "cell_type": "code",
      "execution_count": null,
      "id": "2693a07f",
      "metadata": {
        "colab": {
          "base_uri": "https://localhost:8080/",
          "height": 81
        },
        "id": "2693a07f",
        "outputId": "bfa9ea02-2261-4a79-f241-b49d9f05addc"
      },
      "outputs": [
        {
          "output_type": "execute_result",
          "data": {
            "text/plain": [
              "   epoch  steps  cosine_pearson  cosine_spearman  euclidean_pearson  \\\n",
              "0     -1     -1          0.8404         0.834219           0.837867   \n",
              "\n",
              "   euclidean_spearman  manhattan_pearson  manhattan_spearman  dot_pearson  \\\n",
              "0            0.834219           0.834409             0.83029       0.8404   \n",
              "\n",
              "   dot_spearman  \n",
              "0      0.834219  "
            ],
            "text/html": [
              "\n",
              "  <div id=\"df-d7eb28d3-30d8-4fda-97cd-389a17dad199\">\n",
              "    <div class=\"colab-df-container\">\n",
              "      <div>\n",
              "<style scoped>\n",
              "    .dataframe tbody tr th:only-of-type {\n",
              "        vertical-align: middle;\n",
              "    }\n",
              "\n",
              "    .dataframe tbody tr th {\n",
              "        vertical-align: top;\n",
              "    }\n",
              "\n",
              "    .dataframe thead th {\n",
              "        text-align: right;\n",
              "    }\n",
              "</style>\n",
              "<table border=\"1\" class=\"dataframe\">\n",
              "  <thead>\n",
              "    <tr style=\"text-align: right;\">\n",
              "      <th></th>\n",
              "      <th>epoch</th>\n",
              "      <th>steps</th>\n",
              "      <th>cosine_pearson</th>\n",
              "      <th>cosine_spearman</th>\n",
              "      <th>euclidean_pearson</th>\n",
              "      <th>euclidean_spearman</th>\n",
              "      <th>manhattan_pearson</th>\n",
              "      <th>manhattan_spearman</th>\n",
              "      <th>dot_pearson</th>\n",
              "      <th>dot_spearman</th>\n",
              "    </tr>\n",
              "  </thead>\n",
              "  <tbody>\n",
              "    <tr>\n",
              "      <th>0</th>\n",
              "      <td>-1</td>\n",
              "      <td>-1</td>\n",
              "      <td>0.8404</td>\n",
              "      <td>0.834219</td>\n",
              "      <td>0.837867</td>\n",
              "      <td>0.834219</td>\n",
              "      <td>0.834409</td>\n",
              "      <td>0.83029</td>\n",
              "      <td>0.8404</td>\n",
              "      <td>0.834219</td>\n",
              "    </tr>\n",
              "  </tbody>\n",
              "</table>\n",
              "</div>\n",
              "      <button class=\"colab-df-convert\" onclick=\"convertToInteractive('df-d7eb28d3-30d8-4fda-97cd-389a17dad199')\"\n",
              "              title=\"Convert this dataframe to an interactive table.\"\n",
              "              style=\"display:none;\">\n",
              "        \n",
              "  <svg xmlns=\"http://www.w3.org/2000/svg\" height=\"24px\"viewBox=\"0 0 24 24\"\n",
              "       width=\"24px\">\n",
              "    <path d=\"M0 0h24v24H0V0z\" fill=\"none\"/>\n",
              "    <path d=\"M18.56 5.44l.94 2.06.94-2.06 2.06-.94-2.06-.94-.94-2.06-.94 2.06-2.06.94zm-11 1L8.5 8.5l.94-2.06 2.06-.94-2.06-.94L8.5 2.5l-.94 2.06-2.06.94zm10 10l.94 2.06.94-2.06 2.06-.94-2.06-.94-.94-2.06-.94 2.06-2.06.94z\"/><path d=\"M17.41 7.96l-1.37-1.37c-.4-.4-.92-.59-1.43-.59-.52 0-1.04.2-1.43.59L10.3 9.45l-7.72 7.72c-.78.78-.78 2.05 0 2.83L4 21.41c.39.39.9.59 1.41.59.51 0 1.02-.2 1.41-.59l7.78-7.78 2.81-2.81c.8-.78.8-2.07 0-2.86zM5.41 20L4 18.59l7.72-7.72 1.47 1.35L5.41 20z\"/>\n",
              "  </svg>\n",
              "      </button>\n",
              "      \n",
              "  <style>\n",
              "    .colab-df-container {\n",
              "      display:flex;\n",
              "      flex-wrap:wrap;\n",
              "      gap: 12px;\n",
              "    }\n",
              "\n",
              "    .colab-df-convert {\n",
              "      background-color: #E8F0FE;\n",
              "      border: none;\n",
              "      border-radius: 50%;\n",
              "      cursor: pointer;\n",
              "      display: none;\n",
              "      fill: #1967D2;\n",
              "      height: 32px;\n",
              "      padding: 0 0 0 0;\n",
              "      width: 32px;\n",
              "    }\n",
              "\n",
              "    .colab-df-convert:hover {\n",
              "      background-color: #E2EBFA;\n",
              "      box-shadow: 0px 1px 2px rgba(60, 64, 67, 0.3), 0px 1px 3px 1px rgba(60, 64, 67, 0.15);\n",
              "      fill: #174EA6;\n",
              "    }\n",
              "\n",
              "    [theme=dark] .colab-df-convert {\n",
              "      background-color: #3B4455;\n",
              "      fill: #D2E3FC;\n",
              "    }\n",
              "\n",
              "    [theme=dark] .colab-df-convert:hover {\n",
              "      background-color: #434B5C;\n",
              "      box-shadow: 0px 1px 3px 1px rgba(0, 0, 0, 0.15);\n",
              "      filter: drop-shadow(0px 1px 2px rgba(0, 0, 0, 0.3));\n",
              "      fill: #FFFFFF;\n",
              "    }\n",
              "  </style>\n",
              "\n",
              "      <script>\n",
              "        const buttonEl =\n",
              "          document.querySelector('#df-d7eb28d3-30d8-4fda-97cd-389a17dad199 button.colab-df-convert');\n",
              "        buttonEl.style.display =\n",
              "          google.colab.kernel.accessAllowed ? 'block' : 'none';\n",
              "\n",
              "        async function convertToInteractive(key) {\n",
              "          const element = document.querySelector('#df-d7eb28d3-30d8-4fda-97cd-389a17dad199');\n",
              "          const dataTable =\n",
              "            await google.colab.kernel.invokeFunction('convertToInteractive',\n",
              "                                                     [key], {});\n",
              "          if (!dataTable) return;\n",
              "\n",
              "          const docLinkHtml = 'Like what you see? Visit the ' +\n",
              "            '<a target=\"_blank\" href=https://colab.research.google.com/notebooks/data_table.ipynb>data table notebook</a>'\n",
              "            + ' to learn more about interactive tables.';\n",
              "          element.innerHTML = '';\n",
              "          dataTable['output_type'] = 'display_data';\n",
              "          await google.colab.output.renderOutput(dataTable, element);\n",
              "          const docLink = document.createElement('div');\n",
              "          docLink.innerHTML = docLinkHtml;\n",
              "          element.appendChild(docLink);\n",
              "        }\n",
              "      </script>\n",
              "    </div>\n",
              "  </div>\n",
              "  "
            ]
          },
          "metadata": {},
          "execution_count": 18
        }
      ],
      "source": [
        "# evaluation before training the model\n",
        "result_test_ori"
      ]
    },
    {
      "cell_type": "code",
      "execution_count": null,
      "id": "9551ae5a",
      "metadata": {
        "colab": {
          "base_uri": "https://localhost:8080/",
          "height": 81
        },
        "id": "9551ae5a",
        "outputId": "e0c5d741-37c6-4b38-b92e-25e6bebe51bd"
      },
      "outputs": [
        {
          "output_type": "execute_result",
          "data": {
            "text/plain": [
              "   epoch  steps  cosine_pearson  cosine_spearman  euclidean_pearson  \\\n",
              "0     -1     -1        0.877353         0.874395           0.868749   \n",
              "\n",
              "   euclidean_spearman  manhattan_pearson  manhattan_spearman  dot_pearson  \\\n",
              "0            0.874395           0.867856            0.873171     0.877353   \n",
              "\n",
              "   dot_spearman  \n",
              "0      0.874395  "
            ],
            "text/html": [
              "\n",
              "  <div id=\"df-141a689f-4b98-44f8-bdf9-d696fa8c056e\">\n",
              "    <div class=\"colab-df-container\">\n",
              "      <div>\n",
              "<style scoped>\n",
              "    .dataframe tbody tr th:only-of-type {\n",
              "        vertical-align: middle;\n",
              "    }\n",
              "\n",
              "    .dataframe tbody tr th {\n",
              "        vertical-align: top;\n",
              "    }\n",
              "\n",
              "    .dataframe thead th {\n",
              "        text-align: right;\n",
              "    }\n",
              "</style>\n",
              "<table border=\"1\" class=\"dataframe\">\n",
              "  <thead>\n",
              "    <tr style=\"text-align: right;\">\n",
              "      <th></th>\n",
              "      <th>epoch</th>\n",
              "      <th>steps</th>\n",
              "      <th>cosine_pearson</th>\n",
              "      <th>cosine_spearman</th>\n",
              "      <th>euclidean_pearson</th>\n",
              "      <th>euclidean_spearman</th>\n",
              "      <th>manhattan_pearson</th>\n",
              "      <th>manhattan_spearman</th>\n",
              "      <th>dot_pearson</th>\n",
              "      <th>dot_spearman</th>\n",
              "    </tr>\n",
              "  </thead>\n",
              "  <tbody>\n",
              "    <tr>\n",
              "      <th>0</th>\n",
              "      <td>-1</td>\n",
              "      <td>-1</td>\n",
              "      <td>0.877353</td>\n",
              "      <td>0.874395</td>\n",
              "      <td>0.868749</td>\n",
              "      <td>0.874395</td>\n",
              "      <td>0.867856</td>\n",
              "      <td>0.873171</td>\n",
              "      <td>0.877353</td>\n",
              "      <td>0.874395</td>\n",
              "    </tr>\n",
              "  </tbody>\n",
              "</table>\n",
              "</div>\n",
              "      <button class=\"colab-df-convert\" onclick=\"convertToInteractive('df-141a689f-4b98-44f8-bdf9-d696fa8c056e')\"\n",
              "              title=\"Convert this dataframe to an interactive table.\"\n",
              "              style=\"display:none;\">\n",
              "        \n",
              "  <svg xmlns=\"http://www.w3.org/2000/svg\" height=\"24px\"viewBox=\"0 0 24 24\"\n",
              "       width=\"24px\">\n",
              "    <path d=\"M0 0h24v24H0V0z\" fill=\"none\"/>\n",
              "    <path d=\"M18.56 5.44l.94 2.06.94-2.06 2.06-.94-2.06-.94-.94-2.06-.94 2.06-2.06.94zm-11 1L8.5 8.5l.94-2.06 2.06-.94-2.06-.94L8.5 2.5l-.94 2.06-2.06.94zm10 10l.94 2.06.94-2.06 2.06-.94-2.06-.94-.94-2.06-.94 2.06-2.06.94z\"/><path d=\"M17.41 7.96l-1.37-1.37c-.4-.4-.92-.59-1.43-.59-.52 0-1.04.2-1.43.59L10.3 9.45l-7.72 7.72c-.78.78-.78 2.05 0 2.83L4 21.41c.39.39.9.59 1.41.59.51 0 1.02-.2 1.41-.59l7.78-7.78 2.81-2.81c.8-.78.8-2.07 0-2.86zM5.41 20L4 18.59l7.72-7.72 1.47 1.35L5.41 20z\"/>\n",
              "  </svg>\n",
              "      </button>\n",
              "      \n",
              "  <style>\n",
              "    .colab-df-container {\n",
              "      display:flex;\n",
              "      flex-wrap:wrap;\n",
              "      gap: 12px;\n",
              "    }\n",
              "\n",
              "    .colab-df-convert {\n",
              "      background-color: #E8F0FE;\n",
              "      border: none;\n",
              "      border-radius: 50%;\n",
              "      cursor: pointer;\n",
              "      display: none;\n",
              "      fill: #1967D2;\n",
              "      height: 32px;\n",
              "      padding: 0 0 0 0;\n",
              "      width: 32px;\n",
              "    }\n",
              "\n",
              "    .colab-df-convert:hover {\n",
              "      background-color: #E2EBFA;\n",
              "      box-shadow: 0px 1px 2px rgba(60, 64, 67, 0.3), 0px 1px 3px 1px rgba(60, 64, 67, 0.15);\n",
              "      fill: #174EA6;\n",
              "    }\n",
              "\n",
              "    [theme=dark] .colab-df-convert {\n",
              "      background-color: #3B4455;\n",
              "      fill: #D2E3FC;\n",
              "    }\n",
              "\n",
              "    [theme=dark] .colab-df-convert:hover {\n",
              "      background-color: #434B5C;\n",
              "      box-shadow: 0px 1px 3px 1px rgba(0, 0, 0, 0.15);\n",
              "      filter: drop-shadow(0px 1px 2px rgba(0, 0, 0, 0.3));\n",
              "      fill: #FFFFFF;\n",
              "    }\n",
              "  </style>\n",
              "\n",
              "      <script>\n",
              "        const buttonEl =\n",
              "          document.querySelector('#df-141a689f-4b98-44f8-bdf9-d696fa8c056e button.colab-df-convert');\n",
              "        buttonEl.style.display =\n",
              "          google.colab.kernel.accessAllowed ? 'block' : 'none';\n",
              "\n",
              "        async function convertToInteractive(key) {\n",
              "          const element = document.querySelector('#df-141a689f-4b98-44f8-bdf9-d696fa8c056e');\n",
              "          const dataTable =\n",
              "            await google.colab.kernel.invokeFunction('convertToInteractive',\n",
              "                                                     [key], {});\n",
              "          if (!dataTable) return;\n",
              "\n",
              "          const docLinkHtml = 'Like what you see? Visit the ' +\n",
              "            '<a target=\"_blank\" href=https://colab.research.google.com/notebooks/data_table.ipynb>data table notebook</a>'\n",
              "            + ' to learn more about interactive tables.';\n",
              "          element.innerHTML = '';\n",
              "          dataTable['output_type'] = 'display_data';\n",
              "          await google.colab.output.renderOutput(dataTable, element);\n",
              "          const docLink = document.createElement('div');\n",
              "          docLink.innerHTML = docLinkHtml;\n",
              "          element.appendChild(docLink);\n",
              "        }\n",
              "      </script>\n",
              "    </div>\n",
              "  </div>\n",
              "  "
            ]
          },
          "metadata": {},
          "execution_count": 19
        }
      ],
      "source": [
        "# evaluation after training the model\n",
        "result_test"
      ]
    },
    {
      "cell_type": "markdown",
      "id": "8f220517",
      "metadata": {
        "id": "8f220517"
      },
      "source": [
        "## Possible extensions for improving the performance of transformer-based models\n",
        "1. Including additional related data into training set\n",
        "    - The companion datasets to the STS Benchmark\n",
        "    - SNLI\n",
        "2. Ensemble Learning"
      ]
    },
    {
      "cell_type": "markdown",
      "id": "37d090ec",
      "metadata": {
        "id": "37d090ec"
      },
      "source": [
        "### The companion datasets to the STS Benchmark"
      ]
    },
    {
      "cell_type": "code",
      "execution_count": null,
      "id": "21e4cd32",
      "metadata": {
        "id": "21e4cd32"
      },
      "outputs": [],
      "source": [
        "sts_companion_dataset_path = 'dataset/stscompanion/'\n",
        "\n",
        "train_companion_samples = []\n",
        "train_path = os.path.join(sts_companion_dataset_path, \"sts-mt.csv\")\n",
        "\n",
        "with open(train_path, encoding='utf8') as fIn:\n",
        "    reader = csv.reader(fIn, delimiter='\\t', quoting=csv.QUOTE_NONE)\n",
        "    for row in reader:\n",
        "        score = float(row[3]) / 5.0  # Normalize score to range 0 ... 1\n",
        "        inp_example = InputExample(texts=[row[4], row[5]], label=score)\n",
        "        train_companion_samples.append(inp_example)\n",
        "\n",
        "combined_train_samples = train_samples + train_companion_samples\n",
        "\n",
        "train_dataloader_combined = DataLoader(combined_train_samples, batch_size=batch_size, shuffle=True)"
      ]
    },
    {
      "cell_type": "code",
      "execution_count": null,
      "id": "e87d47b1",
      "metadata": {
        "colab": {
          "base_uri": "https://localhost:8080/"
        },
        "id": "e87d47b1",
        "outputId": "a75813a4-40e3-45fd-ffb4-341f68fde34a"
      },
      "outputs": [
        {
          "output_type": "stream",
          "name": "stdout",
          "text": [
            "The model has already been finetuned\n"
          ]
        }
      ],
      "source": [
        "finetuned_combined_model = False\n",
        "if os.path.exists('output/'+model_name+'_combined'):\n",
        "    print(f\"The model has already been finetuned\")\n",
        "    finetuned_combined_model = True\n",
        "    output_path = os.path.join('output', model_name+'_combined')\n",
        "    new_model = SentenceTransformer(output_path)\n",
        "else: new_model = SentenceTransformer(model_name)\n",
        "\n",
        "device = torch.device('cuda' if torch.cuda.is_available() else 'cpu')\n",
        "\n",
        "\"\"\"\n",
        "if device.type != 'cuda':\n",
        "    raise SystemError('GPU device not found')\n",
        "\"\"\"\n",
        "\n",
        "new_model = new_model.to(device)\n",
        "model_save_path_combined = 'output/'+model_name+'_combined'\n",
        "os.mkdir(model_save_path_combined) if not os.path.exists(model_save_path_combined) else None\n",
        "eval_combined_save_path = os.path.join(model_save_path_combined, 'eval')\n",
        "os.mkdir(eval_combined_save_path) if not os.path.exists(eval_combined_save_path) else None"
      ]
    },
    {
      "cell_type": "code",
      "execution_count": null,
      "id": "18c7fa07",
      "metadata": {
        "id": "18c7fa07"
      },
      "outputs": [],
      "source": [
        "if not finetuned_combined_model:\n",
        "    combined_ori_evaluator = evaluation.EmbeddingSimilarityEvaluator.from_input_examples(test_samples, name='sts-test-ori')\n",
        "    combined_ori_evaluator(new_model, output_path=eval_combined_save_path)\n",
        "\n",
        "num_epochs = 4\n",
        "batch_size = 16\n",
        "train_loss = losses.CosineSimilarityLoss(model=new_model)\n",
        "\n",
        "# define evaluator\n",
        "evaluator_combined = evaluation.EmbeddingSimilarityEvaluator.from_input_examples(dev_samples, name='sts-dev')\n",
        "\n",
        "if not finetuned_combined_model:\n",
        "    new_model.fit(train_objectives=[(train_dataloader_combined, train_loss)],\n",
        "            evaluator=evaluator_combined,\n",
        "            epochs=num_epochs,\n",
        "            evaluation_steps=1000,\n",
        "            warmup_steps=warmup_steps,\n",
        "            output_path=model_save_path_combined\n",
        "            )"
      ]
    },
    {
      "cell_type": "code",
      "execution_count": null,
      "id": "3e16e76a",
      "metadata": {
        "id": "3e16e76a"
      },
      "outputs": [],
      "source": [
        "if not finetuned_combined_model:\n",
        "    test_evaluator = evaluation.EmbeddingSimilarityEvaluator.from_input_examples(test_samples, name='sts-test')\n",
        "    test_evaluator(new_model, output_path=os.path.join(model_save_path_combined, 'eval'))\n",
        "\n",
        "result_test_pre = pd.read_csv(eval_save_path+'/similarity_evaluation_sts-test_results.csv')\n",
        "result_dev = pd.read_csv(eval_combined_save_path+'/similarity_evaluation_sts-dev_results.csv')\n",
        "result_test = pd.read_csv(eval_combined_save_path+'/similarity_evaluation_sts-test_results.csv')"
      ]
    },
    {
      "cell_type": "code",
      "execution_count": null,
      "id": "ff30e191",
      "metadata": {
        "colab": {
          "base_uri": "https://localhost:8080/",
          "height": 175
        },
        "id": "ff30e191",
        "outputId": "fee381d2-640b-4aab-94a2-326c10c5ec57"
      },
      "outputs": [
        {
          "output_type": "execute_result",
          "data": {
            "text/plain": [
              "   epoch  steps  cosine_pearson  cosine_spearman  euclidean_pearson  \\\n",
              "0      0     -1        0.906933         0.906006           0.900296   \n",
              "1      1     -1        0.906693         0.905103           0.898702   \n",
              "2      2     -1        0.906573         0.904591           0.898821   \n",
              "3      3     -1        0.907041         0.905327           0.899106   \n",
              "\n",
              "   euclidean_spearman  manhattan_pearson  manhattan_spearman  dot_pearson  \\\n",
              "0            0.906006           0.899826            0.905180     0.906933   \n",
              "1            0.905103           0.897738            0.903908     0.906693   \n",
              "2            0.904591           0.898337            0.903972     0.906573   \n",
              "3            0.905327           0.898490            0.904524     0.907041   \n",
              "\n",
              "   dot_spearman  \n",
              "0      0.906006  \n",
              "1      0.905103  \n",
              "2      0.904591  \n",
              "3      0.905327  "
            ],
            "text/html": [
              "\n",
              "  <div id=\"df-2f3050ac-7d1c-495a-a254-5b050ebf0453\">\n",
              "    <div class=\"colab-df-container\">\n",
              "      <div>\n",
              "<style scoped>\n",
              "    .dataframe tbody tr th:only-of-type {\n",
              "        vertical-align: middle;\n",
              "    }\n",
              "\n",
              "    .dataframe tbody tr th {\n",
              "        vertical-align: top;\n",
              "    }\n",
              "\n",
              "    .dataframe thead th {\n",
              "        text-align: right;\n",
              "    }\n",
              "</style>\n",
              "<table border=\"1\" class=\"dataframe\">\n",
              "  <thead>\n",
              "    <tr style=\"text-align: right;\">\n",
              "      <th></th>\n",
              "      <th>epoch</th>\n",
              "      <th>steps</th>\n",
              "      <th>cosine_pearson</th>\n",
              "      <th>cosine_spearman</th>\n",
              "      <th>euclidean_pearson</th>\n",
              "      <th>euclidean_spearman</th>\n",
              "      <th>manhattan_pearson</th>\n",
              "      <th>manhattan_spearman</th>\n",
              "      <th>dot_pearson</th>\n",
              "      <th>dot_spearman</th>\n",
              "    </tr>\n",
              "  </thead>\n",
              "  <tbody>\n",
              "    <tr>\n",
              "      <th>0</th>\n",
              "      <td>0</td>\n",
              "      <td>-1</td>\n",
              "      <td>0.906933</td>\n",
              "      <td>0.906006</td>\n",
              "      <td>0.900296</td>\n",
              "      <td>0.906006</td>\n",
              "      <td>0.899826</td>\n",
              "      <td>0.905180</td>\n",
              "      <td>0.906933</td>\n",
              "      <td>0.906006</td>\n",
              "    </tr>\n",
              "    <tr>\n",
              "      <th>1</th>\n",
              "      <td>1</td>\n",
              "      <td>-1</td>\n",
              "      <td>0.906693</td>\n",
              "      <td>0.905103</td>\n",
              "      <td>0.898702</td>\n",
              "      <td>0.905103</td>\n",
              "      <td>0.897738</td>\n",
              "      <td>0.903908</td>\n",
              "      <td>0.906693</td>\n",
              "      <td>0.905103</td>\n",
              "    </tr>\n",
              "    <tr>\n",
              "      <th>2</th>\n",
              "      <td>2</td>\n",
              "      <td>-1</td>\n",
              "      <td>0.906573</td>\n",
              "      <td>0.904591</td>\n",
              "      <td>0.898821</td>\n",
              "      <td>0.904591</td>\n",
              "      <td>0.898337</td>\n",
              "      <td>0.903972</td>\n",
              "      <td>0.906573</td>\n",
              "      <td>0.904591</td>\n",
              "    </tr>\n",
              "    <tr>\n",
              "      <th>3</th>\n",
              "      <td>3</td>\n",
              "      <td>-1</td>\n",
              "      <td>0.907041</td>\n",
              "      <td>0.905327</td>\n",
              "      <td>0.899106</td>\n",
              "      <td>0.905327</td>\n",
              "      <td>0.898490</td>\n",
              "      <td>0.904524</td>\n",
              "      <td>0.907041</td>\n",
              "      <td>0.905327</td>\n",
              "    </tr>\n",
              "  </tbody>\n",
              "</table>\n",
              "</div>\n",
              "      <button class=\"colab-df-convert\" onclick=\"convertToInteractive('df-2f3050ac-7d1c-495a-a254-5b050ebf0453')\"\n",
              "              title=\"Convert this dataframe to an interactive table.\"\n",
              "              style=\"display:none;\">\n",
              "        \n",
              "  <svg xmlns=\"http://www.w3.org/2000/svg\" height=\"24px\"viewBox=\"0 0 24 24\"\n",
              "       width=\"24px\">\n",
              "    <path d=\"M0 0h24v24H0V0z\" fill=\"none\"/>\n",
              "    <path d=\"M18.56 5.44l.94 2.06.94-2.06 2.06-.94-2.06-.94-.94-2.06-.94 2.06-2.06.94zm-11 1L8.5 8.5l.94-2.06 2.06-.94-2.06-.94L8.5 2.5l-.94 2.06-2.06.94zm10 10l.94 2.06.94-2.06 2.06-.94-2.06-.94-.94-2.06-.94 2.06-2.06.94z\"/><path d=\"M17.41 7.96l-1.37-1.37c-.4-.4-.92-.59-1.43-.59-.52 0-1.04.2-1.43.59L10.3 9.45l-7.72 7.72c-.78.78-.78 2.05 0 2.83L4 21.41c.39.39.9.59 1.41.59.51 0 1.02-.2 1.41-.59l7.78-7.78 2.81-2.81c.8-.78.8-2.07 0-2.86zM5.41 20L4 18.59l7.72-7.72 1.47 1.35L5.41 20z\"/>\n",
              "  </svg>\n",
              "      </button>\n",
              "      \n",
              "  <style>\n",
              "    .colab-df-container {\n",
              "      display:flex;\n",
              "      flex-wrap:wrap;\n",
              "      gap: 12px;\n",
              "    }\n",
              "\n",
              "    .colab-df-convert {\n",
              "      background-color: #E8F0FE;\n",
              "      border: none;\n",
              "      border-radius: 50%;\n",
              "      cursor: pointer;\n",
              "      display: none;\n",
              "      fill: #1967D2;\n",
              "      height: 32px;\n",
              "      padding: 0 0 0 0;\n",
              "      width: 32px;\n",
              "    }\n",
              "\n",
              "    .colab-df-convert:hover {\n",
              "      background-color: #E2EBFA;\n",
              "      box-shadow: 0px 1px 2px rgba(60, 64, 67, 0.3), 0px 1px 3px 1px rgba(60, 64, 67, 0.15);\n",
              "      fill: #174EA6;\n",
              "    }\n",
              "\n",
              "    [theme=dark] .colab-df-convert {\n",
              "      background-color: #3B4455;\n",
              "      fill: #D2E3FC;\n",
              "    }\n",
              "\n",
              "    [theme=dark] .colab-df-convert:hover {\n",
              "      background-color: #434B5C;\n",
              "      box-shadow: 0px 1px 3px 1px rgba(0, 0, 0, 0.15);\n",
              "      filter: drop-shadow(0px 1px 2px rgba(0, 0, 0, 0.3));\n",
              "      fill: #FFFFFF;\n",
              "    }\n",
              "  </style>\n",
              "\n",
              "      <script>\n",
              "        const buttonEl =\n",
              "          document.querySelector('#df-2f3050ac-7d1c-495a-a254-5b050ebf0453 button.colab-df-convert');\n",
              "        buttonEl.style.display =\n",
              "          google.colab.kernel.accessAllowed ? 'block' : 'none';\n",
              "\n",
              "        async function convertToInteractive(key) {\n",
              "          const element = document.querySelector('#df-2f3050ac-7d1c-495a-a254-5b050ebf0453');\n",
              "          const dataTable =\n",
              "            await google.colab.kernel.invokeFunction('convertToInteractive',\n",
              "                                                     [key], {});\n",
              "          if (!dataTable) return;\n",
              "\n",
              "          const docLinkHtml = 'Like what you see? Visit the ' +\n",
              "            '<a target=\"_blank\" href=https://colab.research.google.com/notebooks/data_table.ipynb>data table notebook</a>'\n",
              "            + ' to learn more about interactive tables.';\n",
              "          element.innerHTML = '';\n",
              "          dataTable['output_type'] = 'display_data';\n",
              "          await google.colab.output.renderOutput(dataTable, element);\n",
              "          const docLink = document.createElement('div');\n",
              "          docLink.innerHTML = docLinkHtml;\n",
              "          element.appendChild(docLink);\n",
              "        }\n",
              "      </script>\n",
              "    </div>\n",
              "  </div>\n",
              "  "
            ]
          },
          "metadata": {},
          "execution_count": 25
        }
      ],
      "source": [
        "result_dev"
      ]
    },
    {
      "cell_type": "code",
      "execution_count": null,
      "id": "e119eff1",
      "metadata": {
        "colab": {
          "base_uri": "https://localhost:8080/",
          "height": 81
        },
        "id": "e119eff1",
        "outputId": "ebd86c6d-395e-4c7b-aa9b-cad43fbd6227"
      },
      "outputs": [
        {
          "output_type": "execute_result",
          "data": {
            "text/plain": [
              "   epoch  steps  cosine_pearson  cosine_spearman  euclidean_pearson  \\\n",
              "0     -1     -1        0.877353         0.874395           0.868749   \n",
              "\n",
              "   euclidean_spearman  manhattan_pearson  manhattan_spearman  dot_pearson  \\\n",
              "0            0.874395           0.867856            0.873171     0.877353   \n",
              "\n",
              "   dot_spearman  \n",
              "0      0.874395  "
            ],
            "text/html": [
              "\n",
              "  <div id=\"df-c4baf1b3-aee4-4ff1-a95b-acce812499e3\">\n",
              "    <div class=\"colab-df-container\">\n",
              "      <div>\n",
              "<style scoped>\n",
              "    .dataframe tbody tr th:only-of-type {\n",
              "        vertical-align: middle;\n",
              "    }\n",
              "\n",
              "    .dataframe tbody tr th {\n",
              "        vertical-align: top;\n",
              "    }\n",
              "\n",
              "    .dataframe thead th {\n",
              "        text-align: right;\n",
              "    }\n",
              "</style>\n",
              "<table border=\"1\" class=\"dataframe\">\n",
              "  <thead>\n",
              "    <tr style=\"text-align: right;\">\n",
              "      <th></th>\n",
              "      <th>epoch</th>\n",
              "      <th>steps</th>\n",
              "      <th>cosine_pearson</th>\n",
              "      <th>cosine_spearman</th>\n",
              "      <th>euclidean_pearson</th>\n",
              "      <th>euclidean_spearman</th>\n",
              "      <th>manhattan_pearson</th>\n",
              "      <th>manhattan_spearman</th>\n",
              "      <th>dot_pearson</th>\n",
              "      <th>dot_spearman</th>\n",
              "    </tr>\n",
              "  </thead>\n",
              "  <tbody>\n",
              "    <tr>\n",
              "      <th>0</th>\n",
              "      <td>-1</td>\n",
              "      <td>-1</td>\n",
              "      <td>0.877353</td>\n",
              "      <td>0.874395</td>\n",
              "      <td>0.868749</td>\n",
              "      <td>0.874395</td>\n",
              "      <td>0.867856</td>\n",
              "      <td>0.873171</td>\n",
              "      <td>0.877353</td>\n",
              "      <td>0.874395</td>\n",
              "    </tr>\n",
              "  </tbody>\n",
              "</table>\n",
              "</div>\n",
              "      <button class=\"colab-df-convert\" onclick=\"convertToInteractive('df-c4baf1b3-aee4-4ff1-a95b-acce812499e3')\"\n",
              "              title=\"Convert this dataframe to an interactive table.\"\n",
              "              style=\"display:none;\">\n",
              "        \n",
              "  <svg xmlns=\"http://www.w3.org/2000/svg\" height=\"24px\"viewBox=\"0 0 24 24\"\n",
              "       width=\"24px\">\n",
              "    <path d=\"M0 0h24v24H0V0z\" fill=\"none\"/>\n",
              "    <path d=\"M18.56 5.44l.94 2.06.94-2.06 2.06-.94-2.06-.94-.94-2.06-.94 2.06-2.06.94zm-11 1L8.5 8.5l.94-2.06 2.06-.94-2.06-.94L8.5 2.5l-.94 2.06-2.06.94zm10 10l.94 2.06.94-2.06 2.06-.94-2.06-.94-.94-2.06-.94 2.06-2.06.94z\"/><path d=\"M17.41 7.96l-1.37-1.37c-.4-.4-.92-.59-1.43-.59-.52 0-1.04.2-1.43.59L10.3 9.45l-7.72 7.72c-.78.78-.78 2.05 0 2.83L4 21.41c.39.39.9.59 1.41.59.51 0 1.02-.2 1.41-.59l7.78-7.78 2.81-2.81c.8-.78.8-2.07 0-2.86zM5.41 20L4 18.59l7.72-7.72 1.47 1.35L5.41 20z\"/>\n",
              "  </svg>\n",
              "      </button>\n",
              "      \n",
              "  <style>\n",
              "    .colab-df-container {\n",
              "      display:flex;\n",
              "      flex-wrap:wrap;\n",
              "      gap: 12px;\n",
              "    }\n",
              "\n",
              "    .colab-df-convert {\n",
              "      background-color: #E8F0FE;\n",
              "      border: none;\n",
              "      border-radius: 50%;\n",
              "      cursor: pointer;\n",
              "      display: none;\n",
              "      fill: #1967D2;\n",
              "      height: 32px;\n",
              "      padding: 0 0 0 0;\n",
              "      width: 32px;\n",
              "    }\n",
              "\n",
              "    .colab-df-convert:hover {\n",
              "      background-color: #E2EBFA;\n",
              "      box-shadow: 0px 1px 2px rgba(60, 64, 67, 0.3), 0px 1px 3px 1px rgba(60, 64, 67, 0.15);\n",
              "      fill: #174EA6;\n",
              "    }\n",
              "\n",
              "    [theme=dark] .colab-df-convert {\n",
              "      background-color: #3B4455;\n",
              "      fill: #D2E3FC;\n",
              "    }\n",
              "\n",
              "    [theme=dark] .colab-df-convert:hover {\n",
              "      background-color: #434B5C;\n",
              "      box-shadow: 0px 1px 3px 1px rgba(0, 0, 0, 0.15);\n",
              "      filter: drop-shadow(0px 1px 2px rgba(0, 0, 0, 0.3));\n",
              "      fill: #FFFFFF;\n",
              "    }\n",
              "  </style>\n",
              "\n",
              "      <script>\n",
              "        const buttonEl =\n",
              "          document.querySelector('#df-c4baf1b3-aee4-4ff1-a95b-acce812499e3 button.colab-df-convert');\n",
              "        buttonEl.style.display =\n",
              "          google.colab.kernel.accessAllowed ? 'block' : 'none';\n",
              "\n",
              "        async function convertToInteractive(key) {\n",
              "          const element = document.querySelector('#df-c4baf1b3-aee4-4ff1-a95b-acce812499e3');\n",
              "          const dataTable =\n",
              "            await google.colab.kernel.invokeFunction('convertToInteractive',\n",
              "                                                     [key], {});\n",
              "          if (!dataTable) return;\n",
              "\n",
              "          const docLinkHtml = 'Like what you see? Visit the ' +\n",
              "            '<a target=\"_blank\" href=https://colab.research.google.com/notebooks/data_table.ipynb>data table notebook</a>'\n",
              "            + ' to learn more about interactive tables.';\n",
              "          element.innerHTML = '';\n",
              "          dataTable['output_type'] = 'display_data';\n",
              "          await google.colab.output.renderOutput(dataTable, element);\n",
              "          const docLink = document.createElement('div');\n",
              "          docLink.innerHTML = docLinkHtml;\n",
              "          element.appendChild(docLink);\n",
              "        }\n",
              "      </script>\n",
              "    </div>\n",
              "  </div>\n",
              "  "
            ]
          },
          "metadata": {},
          "execution_count": 26
        }
      ],
      "source": [
        "result_test_pre"
      ]
    },
    {
      "cell_type": "code",
      "execution_count": null,
      "id": "12a7e92a",
      "metadata": {
        "colab": {
          "base_uri": "https://localhost:8080/",
          "height": 81
        },
        "id": "12a7e92a",
        "outputId": "003f0dc7-edda-418e-fe74-5c7a30c95919"
      },
      "outputs": [
        {
          "output_type": "execute_result",
          "data": {
            "text/plain": [
              "   epoch  steps  cosine_pearson  cosine_spearman  euclidean_pearson  \\\n",
              "0     -1     -1        0.879127         0.877669           0.871397   \n",
              "\n",
              "   euclidean_spearman  manhattan_pearson  manhattan_spearman  dot_pearson  \\\n",
              "0            0.877669           0.870755            0.876787     0.879127   \n",
              "\n",
              "   dot_spearman  \n",
              "0      0.877669  "
            ],
            "text/html": [
              "\n",
              "  <div id=\"df-5d62c0b5-6074-4c9b-9a26-930084090b20\">\n",
              "    <div class=\"colab-df-container\">\n",
              "      <div>\n",
              "<style scoped>\n",
              "    .dataframe tbody tr th:only-of-type {\n",
              "        vertical-align: middle;\n",
              "    }\n",
              "\n",
              "    .dataframe tbody tr th {\n",
              "        vertical-align: top;\n",
              "    }\n",
              "\n",
              "    .dataframe thead th {\n",
              "        text-align: right;\n",
              "    }\n",
              "</style>\n",
              "<table border=\"1\" class=\"dataframe\">\n",
              "  <thead>\n",
              "    <tr style=\"text-align: right;\">\n",
              "      <th></th>\n",
              "      <th>epoch</th>\n",
              "      <th>steps</th>\n",
              "      <th>cosine_pearson</th>\n",
              "      <th>cosine_spearman</th>\n",
              "      <th>euclidean_pearson</th>\n",
              "      <th>euclidean_spearman</th>\n",
              "      <th>manhattan_pearson</th>\n",
              "      <th>manhattan_spearman</th>\n",
              "      <th>dot_pearson</th>\n",
              "      <th>dot_spearman</th>\n",
              "    </tr>\n",
              "  </thead>\n",
              "  <tbody>\n",
              "    <tr>\n",
              "      <th>0</th>\n",
              "      <td>-1</td>\n",
              "      <td>-1</td>\n",
              "      <td>0.879127</td>\n",
              "      <td>0.877669</td>\n",
              "      <td>0.871397</td>\n",
              "      <td>0.877669</td>\n",
              "      <td>0.870755</td>\n",
              "      <td>0.876787</td>\n",
              "      <td>0.879127</td>\n",
              "      <td>0.877669</td>\n",
              "    </tr>\n",
              "  </tbody>\n",
              "</table>\n",
              "</div>\n",
              "      <button class=\"colab-df-convert\" onclick=\"convertToInteractive('df-5d62c0b5-6074-4c9b-9a26-930084090b20')\"\n",
              "              title=\"Convert this dataframe to an interactive table.\"\n",
              "              style=\"display:none;\">\n",
              "        \n",
              "  <svg xmlns=\"http://www.w3.org/2000/svg\" height=\"24px\"viewBox=\"0 0 24 24\"\n",
              "       width=\"24px\">\n",
              "    <path d=\"M0 0h24v24H0V0z\" fill=\"none\"/>\n",
              "    <path d=\"M18.56 5.44l.94 2.06.94-2.06 2.06-.94-2.06-.94-.94-2.06-.94 2.06-2.06.94zm-11 1L8.5 8.5l.94-2.06 2.06-.94-2.06-.94L8.5 2.5l-.94 2.06-2.06.94zm10 10l.94 2.06.94-2.06 2.06-.94-2.06-.94-.94-2.06-.94 2.06-2.06.94z\"/><path d=\"M17.41 7.96l-1.37-1.37c-.4-.4-.92-.59-1.43-.59-.52 0-1.04.2-1.43.59L10.3 9.45l-7.72 7.72c-.78.78-.78 2.05 0 2.83L4 21.41c.39.39.9.59 1.41.59.51 0 1.02-.2 1.41-.59l7.78-7.78 2.81-2.81c.8-.78.8-2.07 0-2.86zM5.41 20L4 18.59l7.72-7.72 1.47 1.35L5.41 20z\"/>\n",
              "  </svg>\n",
              "      </button>\n",
              "      \n",
              "  <style>\n",
              "    .colab-df-container {\n",
              "      display:flex;\n",
              "      flex-wrap:wrap;\n",
              "      gap: 12px;\n",
              "    }\n",
              "\n",
              "    .colab-df-convert {\n",
              "      background-color: #E8F0FE;\n",
              "      border: none;\n",
              "      border-radius: 50%;\n",
              "      cursor: pointer;\n",
              "      display: none;\n",
              "      fill: #1967D2;\n",
              "      height: 32px;\n",
              "      padding: 0 0 0 0;\n",
              "      width: 32px;\n",
              "    }\n",
              "\n",
              "    .colab-df-convert:hover {\n",
              "      background-color: #E2EBFA;\n",
              "      box-shadow: 0px 1px 2px rgba(60, 64, 67, 0.3), 0px 1px 3px 1px rgba(60, 64, 67, 0.15);\n",
              "      fill: #174EA6;\n",
              "    }\n",
              "\n",
              "    [theme=dark] .colab-df-convert {\n",
              "      background-color: #3B4455;\n",
              "      fill: #D2E3FC;\n",
              "    }\n",
              "\n",
              "    [theme=dark] .colab-df-convert:hover {\n",
              "      background-color: #434B5C;\n",
              "      box-shadow: 0px 1px 3px 1px rgba(0, 0, 0, 0.15);\n",
              "      filter: drop-shadow(0px 1px 2px rgba(0, 0, 0, 0.3));\n",
              "      fill: #FFFFFF;\n",
              "    }\n",
              "  </style>\n",
              "\n",
              "      <script>\n",
              "        const buttonEl =\n",
              "          document.querySelector('#df-5d62c0b5-6074-4c9b-9a26-930084090b20 button.colab-df-convert');\n",
              "        buttonEl.style.display =\n",
              "          google.colab.kernel.accessAllowed ? 'block' : 'none';\n",
              "\n",
              "        async function convertToInteractive(key) {\n",
              "          const element = document.querySelector('#df-5d62c0b5-6074-4c9b-9a26-930084090b20');\n",
              "          const dataTable =\n",
              "            await google.colab.kernel.invokeFunction('convertToInteractive',\n",
              "                                                     [key], {});\n",
              "          if (!dataTable) return;\n",
              "\n",
              "          const docLinkHtml = 'Like what you see? Visit the ' +\n",
              "            '<a target=\"_blank\" href=https://colab.research.google.com/notebooks/data_table.ipynb>data table notebook</a>'\n",
              "            + ' to learn more about interactive tables.';\n",
              "          element.innerHTML = '';\n",
              "          dataTable['output_type'] = 'display_data';\n",
              "          await google.colab.output.renderOutput(dataTable, element);\n",
              "          const docLink = document.createElement('div');\n",
              "          docLink.innerHTML = docLinkHtml;\n",
              "          element.appendChild(docLink);\n",
              "        }\n",
              "      </script>\n",
              "    </div>\n",
              "  </div>\n",
              "  "
            ]
          },
          "metadata": {},
          "execution_count": 27
        }
      ],
      "source": [
        "result_test"
      ]
    },
    {
      "cell_type": "markdown",
      "id": "b17283a3",
      "metadata": {
        "id": "b17283a3"
      },
      "source": [
        "### SNLI dataset"
      ]
    },
    {
      "cell_type": "code",
      "execution_count": null,
      "id": "98723b7e",
      "metadata": {
        "id": "98723b7e"
      },
      "outputs": [],
      "source": [
        "train_df = pd.read_csv(\"dataset/SNLI_Corpus/snli_1.0_train.csv\")\n",
        "\n",
        "# Shape of the data\n",
        "print(f\"Total train samples : {train_df.shape[0]}\")"
      ]
    },
    {
      "cell_type": "code",
      "execution_count": null,
      "id": "64feb722",
      "metadata": {
        "id": "64feb722"
      },
      "outputs": [],
      "source": [
        "print(f\"Sentence1: {train_df.loc[1, 'sentence1']}\")\n",
        "print(f\"Sentence2: {train_df.loc[1, 'sentence2']}\")\n",
        "print(f\"Similarity: {train_df.loc[1, 'similarity']}\")"
      ]
    },
    {
      "cell_type": "markdown",
      "id": "87033e80",
      "metadata": {
        "id": "87033e80"
      },
      "source": [
        "**Data preprocessing**"
      ]
    },
    {
      "cell_type": "code",
      "execution_count": null,
      "id": "a5db1032",
      "metadata": {
        "id": "a5db1032"
      },
      "outputs": [],
      "source": [
        "# drop NaN values\n",
        "print(\"Number of missing values\")\n",
        "print(train_df.isnull().sum())\n",
        "train_df.dropna(axis=0, inplace=True)"
      ]
    },
    {
      "cell_type": "code",
      "execution_count": null,
      "id": "273e7f93",
      "metadata": {
        "id": "273e7f93"
      },
      "outputs": [],
      "source": [
        "print(\"Train Target Distribution\")\n",
        "print(train_df.similarity.value_counts())"
      ]
    },
    {
      "cell_type": "code",
      "execution_count": null,
      "id": "eb86fee9",
      "metadata": {
        "id": "eb86fee9"
      },
      "outputs": [],
      "source": [
        "# drop '-' from the similarity labels when there are no majority for the labels\n",
        "train_df = (\n",
        "    train_df[train_df.similarity != \"-\"]\n",
        "    .sample(frac=1.0, random_state=42)\n",
        "    .reset_index(drop=True)\n",
        ")"
      ]
    },
    {
      "cell_type": "code",
      "execution_count": null,
      "id": "d59d0e66",
      "metadata": {
        "id": "d59d0e66"
      },
      "outputs": [],
      "source": [
        "train_df[:10]"
      ]
    },
    {
      "cell_type": "code",
      "execution_count": null,
      "id": "0c9b6e36",
      "metadata": {
        "id": "0c9b6e36"
      },
      "outputs": [],
      "source": [
        "train_df[\"label\"] = train_df[\"similarity\"].apply(\n",
        "    lambda x: 0 if x == \"contradiction\" else 5 if x == \"entailment\" else 2.5\n",
        ")\n",
        "print(train_df[\"label\"][:10])"
      ]
    },
    {
      "cell_type": "markdown",
      "id": "5afdbd82",
      "metadata": {
        "id": "5afdbd82"
      },
      "source": [
        "**Model Finetuning as previous dataset**"
      ]
    },
    {
      "cell_type": "code",
      "execution_count": null,
      "id": "fc96fed6",
      "metadata": {
        "id": "fc96fed6"
      },
      "outputs": [],
      "source": [
        "train_samples_snli = []\n",
        "for index, row in train_df.iterrows():\n",
        "    score = float(row['label']) / 5.0  # Normalize score to range 0 ... 1\n",
        "    inp_example = InputExample(texts=[row['sentence1'], row['sentence2']], label=score)\n",
        "    train_samples_snli.append(inp_example)\n",
        "\n",
        "SNLI_train_samples = train_samples+train_samples_snli\n",
        "train_dataloader_SNLI = DataLoader(SNLI_train_samples, batch_size=batch_size, shuffle=True)\n",
        "\n",
        "finetuned_SNLI_model = False\n",
        "if os.path.exists('output/'+model_name+'_SNLI'):\n",
        "    print(f\"The model has already been finetuned\")\n",
        "    finetuned_SNLI_model = True\n",
        "    output_path = os.path.join('output', model_name+'_SNLI')\n",
        "    new_model = SentenceTransformer(output_path)\n",
        "else: SNLI_model = SentenceTransformer(model_name)\n",
        "\n",
        "device = torch.device('cuda' if torch.cuda.is_available() else 'cpu')\n",
        "\n",
        "if device.type != 'cuda':\n",
        "    raise SystemError('GPU device not found')\n",
        "\n",
        "SNLI_model = SNLI_model.to(device)\n",
        "model_save_path_SNLI = 'output/'+model_name+'_SNLI'\n",
        "os.mkdir(model_save_path_SNLI) if not os.path.exists(model_save_path_SNLI) else None\n",
        "eval_SNLI_save_path = os.path.join(model_save_path_SNLI, 'eval')\n",
        "os.mkdir(eval_SNLI_save_path) if not os.path.exists(eval_SNLI_save_path) else None\n",
        "\n",
        "if not finetuned_SNLI_model:\n",
        "    SNLI_ori_evaluator = evaluation.EmbeddingSimilarityEvaluator.from_input_examples(test_samples, name='sts-test-ori')\n",
        "    SNLI_ori_evaluator(new_model, output_path=eval_SNLI_save_path)\n",
        "\n",
        "# define evaluator\n",
        "evaluator_SNLI = evaluation.EmbeddingSimilarityEvaluator.from_input_examples(dev_samples, name='sts-dev')"
      ]
    },
    {
      "cell_type": "code",
      "execution_count": null,
      "id": "25428e60",
      "metadata": {
        "id": "25428e60"
      },
      "outputs": [],
      "source": [
        "num_epochs = 4\n",
        "batch_size = 16\n",
        "train_loss = losses.CosineSimilarityLoss(model=SNLI_model)\n",
        "\n",
        "if not finetuned_SNLI_model:\n",
        "    SNLI_model.fit(train_objectives=[(train_dataloader_SNLI, train_loss)],\n",
        "            evaluator=evaluator_SNLI,\n",
        "            epochs=num_epochs,\n",
        "            evaluation_steps=1000,\n",
        "            warmup_steps=warmup_steps,\n",
        "            output_path=model_save_path_SNLI\n",
        "            )"
      ]
    },
    {
      "cell_type": "code",
      "execution_count": null,
      "id": "36162cc5",
      "metadata": {
        "id": "36162cc5"
      },
      "outputs": [],
      "source": [
        "if not finetuned_SNLI_model:\n",
        "    test_evaluator = evaluation.EmbeddingSimilarityEvaluator.from_input_examples(test_samples, name='sts-test')\n",
        "    test_evaluator(new_model, output_path=os.path.join(model_save_path_SNLI, 'eval'))"
      ]
    },
    {
      "cell_type": "code",
      "execution_count": null,
      "id": "f4c878fa",
      "metadata": {
        "id": "f4c878fa"
      },
      "outputs": [],
      "source": [
        "result_test_pre = pd.read_csv(eval_save_path+'/similarity_evaluation_sts-test_results.csv')\n",
        "result_dev = pd.read_csv(eval_SNLI_save_path+'/similarity_evaluation_sts-dev_results.csv')\n",
        "result_test = pd.read_csv(eval_SNLI_save_path+'/similarity_evaluation_sts-test_results.csv')"
      ]
    },
    {
      "cell_type": "markdown",
      "id": "bea8fbb8",
      "metadata": {
        "id": "bea8fbb8"
      },
      "source": [
        "### Ensemble Learning"
      ]
    },
    {
      "cell_type": "code",
      "source": [
        "ensemble_test_samples_a = []\n",
        "ensemble_test_samples_b = []\n",
        "ensemble_labels = []\n",
        "train_path = os.path.join(\"dataset/stsbenchmark/sts-test.csv\")\n",
        "\n",
        "with open(train_path, encoding='utf8') as fIn:\n",
        "    reader = csv.reader(fIn, delimiter='\\t', quoting=csv.QUOTE_NONE)\n",
        "    for row in reader:\n",
        "        score = float(row[4]) / 5.0  # Normalize score to range 0 ... 1\n",
        "        ensemble_test_samples_a.append(row[5])\n",
        "        ensemble_test_samples_b.append(row[6])\n",
        "        ensemble_labels.append(score)"
      ],
      "metadata": {
        "id": "cMytmUuVp9VO"
      },
      "id": "cMytmUuVp9VO",
      "execution_count": null,
      "outputs": []
    },
    {
      "cell_type": "code",
      "execution_count": null,
      "id": "dc2e9616",
      "metadata": {
        "id": "dc2e9616"
      },
      "outputs": [],
      "source": [
        "from sklearn.metrics.pairwise import paired_cosine_distances\n",
        "\n",
        "models = ['all-MiniLM-L6-v2', 'all-mpnet-base-v2', 'all-roberta-large-v1', 'msmarco-distilbert-base-v4']\n",
        "\n",
        "embedding1 = []\n",
        "embedding2 = []\n",
        "for single_model in models:\n",
        "    ensemble_model = SentenceTransformer(\"output/\"+single_model+\"_combined\")\n",
        "    ensemble_result_a = ensemble_model.encode(ensemble_test_samples_a)\n",
        "    embedding1.append(ensemble_result_a)\n",
        "    ensemble_result_b = ensemble_model.encode(ensemble_test_samples_b)\n",
        "    embedding2.append(ensemble_result_b)"
      ]
    },
    {
      "cell_type": "code",
      "source": [
        "print(embedding1[0].shape)\n",
        "print(embedding2[0].shape)"
      ],
      "metadata": {
        "colab": {
          "base_uri": "https://localhost:8080/"
        },
        "id": "0BAb_ZW0qLZ1",
        "outputId": "7bbba685-08a9-41a0-81e1-ca52940a6ff9"
      },
      "id": "0BAb_ZW0qLZ1",
      "execution_count": null,
      "outputs": [
        {
          "output_type": "stream",
          "name": "stdout",
          "text": [
            "(1379, 384)\n",
            "(1379, 384)\n"
          ]
        }
      ]
    },
    {
      "cell_type": "code",
      "source": [
        "# Calculate the cosine similarity for all different models\n",
        "import numpy as np\n",
        "\n",
        "sim_score = []\n",
        "for idx in range(len(models)):\n",
        "    cosine_scores = 1 - (paired_cosine_distances(embedding1[idx], embedding2[idx]))\n",
        "    sim_score.append(cosine_scores)\n",
        "\n",
        "# As ensemble learning to compute the mean value of all models prediction\n",
        "ensemble_scores = np.mean(np.array(sim_score), axis=0)"
      ],
      "metadata": {
        "id": "zSeh5C8ZqMJs"
      },
      "id": "zSeh5C8ZqMJs",
      "execution_count": null,
      "outputs": []
    },
    {
      "cell_type": "code",
      "execution_count": null,
      "id": "7bd484e5",
      "metadata": {
        "id": "7bd484e5"
      },
      "outputs": [],
      "source": [
        "ensemble_labels = np.array(ensemble_labels)"
      ]
    },
    {
      "cell_type": "code",
      "execution_count": null,
      "id": "400c199d",
      "metadata": {
        "colab": {
          "base_uri": "https://localhost:8080/"
        },
        "id": "400c199d",
        "outputId": "f8173702-c6cd-410f-c55d-993ac6bf112d"
      },
      "outputs": [
        {
          "output_type": "execute_result",
          "data": {
            "text/plain": [
              "array([0.7300843 , 0.8649848 , 0.9597475 , ..., 0.35167527, 0.00933088,\n",
              "       0.18726774], dtype=float32)"
            ]
          },
          "metadata": {},
          "execution_count": 39
        }
      ],
      "source": [
        "ensemble_scores"
      ]
    },
    {
      "cell_type": "markdown",
      "id": "88aa3509",
      "metadata": {
        "id": "88aa3509"
      },
      "source": [
        "## Prediction results\n",
        "First we will upload the test set in order to be able to apply the different models trained previously. We will view predictions of the 3 models realised previously on the train:\n",
        "1. Unsupervised models\n",
        "2. Supervised model\n",
        "3. Deep Learning models"
      ]
    },
    {
      "cell_type": "markdown",
      "id": "d69c8d75",
      "metadata": {
        "id": "d69c8d75"
      },
      "source": [
        "## Unsupervised Models on Test"
      ]
    },
    {
      "cell_type": "markdown",
      "id": "0f0c6831",
      "metadata": {
        "id": "0f0c6831"
      },
      "source": [
        "The prediction of score between pair of sentences can be applied by using the difefrent models previoulsy trained. Therefore, TF-IDF, FastText, and Word2Vec are used. It is important to remeber that before doing predictions, the test set has to be preprocessed following the same path of the train set. The preprocessing performed on test set is the following one:"
      ]
    },
    {
      "cell_type": "markdown",
      "source": [
        "To compute the predicted score on pair of sentences the features_tfidf function can be used. Then the respective cosine similarity obtained is multiply by 5, and it represents the final prediction similarity score between sentences."
      ],
      "metadata": {
        "id": "wxiguogy_rP_"
      },
      "id": "wxiguogy_rP_"
    },
    {
      "cell_type": "code",
      "source": [
        "tfidf_test= np.array(features_tfidf_cos_test)\n",
        "scores_tfidf= tfidf_test*5"
      ],
      "metadata": {
        "id": "BDm1ye0C_1Ha"
      },
      "id": "BDm1ye0C_1Ha",
      "execution_count": null,
      "outputs": []
    },
    {
      "cell_type": "markdown",
      "source": [
        "A table can be computed with correspondent sentences belonging to same samples, actual score and predicted score."
      ],
      "metadata": {
        "id": "CztxTKeXAFLp"
      },
      "id": "CztxTKeXAFLp"
    },
    {
      "cell_type": "code",
      "source": [
        "table_data = {\n",
        "    \"score\": data_test[\"Score\"].values[:1379],  # Replace \"n\" with the desired number of rows\n",
        "    \"predicted_score\": scores_tfidf,  # Replace \"predicted_scores\" with the actual variable name\n",
        "    \"sentence1\": data_test[\"Sentence 1\"].values[:1379],\n",
        "    \"sentence2\": data_test[\"Sentence 2\"].values[:1379]\n",
        "}\n",
        "\n",
        "# Create the table DataFrame\n",
        "table = pd.DataFrame(table_data)\n",
        "\n",
        "#Print the table\n",
        "#print(table)"
      ],
      "metadata": {
        "id": "itbffS16ALEE"
      },
      "id": "itbffS16ALEE",
      "execution_count": null,
      "outputs": []
    },
    {
      "cell_type": "code",
      "source": [
        "from scipy.stats import pearsonr, spearmanr"
      ],
      "metadata": {
        "id": "J1cjf1PLDt-K"
      },
      "id": "J1cjf1PLDt-K",
      "execution_count": null,
      "outputs": []
    },
    {
      "cell_type": "code",
      "source": [
        "eval_pearson_cosine, _ = pearsonr(scores_test, scores_tfidf)\n",
        "eval_spearman_cosine, _ = spearmanr(scores_test, scores_tfidf)\n",
        "\n",
        "print(eval_pearson_cosine)\n",
        "print(eval_spearman_cosine)"
      ],
      "metadata": {
        "colab": {
          "base_uri": "https://localhost:8080/"
        },
        "id": "fwlF2dmSAO5u",
        "outputId": "97b387c8-3563-424c-f309-05b78e2fd890"
      },
      "id": "fwlF2dmSAO5u",
      "execution_count": null,
      "outputs": [
        {
          "output_type": "stream",
          "name": "stdout",
          "text": [
            "0.6725647529324491\n",
            "0.6557710607601152\n"
          ]
        }
      ]
    },
    {
      "cell_type": "markdown",
      "source": [
        "The same process can be performed to predict the semantic similarity scores of sentences by using the FastText model."
      ],
      "metadata": {
        "id": "9UnzJkWKAS0d"
      },
      "id": "9UnzJkWKAS0d"
    },
    {
      "cell_type": "code",
      "source": [
        "feature_FT_cos_test = [[1 - distance.cosine(np.mean(model_ft.wv[sentences_prep1_test[i]],axis = 0),np.mean(model_ft.wv[sentences_prep2_test[i]], axis = 0))] for i in range(len(sentences_prep1_test))]\n",
        "FT_vec= np.array(feature_FT_cos_test)\n",
        "scores_ft=FT_vec*5\n",
        "scores_ft"
      ],
      "metadata": {
        "colab": {
          "base_uri": "https://localhost:8080/"
        },
        "id": "Eu5RhGODAQwH",
        "outputId": "7bf1dac4-7418-4d6d-857b-d1b7f2e8f39d"
      },
      "id": "Eu5RhGODAQwH",
      "execution_count": null,
      "outputs": [
        {
          "output_type": "execute_result",
          "data": {
            "text/plain": [
              "array([[4.98593509],\n",
              "       [4.98507261],\n",
              "       [4.99839336],\n",
              "       ...,\n",
              "       [4.98096764],\n",
              "       [4.93468523],\n",
              "       [4.89802659]])"
            ]
          },
          "metadata": {},
          "execution_count": 78
        }
      ]
    },
    {
      "cell_type": "markdown",
      "source": [
        "As it can be seen pearson correlation is really low. The fasttext model is not appropriate for this kind of task, because it gives high prediction score results for each pair of sentence."
      ],
      "metadata": {
        "id": "44CkewRdAW0Q"
      },
      "id": "44CkewRdAW0Q"
    },
    {
      "cell_type": "code",
      "source": [
        "eval_pearson_cosine, _ = pearsonr(scores_test, scores_ft.flatten())\n",
        "eval_spearman_cosine, _ = spearmanr(scores_test, scores_ft.flatten())\n",
        "\n",
        "print(eval_pearson_cosine)\n",
        "print(eval_spearman_cosine)"
      ],
      "metadata": {
        "colab": {
          "base_uri": "https://localhost:8080/"
        },
        "id": "dVVcOOiSAYJz",
        "outputId": "d2fa45a9-abb0-43fd-ea1d-36fdcf8ebc53"
      },
      "id": "dVVcOOiSAYJz",
      "execution_count": null,
      "outputs": [
        {
          "output_type": "stream",
          "name": "stdout",
          "text": [
            "0.3047992382943182\n",
            "0.3926011588621207\n"
          ]
        }
      ]
    },
    {
      "cell_type": "markdown",
      "id": "49c5ff43",
      "metadata": {
        "id": "49c5ff43"
      },
      "source": [
        "## Supervised model"
      ]
    },
    {
      "cell_type": "markdown",
      "source": [
        "\n",
        "The same process can be applied to the SVR model. The devlopment set was used to tune the hyperparameters. While, test set is used to see the actual performance of the model chosen."
      ],
      "metadata": {
        "id": "G71ZI9hvAlyg"
      },
      "id": "G71ZI9hvAlyg"
    },
    {
      "cell_type": "code",
      "source": [
        "X_test= [[features_tfidf_cos_test[i],s2vsim_features_test[i],feature_FT_wmdistance_test[i]] for i in range(len(feature_FT_wmdistance_test))]\n",
        "y_test=scores_test\n",
        "np.shape(X_test)"
      ],
      "metadata": {
        "colab": {
          "base_uri": "https://localhost:8080/"
        },
        "id": "cI86NaDdAkhX",
        "outputId": "3ad4451a-b0f7-43cb-805f-ad5620e29b17"
      },
      "id": "cI86NaDdAkhX",
      "execution_count": null,
      "outputs": [
        {
          "output_type": "execute_result",
          "data": {
            "text/plain": [
              "(1379, 3)"
            ]
          },
          "metadata": {},
          "execution_count": 83
        }
      ]
    },
    {
      "cell_type": "code",
      "source": [
        "scores_SVR= best_model.predict(X_test)\n",
        "scores_SVR"
      ],
      "metadata": {
        "colab": {
          "base_uri": "https://localhost:8080/"
        },
        "id": "SV2jz9VjApG5",
        "outputId": "dd2dc742-03f6-4982-b0c7-e4f63ab0b98e"
      },
      "id": "SV2jz9VjApG5",
      "execution_count": null,
      "outputs": [
        {
          "output_type": "execute_result",
          "data": {
            "text/plain": [
              "array([2.93121205, 4.06145546, 4.20583536, ..., 2.35146873, 0.13827224,\n",
              "       1.42954499])"
            ]
          },
          "metadata": {},
          "execution_count": 84
        }
      ]
    },
    {
      "cell_type": "code",
      "source": [
        "table_data = {\n",
        "    \"score\": data_test[\"Score\"].values[:1379],  # Replace \"n\" with the desired number of rows\n",
        "    \"predicted_score\": scores_SVR,  # Replace \"predicted_scores\" with the actual variable name\n",
        "    \"sentence1\": data_test[\"Sentence 1\"].values[:1379],\n",
        "    \"sentence2\": data_test[\"Sentence 2\"].values[:1379]\n",
        "}\n",
        "\n",
        "# Create the table DataFrame\n",
        "table = pd.DataFrame(table_data)\n",
        "\n",
        "#Print the table\n",
        "print(table)"
      ],
      "metadata": {
        "colab": {
          "base_uri": "https://localhost:8080/"
        },
        "id": "vl_6Ph_WArEJ",
        "outputId": "437d94e8-73e7-4159-abbd-8c97258e3d4f"
      },
      "id": "vl_6Ph_WArEJ",
      "execution_count": null,
      "outputs": [
        {
          "output_type": "stream",
          "name": "stdout",
          "text": [
            "      score  predicted_score  \\\n",
            "0       2.5         2.931212   \n",
            "1       3.6         4.061455   \n",
            "2       5.0         4.205835   \n",
            "3       4.2         3.738687   \n",
            "4       1.5         2.038965   \n",
            "...     ...              ...   \n",
            "1374    0.0         1.456182   \n",
            "1375    1.0         1.867639   \n",
            "1376    1.0         2.351469   \n",
            "1377    0.0         0.138272   \n",
            "1378    0.0         1.429545   \n",
            "\n",
            "                                              sentence1  \\\n",
            "0                           A girl is styling her hair.   \n",
            "1              A group of men play soccer on the beach.   \n",
            "2         One woman is measuring another woman's ankle.   \n",
            "3                       A man is cutting up a cucumber.   \n",
            "4                              A man is playing a harp.   \n",
            "...                                                 ...   \n",
            "1374  Philippines, Canada pledge to further boost re...   \n",
            "1375  Israel bars Palestinians from Jerusalem's Old ...   \n",
            "1376         How much do you know about Secret Service?   \n",
            "1377  Obama Struggles to Soothe Saudi Fears As Iran ...   \n",
            "1378          South Korea declares end to MERS outbreak   \n",
            "\n",
            "                                              sentence2  \n",
            "0                          A girl is brushing her hair.  \n",
            "1      A group of boys are playing soccer on the beach.  \n",
            "2               A woman measures another woman's ankle.  \n",
            "3                          A man is slicing a cucumber.  \n",
            "4                          A man is playing a keyboard.  \n",
            "...                                                 ...  \n",
            "1374            Philippines saves 100 after ferry sinks  \n",
            "1375  Two-state solution between Palestinians, Israe...  \n",
            "1376  Lawmakers from both sides express outrage at S...  \n",
            "1377  Myanmar Struggles to Finalize Voter Lists for ...  \n",
            "1378  North Korea Delegation Meets With South Korean...  \n",
            "\n",
            "[1379 rows x 4 columns]\n"
          ]
        }
      ]
    },
    {
      "cell_type": "code",
      "source": [
        "eval_pearson_cosine, _ = pearsonr(scores_test, scores_SVR)\n",
        "eval_spearman_cosine, _ = spearmanr(scores_test, scores_SVR)\n",
        "\n",
        "print(eval_pearson_cosine)\n",
        "print(eval_spearman_cosine)"
      ],
      "metadata": {
        "colab": {
          "base_uri": "https://localhost:8080/"
        },
        "id": "7JP3oqRpAtLt",
        "outputId": "f4c62a40-03ad-4100-b0d7-055790644d9b"
      },
      "id": "7JP3oqRpAtLt",
      "execution_count": null,
      "outputs": [
        {
          "output_type": "stream",
          "name": "stdout",
          "text": [
            "0.6776128461065781\n",
            "0.6654497739867118\n"
          ]
        }
      ]
    },
    {
      "cell_type": "markdown",
      "id": "45381b12",
      "metadata": {
        "id": "45381b12"
      },
      "source": [
        "## Transformer-based model prediction on test"
      ]
    },
    {
      "cell_type": "code",
      "execution_count": null,
      "id": "a50ec1eb",
      "metadata": {
        "id": "a50ec1eb"
      },
      "outputs": [],
      "source": [
        "models = ['all-MiniLM-L6-v2', 'all-mpnet-base-v2', 'all-roberta-large-v1', 'msmarco-distilbert-base-v4']"
      ]
    },
    {
      "cell_type": "code",
      "execution_count": null,
      "id": "75038b78",
      "metadata": {
        "id": "75038b78"
      },
      "outputs": [],
      "source": [
        "evaluation = []\n",
        "for single_model_name in models:\n",
        "    result_test_ori = pd.read_csv('output/'+single_model_name+'/eval'+'/similarity_evaluation_sts-test-ori_results.csv')\n",
        "    result_test = pd.read_csv('output/'+single_model_name+'/eval'+'/similarity_evaluation_sts-test_results.csv')\n",
        "    result_test_combined = pd.read_csv('output/'+single_model_name+'_combined/eval'+'/similarity_evaluation_sts-test_results.csv')\n",
        "    evaluation.append([result_test_ori['cosine_pearson'].values[0], result_test['cosine_pearson'].values[0], result_test_combined['cosine_pearson'].values[0]])"
      ]
    },
    {
      "cell_type": "code",
      "execution_count": null,
      "id": "1ef805e3",
      "metadata": {
        "colab": {
          "base_uri": "https://localhost:8080/",
          "height": 175
        },
        "id": "1ef805e3",
        "outputId": "06cc3f01-d2ba-4084-cb1d-9ac1c865d04b"
      },
      "outputs": [
        {
          "output_type": "execute_result",
          "data": {
            "text/plain": [
              "                            original  finetuned  extension\n",
              "all-MiniLM-L6-v2            0.827406   0.859695   0.858844\n",
              "all-mpnet-base-v2           0.840400   0.877353   0.879127\n",
              "all-roberta-large-v1        0.841868   0.883874   0.887645\n",
              "msmarco-distilbert-base-v4  0.795048   0.856981   0.849270"
            ],
            "text/html": [
              "\n",
              "  <div id=\"df-7c919bd0-e171-446f-98c6-c0161f70a58c\">\n",
              "    <div class=\"colab-df-container\">\n",
              "      <div>\n",
              "<style scoped>\n",
              "    .dataframe tbody tr th:only-of-type {\n",
              "        vertical-align: middle;\n",
              "    }\n",
              "\n",
              "    .dataframe tbody tr th {\n",
              "        vertical-align: top;\n",
              "    }\n",
              "\n",
              "    .dataframe thead th {\n",
              "        text-align: right;\n",
              "    }\n",
              "</style>\n",
              "<table border=\"1\" class=\"dataframe\">\n",
              "  <thead>\n",
              "    <tr style=\"text-align: right;\">\n",
              "      <th></th>\n",
              "      <th>original</th>\n",
              "      <th>finetuned</th>\n",
              "      <th>extension</th>\n",
              "    </tr>\n",
              "  </thead>\n",
              "  <tbody>\n",
              "    <tr>\n",
              "      <th>all-MiniLM-L6-v2</th>\n",
              "      <td>0.827406</td>\n",
              "      <td>0.859695</td>\n",
              "      <td>0.858844</td>\n",
              "    </tr>\n",
              "    <tr>\n",
              "      <th>all-mpnet-base-v2</th>\n",
              "      <td>0.840400</td>\n",
              "      <td>0.877353</td>\n",
              "      <td>0.879127</td>\n",
              "    </tr>\n",
              "    <tr>\n",
              "      <th>all-roberta-large-v1</th>\n",
              "      <td>0.841868</td>\n",
              "      <td>0.883874</td>\n",
              "      <td>0.887645</td>\n",
              "    </tr>\n",
              "    <tr>\n",
              "      <th>msmarco-distilbert-base-v4</th>\n",
              "      <td>0.795048</td>\n",
              "      <td>0.856981</td>\n",
              "      <td>0.849270</td>\n",
              "    </tr>\n",
              "  </tbody>\n",
              "</table>\n",
              "</div>\n",
              "      <button class=\"colab-df-convert\" onclick=\"convertToInteractive('df-7c919bd0-e171-446f-98c6-c0161f70a58c')\"\n",
              "              title=\"Convert this dataframe to an interactive table.\"\n",
              "              style=\"display:none;\">\n",
              "        \n",
              "  <svg xmlns=\"http://www.w3.org/2000/svg\" height=\"24px\"viewBox=\"0 0 24 24\"\n",
              "       width=\"24px\">\n",
              "    <path d=\"M0 0h24v24H0V0z\" fill=\"none\"/>\n",
              "    <path d=\"M18.56 5.44l.94 2.06.94-2.06 2.06-.94-2.06-.94-.94-2.06-.94 2.06-2.06.94zm-11 1L8.5 8.5l.94-2.06 2.06-.94-2.06-.94L8.5 2.5l-.94 2.06-2.06.94zm10 10l.94 2.06.94-2.06 2.06-.94-2.06-.94-.94-2.06-.94 2.06-2.06.94z\"/><path d=\"M17.41 7.96l-1.37-1.37c-.4-.4-.92-.59-1.43-.59-.52 0-1.04.2-1.43.59L10.3 9.45l-7.72 7.72c-.78.78-.78 2.05 0 2.83L4 21.41c.39.39.9.59 1.41.59.51 0 1.02-.2 1.41-.59l7.78-7.78 2.81-2.81c.8-.78.8-2.07 0-2.86zM5.41 20L4 18.59l7.72-7.72 1.47 1.35L5.41 20z\"/>\n",
              "  </svg>\n",
              "      </button>\n",
              "      \n",
              "  <style>\n",
              "    .colab-df-container {\n",
              "      display:flex;\n",
              "      flex-wrap:wrap;\n",
              "      gap: 12px;\n",
              "    }\n",
              "\n",
              "    .colab-df-convert {\n",
              "      background-color: #E8F0FE;\n",
              "      border: none;\n",
              "      border-radius: 50%;\n",
              "      cursor: pointer;\n",
              "      display: none;\n",
              "      fill: #1967D2;\n",
              "      height: 32px;\n",
              "      padding: 0 0 0 0;\n",
              "      width: 32px;\n",
              "    }\n",
              "\n",
              "    .colab-df-convert:hover {\n",
              "      background-color: #E2EBFA;\n",
              "      box-shadow: 0px 1px 2px rgba(60, 64, 67, 0.3), 0px 1px 3px 1px rgba(60, 64, 67, 0.15);\n",
              "      fill: #174EA6;\n",
              "    }\n",
              "\n",
              "    [theme=dark] .colab-df-convert {\n",
              "      background-color: #3B4455;\n",
              "      fill: #D2E3FC;\n",
              "    }\n",
              "\n",
              "    [theme=dark] .colab-df-convert:hover {\n",
              "      background-color: #434B5C;\n",
              "      box-shadow: 0px 1px 3px 1px rgba(0, 0, 0, 0.15);\n",
              "      filter: drop-shadow(0px 1px 2px rgba(0, 0, 0, 0.3));\n",
              "      fill: #FFFFFF;\n",
              "    }\n",
              "  </style>\n",
              "\n",
              "      <script>\n",
              "        const buttonEl =\n",
              "          document.querySelector('#df-7c919bd0-e171-446f-98c6-c0161f70a58c button.colab-df-convert');\n",
              "        buttonEl.style.display =\n",
              "          google.colab.kernel.accessAllowed ? 'block' : 'none';\n",
              "\n",
              "        async function convertToInteractive(key) {\n",
              "          const element = document.querySelector('#df-7c919bd0-e171-446f-98c6-c0161f70a58c');\n",
              "          const dataTable =\n",
              "            await google.colab.kernel.invokeFunction('convertToInteractive',\n",
              "                                                     [key], {});\n",
              "          if (!dataTable) return;\n",
              "\n",
              "          const docLinkHtml = 'Like what you see? Visit the ' +\n",
              "            '<a target=\"_blank\" href=https://colab.research.google.com/notebooks/data_table.ipynb>data table notebook</a>'\n",
              "            + ' to learn more about interactive tables.';\n",
              "          element.innerHTML = '';\n",
              "          dataTable['output_type'] = 'display_data';\n",
              "          await google.colab.output.renderOutput(dataTable, element);\n",
              "          const docLink = document.createElement('div');\n",
              "          docLink.innerHTML = docLinkHtml;\n",
              "          element.appendChild(docLink);\n",
              "        }\n",
              "      </script>\n",
              "    </div>\n",
              "  </div>\n",
              "  "
            ]
          },
          "metadata": {},
          "execution_count": 42
        }
      ],
      "source": [
        "# Cosine similarity + pearson correlation\n",
        "pd.DataFrame(evaluation, columns=['original', 'finetuned', 'extension'], index=models)"
      ]
    },
    {
      "cell_type": "markdown",
      "id": "dc4f4d6c",
      "metadata": {
        "id": "dc4f4d6c"
      },
      "source": [
        "**Ensemble learning result**"
      ]
    },
    {
      "cell_type": "code",
      "execution_count": null,
      "id": "089907f6",
      "metadata": {
        "colab": {
          "base_uri": "https://localhost:8080/"
        },
        "id": "089907f6",
        "outputId": "64659133-ebda-4ede-bfb5-757f12ead540"
      },
      "outputs": [
        {
          "output_type": "stream",
          "name": "stdout",
          "text": [
            "[0.7300843  0.8649848  0.9597475  ... 0.35167527 0.00933088 0.18726774]\n",
            "[0.5  0.72 1.   ... 0.2  0.   0.  ]\n"
          ]
        }
      ],
      "source": [
        "print(ensemble_scores)\n",
        "print(ensemble_labels)"
      ]
    },
    {
      "cell_type": "code",
      "execution_count": null,
      "id": "a3d0c09b",
      "metadata": {
        "colab": {
          "base_uri": "https://localhost:8080/"
        },
        "id": "a3d0c09b",
        "outputId": "96fa4dfe-2061-4755-a6c1-006c11963640"
      },
      "outputs": [
        {
          "output_type": "execute_result",
          "data": {
            "text/plain": [
              "PearsonRResult(statistic=0.8885819853672617, pvalue=0.0)"
            ]
          },
          "metadata": {},
          "execution_count": 44
        }
      ],
      "source": [
        "from scipy.stats import pearsonr\n",
        "\n",
        "#calculate the pearson correlation of the final ensemble models\n",
        "final_cosine_pearson = pearsonr(ensemble_labels, ensemble_scores)\n",
        "final_cosine_pearson"
      ]
    },
    {
      "cell_type": "markdown",
      "source": [
        "## Conclusion"
      ],
      "metadata": {
        "id": "Rl4dtaj8AzSC"
      },
      "id": "Rl4dtaj8AzSC"
    },
    {
      "cell_type": "markdown",
      "source": [
        "In conclusion, after trying several unsupervised models and the SVR supervised model it has been seen that the best ones for semantic text similarity proved to be TF-IDF and SVR using the previously mentioned parameters. Of course, transformers as complex neural network have been proven to be the best one."
      ],
      "metadata": {
        "id": "cmTMHqmlA4D-"
      },
      "id": "cmTMHqmlA4D-"
    }
  ],
  "metadata": {
    "kernelspec": {
      "display_name": "Python 3",
      "name": "python3"
    },
    "language_info": {
      "codemirror_mode": {
        "name": "ipython",
        "version": 3
      },
      "file_extension": ".py",
      "mimetype": "text/x-python",
      "name": "python",
      "nbconvert_exporter": "python",
      "pygments_lexer": "ipython3",
      "version": "3.9.12"
    },
    "colab": {
      "provenance": [],
      "collapsed_sections": [
        "b17283a3"
      ],
      "gpuType": "T4"
    },
    "accelerator": "GPU",
    "widgets": {
      "application/vnd.jupyter.widget-state+json": {
        "state": {},
        "29b08b98bf24401f99ff92ca6417c15e": {
          "model_module": "@jupyter-widgets/controls",
          "model_name": "HBoxModel",
          "model_module_version": "1.5.0",
          "state": {
            "_dom_classes": [],
            "_model_module": "@jupyter-widgets/controls",
            "_model_module_version": "1.5.0",
            "_model_name": "HBoxModel",
            "_view_count": null,
            "_view_module": "@jupyter-widgets/controls",
            "_view_module_version": "1.5.0",
            "_view_name": "HBoxView",
            "box_style": "",
            "children": [
              "IPY_MODEL_b81197b58fa44ad1ae41c2ee24b44b98",
              "IPY_MODEL_0755264e31874fa3a524b2698b32d31b",
              "IPY_MODEL_5d0a7557f9ea456abc3abf28c188813a"
            ],
            "layout": "IPY_MODEL_3cb7f2141c40476dbfd33603dd997137"
          }
        },
        "b81197b58fa44ad1ae41c2ee24b44b98": {
          "model_module": "@jupyter-widgets/controls",
          "model_name": "HTMLModel",
          "model_module_version": "1.5.0",
          "state": {
            "_dom_classes": [],
            "_model_module": "@jupyter-widgets/controls",
            "_model_module_version": "1.5.0",
            "_model_name": "HTMLModel",
            "_view_count": null,
            "_view_module": "@jupyter-widgets/controls",
            "_view_module_version": "1.5.0",
            "_view_name": "HTMLView",
            "description": "",
            "description_tooltip": null,
            "layout": "IPY_MODEL_019d87a64cdc4f5a95f7a4a0f0af56a0",
            "placeholder": "​",
            "style": "IPY_MODEL_efff5f0c567244278abe24eea92680aa",
            "value": "Downloading (…)solve/main/vocab.txt: 100%"
          }
        },
        "0755264e31874fa3a524b2698b32d31b": {
          "model_module": "@jupyter-widgets/controls",
          "model_name": "FloatProgressModel",
          "model_module_version": "1.5.0",
          "state": {
            "_dom_classes": [],
            "_model_module": "@jupyter-widgets/controls",
            "_model_module_version": "1.5.0",
            "_model_name": "FloatProgressModel",
            "_view_count": null,
            "_view_module": "@jupyter-widgets/controls",
            "_view_module_version": "1.5.0",
            "_view_name": "ProgressView",
            "bar_style": "success",
            "description": "",
            "description_tooltip": null,
            "layout": "IPY_MODEL_c177b4d561784ee9ba3ed76410644843",
            "max": 231508,
            "min": 0,
            "orientation": "horizontal",
            "style": "IPY_MODEL_dc2e422e83624e55bba2bf44ff5c8b10",
            "value": 231508
          }
        },
        "5d0a7557f9ea456abc3abf28c188813a": {
          "model_module": "@jupyter-widgets/controls",
          "model_name": "HTMLModel",
          "model_module_version": "1.5.0",
          "state": {
            "_dom_classes": [],
            "_model_module": "@jupyter-widgets/controls",
            "_model_module_version": "1.5.0",
            "_model_name": "HTMLModel",
            "_view_count": null,
            "_view_module": "@jupyter-widgets/controls",
            "_view_module_version": "1.5.0",
            "_view_name": "HTMLView",
            "description": "",
            "description_tooltip": null,
            "layout": "IPY_MODEL_9b6cceaf329f49f4b45cf69b3116db87",
            "placeholder": "​",
            "style": "IPY_MODEL_34ec4a320f0f4abc9e18dfcf7daba590",
            "value": " 232k/232k [00:00&lt;00:00, 597kB/s]"
          }
        },
        "3cb7f2141c40476dbfd33603dd997137": {
          "model_module": "@jupyter-widgets/base",
          "model_name": "LayoutModel",
          "model_module_version": "1.2.0",
          "state": {
            "_model_module": "@jupyter-widgets/base",
            "_model_module_version": "1.2.0",
            "_model_name": "LayoutModel",
            "_view_count": null,
            "_view_module": "@jupyter-widgets/base",
            "_view_module_version": "1.2.0",
            "_view_name": "LayoutView",
            "align_content": null,
            "align_items": null,
            "align_self": null,
            "border": null,
            "bottom": null,
            "display": null,
            "flex": null,
            "flex_flow": null,
            "grid_area": null,
            "grid_auto_columns": null,
            "grid_auto_flow": null,
            "grid_auto_rows": null,
            "grid_column": null,
            "grid_gap": null,
            "grid_row": null,
            "grid_template_areas": null,
            "grid_template_columns": null,
            "grid_template_rows": null,
            "height": null,
            "justify_content": null,
            "justify_items": null,
            "left": null,
            "margin": null,
            "max_height": null,
            "max_width": null,
            "min_height": null,
            "min_width": null,
            "object_fit": null,
            "object_position": null,
            "order": null,
            "overflow": null,
            "overflow_x": null,
            "overflow_y": null,
            "padding": null,
            "right": null,
            "top": null,
            "visibility": null,
            "width": null
          }
        },
        "019d87a64cdc4f5a95f7a4a0f0af56a0": {
          "model_module": "@jupyter-widgets/base",
          "model_name": "LayoutModel",
          "model_module_version": "1.2.0",
          "state": {
            "_model_module": "@jupyter-widgets/base",
            "_model_module_version": "1.2.0",
            "_model_name": "LayoutModel",
            "_view_count": null,
            "_view_module": "@jupyter-widgets/base",
            "_view_module_version": "1.2.0",
            "_view_name": "LayoutView",
            "align_content": null,
            "align_items": null,
            "align_self": null,
            "border": null,
            "bottom": null,
            "display": null,
            "flex": null,
            "flex_flow": null,
            "grid_area": null,
            "grid_auto_columns": null,
            "grid_auto_flow": null,
            "grid_auto_rows": null,
            "grid_column": null,
            "grid_gap": null,
            "grid_row": null,
            "grid_template_areas": null,
            "grid_template_columns": null,
            "grid_template_rows": null,
            "height": null,
            "justify_content": null,
            "justify_items": null,
            "left": null,
            "margin": null,
            "max_height": null,
            "max_width": null,
            "min_height": null,
            "min_width": null,
            "object_fit": null,
            "object_position": null,
            "order": null,
            "overflow": null,
            "overflow_x": null,
            "overflow_y": null,
            "padding": null,
            "right": null,
            "top": null,
            "visibility": null,
            "width": null
          }
        },
        "efff5f0c567244278abe24eea92680aa": {
          "model_module": "@jupyter-widgets/controls",
          "model_name": "DescriptionStyleModel",
          "model_module_version": "1.5.0",
          "state": {
            "_model_module": "@jupyter-widgets/controls",
            "_model_module_version": "1.5.0",
            "_model_name": "DescriptionStyleModel",
            "_view_count": null,
            "_view_module": "@jupyter-widgets/base",
            "_view_module_version": "1.2.0",
            "_view_name": "StyleView",
            "description_width": ""
          }
        },
        "c177b4d561784ee9ba3ed76410644843": {
          "model_module": "@jupyter-widgets/base",
          "model_name": "LayoutModel",
          "model_module_version": "1.2.0",
          "state": {
            "_model_module": "@jupyter-widgets/base",
            "_model_module_version": "1.2.0",
            "_model_name": "LayoutModel",
            "_view_count": null,
            "_view_module": "@jupyter-widgets/base",
            "_view_module_version": "1.2.0",
            "_view_name": "LayoutView",
            "align_content": null,
            "align_items": null,
            "align_self": null,
            "border": null,
            "bottom": null,
            "display": null,
            "flex": null,
            "flex_flow": null,
            "grid_area": null,
            "grid_auto_columns": null,
            "grid_auto_flow": null,
            "grid_auto_rows": null,
            "grid_column": null,
            "grid_gap": null,
            "grid_row": null,
            "grid_template_areas": null,
            "grid_template_columns": null,
            "grid_template_rows": null,
            "height": null,
            "justify_content": null,
            "justify_items": null,
            "left": null,
            "margin": null,
            "max_height": null,
            "max_width": null,
            "min_height": null,
            "min_width": null,
            "object_fit": null,
            "object_position": null,
            "order": null,
            "overflow": null,
            "overflow_x": null,
            "overflow_y": null,
            "padding": null,
            "right": null,
            "top": null,
            "visibility": null,
            "width": null
          }
        },
        "dc2e422e83624e55bba2bf44ff5c8b10": {
          "model_module": "@jupyter-widgets/controls",
          "model_name": "ProgressStyleModel",
          "model_module_version": "1.5.0",
          "state": {
            "_model_module": "@jupyter-widgets/controls",
            "_model_module_version": "1.5.0",
            "_model_name": "ProgressStyleModel",
            "_view_count": null,
            "_view_module": "@jupyter-widgets/base",
            "_view_module_version": "1.2.0",
            "_view_name": "StyleView",
            "bar_color": null,
            "description_width": ""
          }
        },
        "9b6cceaf329f49f4b45cf69b3116db87": {
          "model_module": "@jupyter-widgets/base",
          "model_name": "LayoutModel",
          "model_module_version": "1.2.0",
          "state": {
            "_model_module": "@jupyter-widgets/base",
            "_model_module_version": "1.2.0",
            "_model_name": "LayoutModel",
            "_view_count": null,
            "_view_module": "@jupyter-widgets/base",
            "_view_module_version": "1.2.0",
            "_view_name": "LayoutView",
            "align_content": null,
            "align_items": null,
            "align_self": null,
            "border": null,
            "bottom": null,
            "display": null,
            "flex": null,
            "flex_flow": null,
            "grid_area": null,
            "grid_auto_columns": null,
            "grid_auto_flow": null,
            "grid_auto_rows": null,
            "grid_column": null,
            "grid_gap": null,
            "grid_row": null,
            "grid_template_areas": null,
            "grid_template_columns": null,
            "grid_template_rows": null,
            "height": null,
            "justify_content": null,
            "justify_items": null,
            "left": null,
            "margin": null,
            "max_height": null,
            "max_width": null,
            "min_height": null,
            "min_width": null,
            "object_fit": null,
            "object_position": null,
            "order": null,
            "overflow": null,
            "overflow_x": null,
            "overflow_y": null,
            "padding": null,
            "right": null,
            "top": null,
            "visibility": null,
            "width": null
          }
        },
        "34ec4a320f0f4abc9e18dfcf7daba590": {
          "model_module": "@jupyter-widgets/controls",
          "model_name": "DescriptionStyleModel",
          "model_module_version": "1.5.0",
          "state": {
            "_model_module": "@jupyter-widgets/controls",
            "_model_module_version": "1.5.0",
            "_model_name": "DescriptionStyleModel",
            "_view_count": null,
            "_view_module": "@jupyter-widgets/base",
            "_view_module_version": "1.2.0",
            "_view_name": "StyleView",
            "description_width": ""
          }
        },
        "a9db5606e12041a3a1f7bb6d5e52eaaf": {
          "model_module": "@jupyter-widgets/controls",
          "model_name": "HBoxModel",
          "model_module_version": "1.5.0",
          "state": {
            "_dom_classes": [],
            "_model_module": "@jupyter-widgets/controls",
            "_model_module_version": "1.5.0",
            "_model_name": "HBoxModel",
            "_view_count": null,
            "_view_module": "@jupyter-widgets/controls",
            "_view_module_version": "1.5.0",
            "_view_name": "HBoxView",
            "box_style": "",
            "children": [
              "IPY_MODEL_7e8bcf6082a94bec89385754203201c1",
              "IPY_MODEL_6999bb1fa6614840815a3e3e4b171892",
              "IPY_MODEL_380bde9e94b946b09908a07e998738af"
            ],
            "layout": "IPY_MODEL_b34dd78f2b4b41b29888743743db9125"
          }
        },
        "7e8bcf6082a94bec89385754203201c1": {
          "model_module": "@jupyter-widgets/controls",
          "model_name": "HTMLModel",
          "model_module_version": "1.5.0",
          "state": {
            "_dom_classes": [],
            "_model_module": "@jupyter-widgets/controls",
            "_model_module_version": "1.5.0",
            "_model_name": "HTMLModel",
            "_view_count": null,
            "_view_module": "@jupyter-widgets/controls",
            "_view_module_version": "1.5.0",
            "_view_name": "HTMLView",
            "description": "",
            "description_tooltip": null,
            "layout": "IPY_MODEL_ad2fa2c873f24fd0b94e9d23f6e3c9a1",
            "placeholder": "​",
            "style": "IPY_MODEL_9f5c415267dd4a52bfc8f4b092e069d2",
            "value": "Downloading (…)okenizer_config.json: 100%"
          }
        },
        "6999bb1fa6614840815a3e3e4b171892": {
          "model_module": "@jupyter-widgets/controls",
          "model_name": "FloatProgressModel",
          "model_module_version": "1.5.0",
          "state": {
            "_dom_classes": [],
            "_model_module": "@jupyter-widgets/controls",
            "_model_module_version": "1.5.0",
            "_model_name": "FloatProgressModel",
            "_view_count": null,
            "_view_module": "@jupyter-widgets/controls",
            "_view_module_version": "1.5.0",
            "_view_name": "ProgressView",
            "bar_style": "success",
            "description": "",
            "description_tooltip": null,
            "layout": "IPY_MODEL_e86b19c2158c444e8baf07f6cda041b4",
            "max": 28,
            "min": 0,
            "orientation": "horizontal",
            "style": "IPY_MODEL_55d6bfd0064d49959862f14fa79652a3",
            "value": 28
          }
        },
        "380bde9e94b946b09908a07e998738af": {
          "model_module": "@jupyter-widgets/controls",
          "model_name": "HTMLModel",
          "model_module_version": "1.5.0",
          "state": {
            "_dom_classes": [],
            "_model_module": "@jupyter-widgets/controls",
            "_model_module_version": "1.5.0",
            "_model_name": "HTMLModel",
            "_view_count": null,
            "_view_module": "@jupyter-widgets/controls",
            "_view_module_version": "1.5.0",
            "_view_name": "HTMLView",
            "description": "",
            "description_tooltip": null,
            "layout": "IPY_MODEL_8f8d4e8f85a543b7b8b0636c52c640ee",
            "placeholder": "​",
            "style": "IPY_MODEL_a5e4f63cb57b43ed90dacd5e0ce9e161",
            "value": " 28.0/28.0 [00:00&lt;00:00, 51.8B/s]"
          }
        },
        "b34dd78f2b4b41b29888743743db9125": {
          "model_module": "@jupyter-widgets/base",
          "model_name": "LayoutModel",
          "model_module_version": "1.2.0",
          "state": {
            "_model_module": "@jupyter-widgets/base",
            "_model_module_version": "1.2.0",
            "_model_name": "LayoutModel",
            "_view_count": null,
            "_view_module": "@jupyter-widgets/base",
            "_view_module_version": "1.2.0",
            "_view_name": "LayoutView",
            "align_content": null,
            "align_items": null,
            "align_self": null,
            "border": null,
            "bottom": null,
            "display": null,
            "flex": null,
            "flex_flow": null,
            "grid_area": null,
            "grid_auto_columns": null,
            "grid_auto_flow": null,
            "grid_auto_rows": null,
            "grid_column": null,
            "grid_gap": null,
            "grid_row": null,
            "grid_template_areas": null,
            "grid_template_columns": null,
            "grid_template_rows": null,
            "height": null,
            "justify_content": null,
            "justify_items": null,
            "left": null,
            "margin": null,
            "max_height": null,
            "max_width": null,
            "min_height": null,
            "min_width": null,
            "object_fit": null,
            "object_position": null,
            "order": null,
            "overflow": null,
            "overflow_x": null,
            "overflow_y": null,
            "padding": null,
            "right": null,
            "top": null,
            "visibility": null,
            "width": null
          }
        },
        "ad2fa2c873f24fd0b94e9d23f6e3c9a1": {
          "model_module": "@jupyter-widgets/base",
          "model_name": "LayoutModel",
          "model_module_version": "1.2.0",
          "state": {
            "_model_module": "@jupyter-widgets/base",
            "_model_module_version": "1.2.0",
            "_model_name": "LayoutModel",
            "_view_count": null,
            "_view_module": "@jupyter-widgets/base",
            "_view_module_version": "1.2.0",
            "_view_name": "LayoutView",
            "align_content": null,
            "align_items": null,
            "align_self": null,
            "border": null,
            "bottom": null,
            "display": null,
            "flex": null,
            "flex_flow": null,
            "grid_area": null,
            "grid_auto_columns": null,
            "grid_auto_flow": null,
            "grid_auto_rows": null,
            "grid_column": null,
            "grid_gap": null,
            "grid_row": null,
            "grid_template_areas": null,
            "grid_template_columns": null,
            "grid_template_rows": null,
            "height": null,
            "justify_content": null,
            "justify_items": null,
            "left": null,
            "margin": null,
            "max_height": null,
            "max_width": null,
            "min_height": null,
            "min_width": null,
            "object_fit": null,
            "object_position": null,
            "order": null,
            "overflow": null,
            "overflow_x": null,
            "overflow_y": null,
            "padding": null,
            "right": null,
            "top": null,
            "visibility": null,
            "width": null
          }
        },
        "9f5c415267dd4a52bfc8f4b092e069d2": {
          "model_module": "@jupyter-widgets/controls",
          "model_name": "DescriptionStyleModel",
          "model_module_version": "1.5.0",
          "state": {
            "_model_module": "@jupyter-widgets/controls",
            "_model_module_version": "1.5.0",
            "_model_name": "DescriptionStyleModel",
            "_view_count": null,
            "_view_module": "@jupyter-widgets/base",
            "_view_module_version": "1.2.0",
            "_view_name": "StyleView",
            "description_width": ""
          }
        },
        "e86b19c2158c444e8baf07f6cda041b4": {
          "model_module": "@jupyter-widgets/base",
          "model_name": "LayoutModel",
          "model_module_version": "1.2.0",
          "state": {
            "_model_module": "@jupyter-widgets/base",
            "_model_module_version": "1.2.0",
            "_model_name": "LayoutModel",
            "_view_count": null,
            "_view_module": "@jupyter-widgets/base",
            "_view_module_version": "1.2.0",
            "_view_name": "LayoutView",
            "align_content": null,
            "align_items": null,
            "align_self": null,
            "border": null,
            "bottom": null,
            "display": null,
            "flex": null,
            "flex_flow": null,
            "grid_area": null,
            "grid_auto_columns": null,
            "grid_auto_flow": null,
            "grid_auto_rows": null,
            "grid_column": null,
            "grid_gap": null,
            "grid_row": null,
            "grid_template_areas": null,
            "grid_template_columns": null,
            "grid_template_rows": null,
            "height": null,
            "justify_content": null,
            "justify_items": null,
            "left": null,
            "margin": null,
            "max_height": null,
            "max_width": null,
            "min_height": null,
            "min_width": null,
            "object_fit": null,
            "object_position": null,
            "order": null,
            "overflow": null,
            "overflow_x": null,
            "overflow_y": null,
            "padding": null,
            "right": null,
            "top": null,
            "visibility": null,
            "width": null
          }
        },
        "55d6bfd0064d49959862f14fa79652a3": {
          "model_module": "@jupyter-widgets/controls",
          "model_name": "ProgressStyleModel",
          "model_module_version": "1.5.0",
          "state": {
            "_model_module": "@jupyter-widgets/controls",
            "_model_module_version": "1.5.0",
            "_model_name": "ProgressStyleModel",
            "_view_count": null,
            "_view_module": "@jupyter-widgets/base",
            "_view_module_version": "1.2.0",
            "_view_name": "StyleView",
            "bar_color": null,
            "description_width": ""
          }
        },
        "8f8d4e8f85a543b7b8b0636c52c640ee": {
          "model_module": "@jupyter-widgets/base",
          "model_name": "LayoutModel",
          "model_module_version": "1.2.0",
          "state": {
            "_model_module": "@jupyter-widgets/base",
            "_model_module_version": "1.2.0",
            "_model_name": "LayoutModel",
            "_view_count": null,
            "_view_module": "@jupyter-widgets/base",
            "_view_module_version": "1.2.0",
            "_view_name": "LayoutView",
            "align_content": null,
            "align_items": null,
            "align_self": null,
            "border": null,
            "bottom": null,
            "display": null,
            "flex": null,
            "flex_flow": null,
            "grid_area": null,
            "grid_auto_columns": null,
            "grid_auto_flow": null,
            "grid_auto_rows": null,
            "grid_column": null,
            "grid_gap": null,
            "grid_row": null,
            "grid_template_areas": null,
            "grid_template_columns": null,
            "grid_template_rows": null,
            "height": null,
            "justify_content": null,
            "justify_items": null,
            "left": null,
            "margin": null,
            "max_height": null,
            "max_width": null,
            "min_height": null,
            "min_width": null,
            "object_fit": null,
            "object_position": null,
            "order": null,
            "overflow": null,
            "overflow_x": null,
            "overflow_y": null,
            "padding": null,
            "right": null,
            "top": null,
            "visibility": null,
            "width": null
          }
        },
        "a5e4f63cb57b43ed90dacd5e0ce9e161": {
          "model_module": "@jupyter-widgets/controls",
          "model_name": "DescriptionStyleModel",
          "model_module_version": "1.5.0",
          "state": {
            "_model_module": "@jupyter-widgets/controls",
            "_model_module_version": "1.5.0",
            "_model_name": "DescriptionStyleModel",
            "_view_count": null,
            "_view_module": "@jupyter-widgets/base",
            "_view_module_version": "1.2.0",
            "_view_name": "StyleView",
            "description_width": ""
          }
        }
      }
    }
  },
  "nbformat": 4,
  "nbformat_minor": 5
}
